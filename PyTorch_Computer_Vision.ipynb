{
  "nbformat": 4,
  "nbformat_minor": 0,
  "metadata": {
    "colab": {
      "provenance": [],
      "gpuType": "T4"
    },
    "kernelspec": {
      "name": "python3",
      "display_name": "Python 3"
    },
    "language_info": {
      "name": "python"
    },
    "accelerator": "GPU",
    "widgets": {
      "application/vnd.jupyter.widget-state+json": {
        "e2ba183dc8f0484e99ed0c893f30ab0f": {
          "model_module": "@jupyter-widgets/controls",
          "model_name": "HBoxModel",
          "model_module_version": "1.5.0",
          "state": {
            "_dom_classes": [],
            "_model_module": "@jupyter-widgets/controls",
            "_model_module_version": "1.5.0",
            "_model_name": "HBoxModel",
            "_view_count": null,
            "_view_module": "@jupyter-widgets/controls",
            "_view_module_version": "1.5.0",
            "_view_name": "HBoxView",
            "box_style": "",
            "children": [
              "IPY_MODEL_b0ec005613bf4cce906fc157e89c5bae",
              "IPY_MODEL_6f7e950cf0f84fdfaa573a603ab59fc2",
              "IPY_MODEL_9544772aeb0f4226b7734e46c55043b8"
            ],
            "layout": "IPY_MODEL_236698cfb8f44dd6913abc95b4e898d1"
          }
        },
        "b0ec005613bf4cce906fc157e89c5bae": {
          "model_module": "@jupyter-widgets/controls",
          "model_name": "HTMLModel",
          "model_module_version": "1.5.0",
          "state": {
            "_dom_classes": [],
            "_model_module": "@jupyter-widgets/controls",
            "_model_module_version": "1.5.0",
            "_model_name": "HTMLModel",
            "_view_count": null,
            "_view_module": "@jupyter-widgets/controls",
            "_view_module_version": "1.5.0",
            "_view_name": "HTMLView",
            "description": "",
            "description_tooltip": null,
            "layout": "IPY_MODEL_33a72b5d703d4299a320684ea8c8caf5",
            "placeholder": "​",
            "style": "IPY_MODEL_ff9fe14b9f7c4cd79510850d963c9211",
            "value": "100%"
          }
        },
        "6f7e950cf0f84fdfaa573a603ab59fc2": {
          "model_module": "@jupyter-widgets/controls",
          "model_name": "FloatProgressModel",
          "model_module_version": "1.5.0",
          "state": {
            "_dom_classes": [],
            "_model_module": "@jupyter-widgets/controls",
            "_model_module_version": "1.5.0",
            "_model_name": "FloatProgressModel",
            "_view_count": null,
            "_view_module": "@jupyter-widgets/controls",
            "_view_module_version": "1.5.0",
            "_view_name": "ProgressView",
            "bar_style": "success",
            "description": "",
            "description_tooltip": null,
            "layout": "IPY_MODEL_3992434755334c1eb6de8a8d89882910",
            "max": 3,
            "min": 0,
            "orientation": "horizontal",
            "style": "IPY_MODEL_488779edb29543268aa87d98c297a6d5",
            "value": 3
          }
        },
        "9544772aeb0f4226b7734e46c55043b8": {
          "model_module": "@jupyter-widgets/controls",
          "model_name": "HTMLModel",
          "model_module_version": "1.5.0",
          "state": {
            "_dom_classes": [],
            "_model_module": "@jupyter-widgets/controls",
            "_model_module_version": "1.5.0",
            "_model_name": "HTMLModel",
            "_view_count": null,
            "_view_module": "@jupyter-widgets/controls",
            "_view_module_version": "1.5.0",
            "_view_name": "HTMLView",
            "description": "",
            "description_tooltip": null,
            "layout": "IPY_MODEL_ce1d4a2424e04a8db66d4266c5f2c58d",
            "placeholder": "​",
            "style": "IPY_MODEL_05c536be3d894037823ae10574c24751",
            "value": " 3/3 [00:37&lt;00:00, 11.90s/it]"
          }
        },
        "236698cfb8f44dd6913abc95b4e898d1": {
          "model_module": "@jupyter-widgets/base",
          "model_name": "LayoutModel",
          "model_module_version": "1.2.0",
          "state": {
            "_model_module": "@jupyter-widgets/base",
            "_model_module_version": "1.2.0",
            "_model_name": "LayoutModel",
            "_view_count": null,
            "_view_module": "@jupyter-widgets/base",
            "_view_module_version": "1.2.0",
            "_view_name": "LayoutView",
            "align_content": null,
            "align_items": null,
            "align_self": null,
            "border": null,
            "bottom": null,
            "display": null,
            "flex": null,
            "flex_flow": null,
            "grid_area": null,
            "grid_auto_columns": null,
            "grid_auto_flow": null,
            "grid_auto_rows": null,
            "grid_column": null,
            "grid_gap": null,
            "grid_row": null,
            "grid_template_areas": null,
            "grid_template_columns": null,
            "grid_template_rows": null,
            "height": null,
            "justify_content": null,
            "justify_items": null,
            "left": null,
            "margin": null,
            "max_height": null,
            "max_width": null,
            "min_height": null,
            "min_width": null,
            "object_fit": null,
            "object_position": null,
            "order": null,
            "overflow": null,
            "overflow_x": null,
            "overflow_y": null,
            "padding": null,
            "right": null,
            "top": null,
            "visibility": null,
            "width": null
          }
        },
        "33a72b5d703d4299a320684ea8c8caf5": {
          "model_module": "@jupyter-widgets/base",
          "model_name": "LayoutModel",
          "model_module_version": "1.2.0",
          "state": {
            "_model_module": "@jupyter-widgets/base",
            "_model_module_version": "1.2.0",
            "_model_name": "LayoutModel",
            "_view_count": null,
            "_view_module": "@jupyter-widgets/base",
            "_view_module_version": "1.2.0",
            "_view_name": "LayoutView",
            "align_content": null,
            "align_items": null,
            "align_self": null,
            "border": null,
            "bottom": null,
            "display": null,
            "flex": null,
            "flex_flow": null,
            "grid_area": null,
            "grid_auto_columns": null,
            "grid_auto_flow": null,
            "grid_auto_rows": null,
            "grid_column": null,
            "grid_gap": null,
            "grid_row": null,
            "grid_template_areas": null,
            "grid_template_columns": null,
            "grid_template_rows": null,
            "height": null,
            "justify_content": null,
            "justify_items": null,
            "left": null,
            "margin": null,
            "max_height": null,
            "max_width": null,
            "min_height": null,
            "min_width": null,
            "object_fit": null,
            "object_position": null,
            "order": null,
            "overflow": null,
            "overflow_x": null,
            "overflow_y": null,
            "padding": null,
            "right": null,
            "top": null,
            "visibility": null,
            "width": null
          }
        },
        "ff9fe14b9f7c4cd79510850d963c9211": {
          "model_module": "@jupyter-widgets/controls",
          "model_name": "DescriptionStyleModel",
          "model_module_version": "1.5.0",
          "state": {
            "_model_module": "@jupyter-widgets/controls",
            "_model_module_version": "1.5.0",
            "_model_name": "DescriptionStyleModel",
            "_view_count": null,
            "_view_module": "@jupyter-widgets/base",
            "_view_module_version": "1.2.0",
            "_view_name": "StyleView",
            "description_width": ""
          }
        },
        "3992434755334c1eb6de8a8d89882910": {
          "model_module": "@jupyter-widgets/base",
          "model_name": "LayoutModel",
          "model_module_version": "1.2.0",
          "state": {
            "_model_module": "@jupyter-widgets/base",
            "_model_module_version": "1.2.0",
            "_model_name": "LayoutModel",
            "_view_count": null,
            "_view_module": "@jupyter-widgets/base",
            "_view_module_version": "1.2.0",
            "_view_name": "LayoutView",
            "align_content": null,
            "align_items": null,
            "align_self": null,
            "border": null,
            "bottom": null,
            "display": null,
            "flex": null,
            "flex_flow": null,
            "grid_area": null,
            "grid_auto_columns": null,
            "grid_auto_flow": null,
            "grid_auto_rows": null,
            "grid_column": null,
            "grid_gap": null,
            "grid_row": null,
            "grid_template_areas": null,
            "grid_template_columns": null,
            "grid_template_rows": null,
            "height": null,
            "justify_content": null,
            "justify_items": null,
            "left": null,
            "margin": null,
            "max_height": null,
            "max_width": null,
            "min_height": null,
            "min_width": null,
            "object_fit": null,
            "object_position": null,
            "order": null,
            "overflow": null,
            "overflow_x": null,
            "overflow_y": null,
            "padding": null,
            "right": null,
            "top": null,
            "visibility": null,
            "width": null
          }
        },
        "488779edb29543268aa87d98c297a6d5": {
          "model_module": "@jupyter-widgets/controls",
          "model_name": "ProgressStyleModel",
          "model_module_version": "1.5.0",
          "state": {
            "_model_module": "@jupyter-widgets/controls",
            "_model_module_version": "1.5.0",
            "_model_name": "ProgressStyleModel",
            "_view_count": null,
            "_view_module": "@jupyter-widgets/base",
            "_view_module_version": "1.2.0",
            "_view_name": "StyleView",
            "bar_color": null,
            "description_width": ""
          }
        },
        "ce1d4a2424e04a8db66d4266c5f2c58d": {
          "model_module": "@jupyter-widgets/base",
          "model_name": "LayoutModel",
          "model_module_version": "1.2.0",
          "state": {
            "_model_module": "@jupyter-widgets/base",
            "_model_module_version": "1.2.0",
            "_model_name": "LayoutModel",
            "_view_count": null,
            "_view_module": "@jupyter-widgets/base",
            "_view_module_version": "1.2.0",
            "_view_name": "LayoutView",
            "align_content": null,
            "align_items": null,
            "align_self": null,
            "border": null,
            "bottom": null,
            "display": null,
            "flex": null,
            "flex_flow": null,
            "grid_area": null,
            "grid_auto_columns": null,
            "grid_auto_flow": null,
            "grid_auto_rows": null,
            "grid_column": null,
            "grid_gap": null,
            "grid_row": null,
            "grid_template_areas": null,
            "grid_template_columns": null,
            "grid_template_rows": null,
            "height": null,
            "justify_content": null,
            "justify_items": null,
            "left": null,
            "margin": null,
            "max_height": null,
            "max_width": null,
            "min_height": null,
            "min_width": null,
            "object_fit": null,
            "object_position": null,
            "order": null,
            "overflow": null,
            "overflow_x": null,
            "overflow_y": null,
            "padding": null,
            "right": null,
            "top": null,
            "visibility": null,
            "width": null
          }
        },
        "05c536be3d894037823ae10574c24751": {
          "model_module": "@jupyter-widgets/controls",
          "model_name": "DescriptionStyleModel",
          "model_module_version": "1.5.0",
          "state": {
            "_model_module": "@jupyter-widgets/controls",
            "_model_module_version": "1.5.0",
            "_model_name": "DescriptionStyleModel",
            "_view_count": null,
            "_view_module": "@jupyter-widgets/base",
            "_view_module_version": "1.2.0",
            "_view_name": "StyleView",
            "description_width": ""
          }
        },
        "6ecf384d895c4bbe88530d6138bd61c5": {
          "model_module": "@jupyter-widgets/controls",
          "model_name": "HBoxModel",
          "model_module_version": "1.5.0",
          "state": {
            "_dom_classes": [],
            "_model_module": "@jupyter-widgets/controls",
            "_model_module_version": "1.5.0",
            "_model_name": "HBoxModel",
            "_view_count": null,
            "_view_module": "@jupyter-widgets/controls",
            "_view_module_version": "1.5.0",
            "_view_name": "HBoxView",
            "box_style": "",
            "children": [
              "IPY_MODEL_3abfef5259094877a9e326447f85a488",
              "IPY_MODEL_ba8297bb0296462dad59159723b8983b",
              "IPY_MODEL_a49ede123c904ab38864c4a6e1795a34"
            ],
            "layout": "IPY_MODEL_8390d620a75446079535e91879427819"
          }
        },
        "3abfef5259094877a9e326447f85a488": {
          "model_module": "@jupyter-widgets/controls",
          "model_name": "HTMLModel",
          "model_module_version": "1.5.0",
          "state": {
            "_dom_classes": [],
            "_model_module": "@jupyter-widgets/controls",
            "_model_module_version": "1.5.0",
            "_model_name": "HTMLModel",
            "_view_count": null,
            "_view_module": "@jupyter-widgets/controls",
            "_view_module_version": "1.5.0",
            "_view_name": "HTMLView",
            "description": "",
            "description_tooltip": null,
            "layout": "IPY_MODEL_b559055444394327ae770ed13b52749e",
            "placeholder": "​",
            "style": "IPY_MODEL_ab1f2bb85f6947abb533d6faf68dbc2c",
            "value": "100%"
          }
        },
        "ba8297bb0296462dad59159723b8983b": {
          "model_module": "@jupyter-widgets/controls",
          "model_name": "FloatProgressModel",
          "model_module_version": "1.5.0",
          "state": {
            "_dom_classes": [],
            "_model_module": "@jupyter-widgets/controls",
            "_model_module_version": "1.5.0",
            "_model_name": "FloatProgressModel",
            "_view_count": null,
            "_view_module": "@jupyter-widgets/controls",
            "_view_module_version": "1.5.0",
            "_view_name": "ProgressView",
            "bar_style": "success",
            "description": "",
            "description_tooltip": null,
            "layout": "IPY_MODEL_20cd8d1f673b4ae6b6e86e3214ae7750",
            "max": 313,
            "min": 0,
            "orientation": "horizontal",
            "style": "IPY_MODEL_5628b3dfcbd84d01a671848eaa7e02f7",
            "value": 313
          }
        },
        "a49ede123c904ab38864c4a6e1795a34": {
          "model_module": "@jupyter-widgets/controls",
          "model_name": "HTMLModel",
          "model_module_version": "1.5.0",
          "state": {
            "_dom_classes": [],
            "_model_module": "@jupyter-widgets/controls",
            "_model_module_version": "1.5.0",
            "_model_name": "HTMLModel",
            "_view_count": null,
            "_view_module": "@jupyter-widgets/controls",
            "_view_module_version": "1.5.0",
            "_view_name": "HTMLView",
            "description": "",
            "description_tooltip": null,
            "layout": "IPY_MODEL_a85a563c97f9446cae87805d78361ff2",
            "placeholder": "​",
            "style": "IPY_MODEL_b35fd35e21224242bd2257a5dabffaec",
            "value": " 313/313 [00:01&lt;00:00, 223.15it/s]"
          }
        },
        "8390d620a75446079535e91879427819": {
          "model_module": "@jupyter-widgets/base",
          "model_name": "LayoutModel",
          "model_module_version": "1.2.0",
          "state": {
            "_model_module": "@jupyter-widgets/base",
            "_model_module_version": "1.2.0",
            "_model_name": "LayoutModel",
            "_view_count": null,
            "_view_module": "@jupyter-widgets/base",
            "_view_module_version": "1.2.0",
            "_view_name": "LayoutView",
            "align_content": null,
            "align_items": null,
            "align_self": null,
            "border": null,
            "bottom": null,
            "display": null,
            "flex": null,
            "flex_flow": null,
            "grid_area": null,
            "grid_auto_columns": null,
            "grid_auto_flow": null,
            "grid_auto_rows": null,
            "grid_column": null,
            "grid_gap": null,
            "grid_row": null,
            "grid_template_areas": null,
            "grid_template_columns": null,
            "grid_template_rows": null,
            "height": null,
            "justify_content": null,
            "justify_items": null,
            "left": null,
            "margin": null,
            "max_height": null,
            "max_width": null,
            "min_height": null,
            "min_width": null,
            "object_fit": null,
            "object_position": null,
            "order": null,
            "overflow": null,
            "overflow_x": null,
            "overflow_y": null,
            "padding": null,
            "right": null,
            "top": null,
            "visibility": null,
            "width": null
          }
        },
        "b559055444394327ae770ed13b52749e": {
          "model_module": "@jupyter-widgets/base",
          "model_name": "LayoutModel",
          "model_module_version": "1.2.0",
          "state": {
            "_model_module": "@jupyter-widgets/base",
            "_model_module_version": "1.2.0",
            "_model_name": "LayoutModel",
            "_view_count": null,
            "_view_module": "@jupyter-widgets/base",
            "_view_module_version": "1.2.0",
            "_view_name": "LayoutView",
            "align_content": null,
            "align_items": null,
            "align_self": null,
            "border": null,
            "bottom": null,
            "display": null,
            "flex": null,
            "flex_flow": null,
            "grid_area": null,
            "grid_auto_columns": null,
            "grid_auto_flow": null,
            "grid_auto_rows": null,
            "grid_column": null,
            "grid_gap": null,
            "grid_row": null,
            "grid_template_areas": null,
            "grid_template_columns": null,
            "grid_template_rows": null,
            "height": null,
            "justify_content": null,
            "justify_items": null,
            "left": null,
            "margin": null,
            "max_height": null,
            "max_width": null,
            "min_height": null,
            "min_width": null,
            "object_fit": null,
            "object_position": null,
            "order": null,
            "overflow": null,
            "overflow_x": null,
            "overflow_y": null,
            "padding": null,
            "right": null,
            "top": null,
            "visibility": null,
            "width": null
          }
        },
        "ab1f2bb85f6947abb533d6faf68dbc2c": {
          "model_module": "@jupyter-widgets/controls",
          "model_name": "DescriptionStyleModel",
          "model_module_version": "1.5.0",
          "state": {
            "_model_module": "@jupyter-widgets/controls",
            "_model_module_version": "1.5.0",
            "_model_name": "DescriptionStyleModel",
            "_view_count": null,
            "_view_module": "@jupyter-widgets/base",
            "_view_module_version": "1.2.0",
            "_view_name": "StyleView",
            "description_width": ""
          }
        },
        "20cd8d1f673b4ae6b6e86e3214ae7750": {
          "model_module": "@jupyter-widgets/base",
          "model_name": "LayoutModel",
          "model_module_version": "1.2.0",
          "state": {
            "_model_module": "@jupyter-widgets/base",
            "_model_module_version": "1.2.0",
            "_model_name": "LayoutModel",
            "_view_count": null,
            "_view_module": "@jupyter-widgets/base",
            "_view_module_version": "1.2.0",
            "_view_name": "LayoutView",
            "align_content": null,
            "align_items": null,
            "align_self": null,
            "border": null,
            "bottom": null,
            "display": null,
            "flex": null,
            "flex_flow": null,
            "grid_area": null,
            "grid_auto_columns": null,
            "grid_auto_flow": null,
            "grid_auto_rows": null,
            "grid_column": null,
            "grid_gap": null,
            "grid_row": null,
            "grid_template_areas": null,
            "grid_template_columns": null,
            "grid_template_rows": null,
            "height": null,
            "justify_content": null,
            "justify_items": null,
            "left": null,
            "margin": null,
            "max_height": null,
            "max_width": null,
            "min_height": null,
            "min_width": null,
            "object_fit": null,
            "object_position": null,
            "order": null,
            "overflow": null,
            "overflow_x": null,
            "overflow_y": null,
            "padding": null,
            "right": null,
            "top": null,
            "visibility": null,
            "width": null
          }
        },
        "5628b3dfcbd84d01a671848eaa7e02f7": {
          "model_module": "@jupyter-widgets/controls",
          "model_name": "ProgressStyleModel",
          "model_module_version": "1.5.0",
          "state": {
            "_model_module": "@jupyter-widgets/controls",
            "_model_module_version": "1.5.0",
            "_model_name": "ProgressStyleModel",
            "_view_count": null,
            "_view_module": "@jupyter-widgets/base",
            "_view_module_version": "1.2.0",
            "_view_name": "StyleView",
            "bar_color": null,
            "description_width": ""
          }
        },
        "a85a563c97f9446cae87805d78361ff2": {
          "model_module": "@jupyter-widgets/base",
          "model_name": "LayoutModel",
          "model_module_version": "1.2.0",
          "state": {
            "_model_module": "@jupyter-widgets/base",
            "_model_module_version": "1.2.0",
            "_model_name": "LayoutModel",
            "_view_count": null,
            "_view_module": "@jupyter-widgets/base",
            "_view_module_version": "1.2.0",
            "_view_name": "LayoutView",
            "align_content": null,
            "align_items": null,
            "align_self": null,
            "border": null,
            "bottom": null,
            "display": null,
            "flex": null,
            "flex_flow": null,
            "grid_area": null,
            "grid_auto_columns": null,
            "grid_auto_flow": null,
            "grid_auto_rows": null,
            "grid_column": null,
            "grid_gap": null,
            "grid_row": null,
            "grid_template_areas": null,
            "grid_template_columns": null,
            "grid_template_rows": null,
            "height": null,
            "justify_content": null,
            "justify_items": null,
            "left": null,
            "margin": null,
            "max_height": null,
            "max_width": null,
            "min_height": null,
            "min_width": null,
            "object_fit": null,
            "object_position": null,
            "order": null,
            "overflow": null,
            "overflow_x": null,
            "overflow_y": null,
            "padding": null,
            "right": null,
            "top": null,
            "visibility": null,
            "width": null
          }
        },
        "b35fd35e21224242bd2257a5dabffaec": {
          "model_module": "@jupyter-widgets/controls",
          "model_name": "DescriptionStyleModel",
          "model_module_version": "1.5.0",
          "state": {
            "_model_module": "@jupyter-widgets/controls",
            "_model_module_version": "1.5.0",
            "_model_name": "DescriptionStyleModel",
            "_view_count": null,
            "_view_module": "@jupyter-widgets/base",
            "_view_module_version": "1.2.0",
            "_view_name": "StyleView",
            "description_width": ""
          }
        },
        "2a58436e13d94b3db08cd7809181d706": {
          "model_module": "@jupyter-widgets/controls",
          "model_name": "HBoxModel",
          "model_module_version": "1.5.0",
          "state": {
            "_dom_classes": [],
            "_model_module": "@jupyter-widgets/controls",
            "_model_module_version": "1.5.0",
            "_model_name": "HBoxModel",
            "_view_count": null,
            "_view_module": "@jupyter-widgets/controls",
            "_view_module_version": "1.5.0",
            "_view_name": "HBoxView",
            "box_style": "",
            "children": [
              "IPY_MODEL_790eb7bf91034c55a76092018225831c",
              "IPY_MODEL_f8f985af9a4542be9baf5eb635fe1729",
              "IPY_MODEL_f4fc84812d5642e49d6354ceb0171e5d"
            ],
            "layout": "IPY_MODEL_4ade2a0d5e354034b0d61f503f2811a0"
          }
        },
        "790eb7bf91034c55a76092018225831c": {
          "model_module": "@jupyter-widgets/controls",
          "model_name": "HTMLModel",
          "model_module_version": "1.5.0",
          "state": {
            "_dom_classes": [],
            "_model_module": "@jupyter-widgets/controls",
            "_model_module_version": "1.5.0",
            "_model_name": "HTMLModel",
            "_view_count": null,
            "_view_module": "@jupyter-widgets/controls",
            "_view_module_version": "1.5.0",
            "_view_name": "HTMLView",
            "description": "",
            "description_tooltip": null,
            "layout": "IPY_MODEL_646db80d79534afda7cb35f69f332196",
            "placeholder": "​",
            "style": "IPY_MODEL_7a08f71290d24c30ac386279e4f73403",
            "value": "100%"
          }
        },
        "f8f985af9a4542be9baf5eb635fe1729": {
          "model_module": "@jupyter-widgets/controls",
          "model_name": "FloatProgressModel",
          "model_module_version": "1.5.0",
          "state": {
            "_dom_classes": [],
            "_model_module": "@jupyter-widgets/controls",
            "_model_module_version": "1.5.0",
            "_model_name": "FloatProgressModel",
            "_view_count": null,
            "_view_module": "@jupyter-widgets/controls",
            "_view_module_version": "1.5.0",
            "_view_name": "ProgressView",
            "bar_style": "success",
            "description": "",
            "description_tooltip": null,
            "layout": "IPY_MODEL_1e87693c019c44e989e9ea1957db7add",
            "max": 3,
            "min": 0,
            "orientation": "horizontal",
            "style": "IPY_MODEL_0d177a7002c549f0bad90678f3100cba",
            "value": 3
          }
        },
        "f4fc84812d5642e49d6354ceb0171e5d": {
          "model_module": "@jupyter-widgets/controls",
          "model_name": "HTMLModel",
          "model_module_version": "1.5.0",
          "state": {
            "_dom_classes": [],
            "_model_module": "@jupyter-widgets/controls",
            "_model_module_version": "1.5.0",
            "_model_name": "HTMLModel",
            "_view_count": null,
            "_view_module": "@jupyter-widgets/controls",
            "_view_module_version": "1.5.0",
            "_view_name": "HTMLView",
            "description": "",
            "description_tooltip": null,
            "layout": "IPY_MODEL_07e768f334394ca98ca59e313459cabd",
            "placeholder": "​",
            "style": "IPY_MODEL_b03ba352490f48209bdda418be503b7a",
            "value": " 3/3 [00:37&lt;00:00, 12.60s/it]"
          }
        },
        "4ade2a0d5e354034b0d61f503f2811a0": {
          "model_module": "@jupyter-widgets/base",
          "model_name": "LayoutModel",
          "model_module_version": "1.2.0",
          "state": {
            "_model_module": "@jupyter-widgets/base",
            "_model_module_version": "1.2.0",
            "_model_name": "LayoutModel",
            "_view_count": null,
            "_view_module": "@jupyter-widgets/base",
            "_view_module_version": "1.2.0",
            "_view_name": "LayoutView",
            "align_content": null,
            "align_items": null,
            "align_self": null,
            "border": null,
            "bottom": null,
            "display": null,
            "flex": null,
            "flex_flow": null,
            "grid_area": null,
            "grid_auto_columns": null,
            "grid_auto_flow": null,
            "grid_auto_rows": null,
            "grid_column": null,
            "grid_gap": null,
            "grid_row": null,
            "grid_template_areas": null,
            "grid_template_columns": null,
            "grid_template_rows": null,
            "height": null,
            "justify_content": null,
            "justify_items": null,
            "left": null,
            "margin": null,
            "max_height": null,
            "max_width": null,
            "min_height": null,
            "min_width": null,
            "object_fit": null,
            "object_position": null,
            "order": null,
            "overflow": null,
            "overflow_x": null,
            "overflow_y": null,
            "padding": null,
            "right": null,
            "top": null,
            "visibility": null,
            "width": null
          }
        },
        "646db80d79534afda7cb35f69f332196": {
          "model_module": "@jupyter-widgets/base",
          "model_name": "LayoutModel",
          "model_module_version": "1.2.0",
          "state": {
            "_model_module": "@jupyter-widgets/base",
            "_model_module_version": "1.2.0",
            "_model_name": "LayoutModel",
            "_view_count": null,
            "_view_module": "@jupyter-widgets/base",
            "_view_module_version": "1.2.0",
            "_view_name": "LayoutView",
            "align_content": null,
            "align_items": null,
            "align_self": null,
            "border": null,
            "bottom": null,
            "display": null,
            "flex": null,
            "flex_flow": null,
            "grid_area": null,
            "grid_auto_columns": null,
            "grid_auto_flow": null,
            "grid_auto_rows": null,
            "grid_column": null,
            "grid_gap": null,
            "grid_row": null,
            "grid_template_areas": null,
            "grid_template_columns": null,
            "grid_template_rows": null,
            "height": null,
            "justify_content": null,
            "justify_items": null,
            "left": null,
            "margin": null,
            "max_height": null,
            "max_width": null,
            "min_height": null,
            "min_width": null,
            "object_fit": null,
            "object_position": null,
            "order": null,
            "overflow": null,
            "overflow_x": null,
            "overflow_y": null,
            "padding": null,
            "right": null,
            "top": null,
            "visibility": null,
            "width": null
          }
        },
        "7a08f71290d24c30ac386279e4f73403": {
          "model_module": "@jupyter-widgets/controls",
          "model_name": "DescriptionStyleModel",
          "model_module_version": "1.5.0",
          "state": {
            "_model_module": "@jupyter-widgets/controls",
            "_model_module_version": "1.5.0",
            "_model_name": "DescriptionStyleModel",
            "_view_count": null,
            "_view_module": "@jupyter-widgets/base",
            "_view_module_version": "1.2.0",
            "_view_name": "StyleView",
            "description_width": ""
          }
        },
        "1e87693c019c44e989e9ea1957db7add": {
          "model_module": "@jupyter-widgets/base",
          "model_name": "LayoutModel",
          "model_module_version": "1.2.0",
          "state": {
            "_model_module": "@jupyter-widgets/base",
            "_model_module_version": "1.2.0",
            "_model_name": "LayoutModel",
            "_view_count": null,
            "_view_module": "@jupyter-widgets/base",
            "_view_module_version": "1.2.0",
            "_view_name": "LayoutView",
            "align_content": null,
            "align_items": null,
            "align_self": null,
            "border": null,
            "bottom": null,
            "display": null,
            "flex": null,
            "flex_flow": null,
            "grid_area": null,
            "grid_auto_columns": null,
            "grid_auto_flow": null,
            "grid_auto_rows": null,
            "grid_column": null,
            "grid_gap": null,
            "grid_row": null,
            "grid_template_areas": null,
            "grid_template_columns": null,
            "grid_template_rows": null,
            "height": null,
            "justify_content": null,
            "justify_items": null,
            "left": null,
            "margin": null,
            "max_height": null,
            "max_width": null,
            "min_height": null,
            "min_width": null,
            "object_fit": null,
            "object_position": null,
            "order": null,
            "overflow": null,
            "overflow_x": null,
            "overflow_y": null,
            "padding": null,
            "right": null,
            "top": null,
            "visibility": null,
            "width": null
          }
        },
        "0d177a7002c549f0bad90678f3100cba": {
          "model_module": "@jupyter-widgets/controls",
          "model_name": "ProgressStyleModel",
          "model_module_version": "1.5.0",
          "state": {
            "_model_module": "@jupyter-widgets/controls",
            "_model_module_version": "1.5.0",
            "_model_name": "ProgressStyleModel",
            "_view_count": null,
            "_view_module": "@jupyter-widgets/base",
            "_view_module_version": "1.2.0",
            "_view_name": "StyleView",
            "bar_color": null,
            "description_width": ""
          }
        },
        "07e768f334394ca98ca59e313459cabd": {
          "model_module": "@jupyter-widgets/base",
          "model_name": "LayoutModel",
          "model_module_version": "1.2.0",
          "state": {
            "_model_module": "@jupyter-widgets/base",
            "_model_module_version": "1.2.0",
            "_model_name": "LayoutModel",
            "_view_count": null,
            "_view_module": "@jupyter-widgets/base",
            "_view_module_version": "1.2.0",
            "_view_name": "LayoutView",
            "align_content": null,
            "align_items": null,
            "align_self": null,
            "border": null,
            "bottom": null,
            "display": null,
            "flex": null,
            "flex_flow": null,
            "grid_area": null,
            "grid_auto_columns": null,
            "grid_auto_flow": null,
            "grid_auto_rows": null,
            "grid_column": null,
            "grid_gap": null,
            "grid_row": null,
            "grid_template_areas": null,
            "grid_template_columns": null,
            "grid_template_rows": null,
            "height": null,
            "justify_content": null,
            "justify_items": null,
            "left": null,
            "margin": null,
            "max_height": null,
            "max_width": null,
            "min_height": null,
            "min_width": null,
            "object_fit": null,
            "object_position": null,
            "order": null,
            "overflow": null,
            "overflow_x": null,
            "overflow_y": null,
            "padding": null,
            "right": null,
            "top": null,
            "visibility": null,
            "width": null
          }
        },
        "b03ba352490f48209bdda418be503b7a": {
          "model_module": "@jupyter-widgets/controls",
          "model_name": "DescriptionStyleModel",
          "model_module_version": "1.5.0",
          "state": {
            "_model_module": "@jupyter-widgets/controls",
            "_model_module_version": "1.5.0",
            "_model_name": "DescriptionStyleModel",
            "_view_count": null,
            "_view_module": "@jupyter-widgets/base",
            "_view_module_version": "1.2.0",
            "_view_name": "StyleView",
            "description_width": ""
          }
        },
        "f272b35c971b4de7a4faa843a4dccdc2": {
          "model_module": "@jupyter-widgets/controls",
          "model_name": "HBoxModel",
          "model_module_version": "1.5.0",
          "state": {
            "_dom_classes": [],
            "_model_module": "@jupyter-widgets/controls",
            "_model_module_version": "1.5.0",
            "_model_name": "HBoxModel",
            "_view_count": null,
            "_view_module": "@jupyter-widgets/controls",
            "_view_module_version": "1.5.0",
            "_view_name": "HBoxView",
            "box_style": "",
            "children": [
              "IPY_MODEL_a2f13a702de644b7b258ad398dbcd8b5",
              "IPY_MODEL_fdca7709d0f045f78b28258347009380",
              "IPY_MODEL_0af67b850fc24e99b8fbca7b56f6996b"
            ],
            "layout": "IPY_MODEL_f16732b64ca84468b5f5a8584513891d"
          }
        },
        "a2f13a702de644b7b258ad398dbcd8b5": {
          "model_module": "@jupyter-widgets/controls",
          "model_name": "HTMLModel",
          "model_module_version": "1.5.0",
          "state": {
            "_dom_classes": [],
            "_model_module": "@jupyter-widgets/controls",
            "_model_module_version": "1.5.0",
            "_model_name": "HTMLModel",
            "_view_count": null,
            "_view_module": "@jupyter-widgets/controls",
            "_view_module_version": "1.5.0",
            "_view_name": "HTMLView",
            "description": "",
            "description_tooltip": null,
            "layout": "IPY_MODEL_9ed235a7630c42c7b2bffff72677f4cd",
            "placeholder": "​",
            "style": "IPY_MODEL_62f4bab93a884cc484885aea3ebb923a",
            "value": "100%"
          }
        },
        "fdca7709d0f045f78b28258347009380": {
          "model_module": "@jupyter-widgets/controls",
          "model_name": "FloatProgressModel",
          "model_module_version": "1.5.0",
          "state": {
            "_dom_classes": [],
            "_model_module": "@jupyter-widgets/controls",
            "_model_module_version": "1.5.0",
            "_model_name": "FloatProgressModel",
            "_view_count": null,
            "_view_module": "@jupyter-widgets/controls",
            "_view_module_version": "1.5.0",
            "_view_name": "ProgressView",
            "bar_style": "success",
            "description": "",
            "description_tooltip": null,
            "layout": "IPY_MODEL_3e4c5f2df6494def8c993229d65aca30",
            "max": 3,
            "min": 0,
            "orientation": "horizontal",
            "style": "IPY_MODEL_4046eb218b0c4b06989d9aced52444df",
            "value": 3
          }
        },
        "0af67b850fc24e99b8fbca7b56f6996b": {
          "model_module": "@jupyter-widgets/controls",
          "model_name": "HTMLModel",
          "model_module_version": "1.5.0",
          "state": {
            "_dom_classes": [],
            "_model_module": "@jupyter-widgets/controls",
            "_model_module_version": "1.5.0",
            "_model_name": "HTMLModel",
            "_view_count": null,
            "_view_module": "@jupyter-widgets/controls",
            "_view_module_version": "1.5.0",
            "_view_name": "HTMLView",
            "description": "",
            "description_tooltip": null,
            "layout": "IPY_MODEL_10b5b27c9968476f9eb637af5a74619a",
            "placeholder": "​",
            "style": "IPY_MODEL_fd6afcfa72274ce4bbd6ac80480b8b07",
            "value": " 3/3 [01:35&lt;00:00, 31.74s/it]"
          }
        },
        "f16732b64ca84468b5f5a8584513891d": {
          "model_module": "@jupyter-widgets/base",
          "model_name": "LayoutModel",
          "model_module_version": "1.2.0",
          "state": {
            "_model_module": "@jupyter-widgets/base",
            "_model_module_version": "1.2.0",
            "_model_name": "LayoutModel",
            "_view_count": null,
            "_view_module": "@jupyter-widgets/base",
            "_view_module_version": "1.2.0",
            "_view_name": "LayoutView",
            "align_content": null,
            "align_items": null,
            "align_self": null,
            "border": null,
            "bottom": null,
            "display": null,
            "flex": null,
            "flex_flow": null,
            "grid_area": null,
            "grid_auto_columns": null,
            "grid_auto_flow": null,
            "grid_auto_rows": null,
            "grid_column": null,
            "grid_gap": null,
            "grid_row": null,
            "grid_template_areas": null,
            "grid_template_columns": null,
            "grid_template_rows": null,
            "height": null,
            "justify_content": null,
            "justify_items": null,
            "left": null,
            "margin": null,
            "max_height": null,
            "max_width": null,
            "min_height": null,
            "min_width": null,
            "object_fit": null,
            "object_position": null,
            "order": null,
            "overflow": null,
            "overflow_x": null,
            "overflow_y": null,
            "padding": null,
            "right": null,
            "top": null,
            "visibility": null,
            "width": null
          }
        },
        "9ed235a7630c42c7b2bffff72677f4cd": {
          "model_module": "@jupyter-widgets/base",
          "model_name": "LayoutModel",
          "model_module_version": "1.2.0",
          "state": {
            "_model_module": "@jupyter-widgets/base",
            "_model_module_version": "1.2.0",
            "_model_name": "LayoutModel",
            "_view_count": null,
            "_view_module": "@jupyter-widgets/base",
            "_view_module_version": "1.2.0",
            "_view_name": "LayoutView",
            "align_content": null,
            "align_items": null,
            "align_self": null,
            "border": null,
            "bottom": null,
            "display": null,
            "flex": null,
            "flex_flow": null,
            "grid_area": null,
            "grid_auto_columns": null,
            "grid_auto_flow": null,
            "grid_auto_rows": null,
            "grid_column": null,
            "grid_gap": null,
            "grid_row": null,
            "grid_template_areas": null,
            "grid_template_columns": null,
            "grid_template_rows": null,
            "height": null,
            "justify_content": null,
            "justify_items": null,
            "left": null,
            "margin": null,
            "max_height": null,
            "max_width": null,
            "min_height": null,
            "min_width": null,
            "object_fit": null,
            "object_position": null,
            "order": null,
            "overflow": null,
            "overflow_x": null,
            "overflow_y": null,
            "padding": null,
            "right": null,
            "top": null,
            "visibility": null,
            "width": null
          }
        },
        "62f4bab93a884cc484885aea3ebb923a": {
          "model_module": "@jupyter-widgets/controls",
          "model_name": "DescriptionStyleModel",
          "model_module_version": "1.5.0",
          "state": {
            "_model_module": "@jupyter-widgets/controls",
            "_model_module_version": "1.5.0",
            "_model_name": "DescriptionStyleModel",
            "_view_count": null,
            "_view_module": "@jupyter-widgets/base",
            "_view_module_version": "1.2.0",
            "_view_name": "StyleView",
            "description_width": ""
          }
        },
        "3e4c5f2df6494def8c993229d65aca30": {
          "model_module": "@jupyter-widgets/base",
          "model_name": "LayoutModel",
          "model_module_version": "1.2.0",
          "state": {
            "_model_module": "@jupyter-widgets/base",
            "_model_module_version": "1.2.0",
            "_model_name": "LayoutModel",
            "_view_count": null,
            "_view_module": "@jupyter-widgets/base",
            "_view_module_version": "1.2.0",
            "_view_name": "LayoutView",
            "align_content": null,
            "align_items": null,
            "align_self": null,
            "border": null,
            "bottom": null,
            "display": null,
            "flex": null,
            "flex_flow": null,
            "grid_area": null,
            "grid_auto_columns": null,
            "grid_auto_flow": null,
            "grid_auto_rows": null,
            "grid_column": null,
            "grid_gap": null,
            "grid_row": null,
            "grid_template_areas": null,
            "grid_template_columns": null,
            "grid_template_rows": null,
            "height": null,
            "justify_content": null,
            "justify_items": null,
            "left": null,
            "margin": null,
            "max_height": null,
            "max_width": null,
            "min_height": null,
            "min_width": null,
            "object_fit": null,
            "object_position": null,
            "order": null,
            "overflow": null,
            "overflow_x": null,
            "overflow_y": null,
            "padding": null,
            "right": null,
            "top": null,
            "visibility": null,
            "width": null
          }
        },
        "4046eb218b0c4b06989d9aced52444df": {
          "model_module": "@jupyter-widgets/controls",
          "model_name": "ProgressStyleModel",
          "model_module_version": "1.5.0",
          "state": {
            "_model_module": "@jupyter-widgets/controls",
            "_model_module_version": "1.5.0",
            "_model_name": "ProgressStyleModel",
            "_view_count": null,
            "_view_module": "@jupyter-widgets/base",
            "_view_module_version": "1.2.0",
            "_view_name": "StyleView",
            "bar_color": null,
            "description_width": ""
          }
        },
        "10b5b27c9968476f9eb637af5a74619a": {
          "model_module": "@jupyter-widgets/base",
          "model_name": "LayoutModel",
          "model_module_version": "1.2.0",
          "state": {
            "_model_module": "@jupyter-widgets/base",
            "_model_module_version": "1.2.0",
            "_model_name": "LayoutModel",
            "_view_count": null,
            "_view_module": "@jupyter-widgets/base",
            "_view_module_version": "1.2.0",
            "_view_name": "LayoutView",
            "align_content": null,
            "align_items": null,
            "align_self": null,
            "border": null,
            "bottom": null,
            "display": null,
            "flex": null,
            "flex_flow": null,
            "grid_area": null,
            "grid_auto_columns": null,
            "grid_auto_flow": null,
            "grid_auto_rows": null,
            "grid_column": null,
            "grid_gap": null,
            "grid_row": null,
            "grid_template_areas": null,
            "grid_template_columns": null,
            "grid_template_rows": null,
            "height": null,
            "justify_content": null,
            "justify_items": null,
            "left": null,
            "margin": null,
            "max_height": null,
            "max_width": null,
            "min_height": null,
            "min_width": null,
            "object_fit": null,
            "object_position": null,
            "order": null,
            "overflow": null,
            "overflow_x": null,
            "overflow_y": null,
            "padding": null,
            "right": null,
            "top": null,
            "visibility": null,
            "width": null
          }
        },
        "fd6afcfa72274ce4bbd6ac80480b8b07": {
          "model_module": "@jupyter-widgets/controls",
          "model_name": "DescriptionStyleModel",
          "model_module_version": "1.5.0",
          "state": {
            "_model_module": "@jupyter-widgets/controls",
            "_model_module_version": "1.5.0",
            "_model_name": "DescriptionStyleModel",
            "_view_count": null,
            "_view_module": "@jupyter-widgets/base",
            "_view_module_version": "1.2.0",
            "_view_name": "StyleView",
            "description_width": ""
          }
        },
        "260ff88f63114ebdb471c02184d9107b": {
          "model_module": "@jupyter-widgets/controls",
          "model_name": "HBoxModel",
          "model_module_version": "1.5.0",
          "state": {
            "_dom_classes": [],
            "_model_module": "@jupyter-widgets/controls",
            "_model_module_version": "1.5.0",
            "_model_name": "HBoxModel",
            "_view_count": null,
            "_view_module": "@jupyter-widgets/controls",
            "_view_module_version": "1.5.0",
            "_view_name": "HBoxView",
            "box_style": "",
            "children": [
              "IPY_MODEL_8ae182cf8a674c74a8695d3f96c5d2a6",
              "IPY_MODEL_673cbe205a9d4106964b40ef73fa7a7b",
              "IPY_MODEL_a7e7fd8c13394c1381e6d2079a3ae29a"
            ],
            "layout": "IPY_MODEL_51ad0f61169b487a8ea82a932d65cf29"
          }
        },
        "8ae182cf8a674c74a8695d3f96c5d2a6": {
          "model_module": "@jupyter-widgets/controls",
          "model_name": "HTMLModel",
          "model_module_version": "1.5.0",
          "state": {
            "_dom_classes": [],
            "_model_module": "@jupyter-widgets/controls",
            "_model_module_version": "1.5.0",
            "_model_name": "HTMLModel",
            "_view_count": null,
            "_view_module": "@jupyter-widgets/controls",
            "_view_module_version": "1.5.0",
            "_view_name": "HTMLView",
            "description": "",
            "description_tooltip": null,
            "layout": "IPY_MODEL_4a71b670b61f40e29b1619e3289a22a1",
            "placeholder": "​",
            "style": "IPY_MODEL_0a1986bed2eb49e1bf5f2cf2e1adf0da",
            "value": "Making prediction...: 100%"
          }
        },
        "673cbe205a9d4106964b40ef73fa7a7b": {
          "model_module": "@jupyter-widgets/controls",
          "model_name": "FloatProgressModel",
          "model_module_version": "1.5.0",
          "state": {
            "_dom_classes": [],
            "_model_module": "@jupyter-widgets/controls",
            "_model_module_version": "1.5.0",
            "_model_name": "FloatProgressModel",
            "_view_count": null,
            "_view_module": "@jupyter-widgets/controls",
            "_view_module_version": "1.5.0",
            "_view_name": "ProgressView",
            "bar_style": "success",
            "description": "",
            "description_tooltip": null,
            "layout": "IPY_MODEL_3e599e3279f644cc99237cc2d116dc35",
            "max": 313,
            "min": 0,
            "orientation": "horizontal",
            "style": "IPY_MODEL_7826f52f14cd448a948147ae1727d4f8",
            "value": 313
          }
        },
        "a7e7fd8c13394c1381e6d2079a3ae29a": {
          "model_module": "@jupyter-widgets/controls",
          "model_name": "HTMLModel",
          "model_module_version": "1.5.0",
          "state": {
            "_dom_classes": [],
            "_model_module": "@jupyter-widgets/controls",
            "_model_module_version": "1.5.0",
            "_model_name": "HTMLModel",
            "_view_count": null,
            "_view_module": "@jupyter-widgets/controls",
            "_view_module_version": "1.5.0",
            "_view_name": "HTMLView",
            "description": "",
            "description_tooltip": null,
            "layout": "IPY_MODEL_ef1793e64b9f466a8e25883c9fa5d11e",
            "placeholder": "​",
            "style": "IPY_MODEL_e5378d1e8b6e4c4fbcb8351c482c8e60",
            "value": " 313/313 [00:02&lt;00:00, 109.87it/s]"
          }
        },
        "51ad0f61169b487a8ea82a932d65cf29": {
          "model_module": "@jupyter-widgets/base",
          "model_name": "LayoutModel",
          "model_module_version": "1.2.0",
          "state": {
            "_model_module": "@jupyter-widgets/base",
            "_model_module_version": "1.2.0",
            "_model_name": "LayoutModel",
            "_view_count": null,
            "_view_module": "@jupyter-widgets/base",
            "_view_module_version": "1.2.0",
            "_view_name": "LayoutView",
            "align_content": null,
            "align_items": null,
            "align_self": null,
            "border": null,
            "bottom": null,
            "display": null,
            "flex": null,
            "flex_flow": null,
            "grid_area": null,
            "grid_auto_columns": null,
            "grid_auto_flow": null,
            "grid_auto_rows": null,
            "grid_column": null,
            "grid_gap": null,
            "grid_row": null,
            "grid_template_areas": null,
            "grid_template_columns": null,
            "grid_template_rows": null,
            "height": null,
            "justify_content": null,
            "justify_items": null,
            "left": null,
            "margin": null,
            "max_height": null,
            "max_width": null,
            "min_height": null,
            "min_width": null,
            "object_fit": null,
            "object_position": null,
            "order": null,
            "overflow": null,
            "overflow_x": null,
            "overflow_y": null,
            "padding": null,
            "right": null,
            "top": null,
            "visibility": null,
            "width": null
          }
        },
        "4a71b670b61f40e29b1619e3289a22a1": {
          "model_module": "@jupyter-widgets/base",
          "model_name": "LayoutModel",
          "model_module_version": "1.2.0",
          "state": {
            "_model_module": "@jupyter-widgets/base",
            "_model_module_version": "1.2.0",
            "_model_name": "LayoutModel",
            "_view_count": null,
            "_view_module": "@jupyter-widgets/base",
            "_view_module_version": "1.2.0",
            "_view_name": "LayoutView",
            "align_content": null,
            "align_items": null,
            "align_self": null,
            "border": null,
            "bottom": null,
            "display": null,
            "flex": null,
            "flex_flow": null,
            "grid_area": null,
            "grid_auto_columns": null,
            "grid_auto_flow": null,
            "grid_auto_rows": null,
            "grid_column": null,
            "grid_gap": null,
            "grid_row": null,
            "grid_template_areas": null,
            "grid_template_columns": null,
            "grid_template_rows": null,
            "height": null,
            "justify_content": null,
            "justify_items": null,
            "left": null,
            "margin": null,
            "max_height": null,
            "max_width": null,
            "min_height": null,
            "min_width": null,
            "object_fit": null,
            "object_position": null,
            "order": null,
            "overflow": null,
            "overflow_x": null,
            "overflow_y": null,
            "padding": null,
            "right": null,
            "top": null,
            "visibility": null,
            "width": null
          }
        },
        "0a1986bed2eb49e1bf5f2cf2e1adf0da": {
          "model_module": "@jupyter-widgets/controls",
          "model_name": "DescriptionStyleModel",
          "model_module_version": "1.5.0",
          "state": {
            "_model_module": "@jupyter-widgets/controls",
            "_model_module_version": "1.5.0",
            "_model_name": "DescriptionStyleModel",
            "_view_count": null,
            "_view_module": "@jupyter-widgets/base",
            "_view_module_version": "1.2.0",
            "_view_name": "StyleView",
            "description_width": ""
          }
        },
        "3e599e3279f644cc99237cc2d116dc35": {
          "model_module": "@jupyter-widgets/base",
          "model_name": "LayoutModel",
          "model_module_version": "1.2.0",
          "state": {
            "_model_module": "@jupyter-widgets/base",
            "_model_module_version": "1.2.0",
            "_model_name": "LayoutModel",
            "_view_count": null,
            "_view_module": "@jupyter-widgets/base",
            "_view_module_version": "1.2.0",
            "_view_name": "LayoutView",
            "align_content": null,
            "align_items": null,
            "align_self": null,
            "border": null,
            "bottom": null,
            "display": null,
            "flex": null,
            "flex_flow": null,
            "grid_area": null,
            "grid_auto_columns": null,
            "grid_auto_flow": null,
            "grid_auto_rows": null,
            "grid_column": null,
            "grid_gap": null,
            "grid_row": null,
            "grid_template_areas": null,
            "grid_template_columns": null,
            "grid_template_rows": null,
            "height": null,
            "justify_content": null,
            "justify_items": null,
            "left": null,
            "margin": null,
            "max_height": null,
            "max_width": null,
            "min_height": null,
            "min_width": null,
            "object_fit": null,
            "object_position": null,
            "order": null,
            "overflow": null,
            "overflow_x": null,
            "overflow_y": null,
            "padding": null,
            "right": null,
            "top": null,
            "visibility": null,
            "width": null
          }
        },
        "7826f52f14cd448a948147ae1727d4f8": {
          "model_module": "@jupyter-widgets/controls",
          "model_name": "ProgressStyleModel",
          "model_module_version": "1.5.0",
          "state": {
            "_model_module": "@jupyter-widgets/controls",
            "_model_module_version": "1.5.0",
            "_model_name": "ProgressStyleModel",
            "_view_count": null,
            "_view_module": "@jupyter-widgets/base",
            "_view_module_version": "1.2.0",
            "_view_name": "StyleView",
            "bar_color": null,
            "description_width": ""
          }
        },
        "ef1793e64b9f466a8e25883c9fa5d11e": {
          "model_module": "@jupyter-widgets/base",
          "model_name": "LayoutModel",
          "model_module_version": "1.2.0",
          "state": {
            "_model_module": "@jupyter-widgets/base",
            "_model_module_version": "1.2.0",
            "_model_name": "LayoutModel",
            "_view_count": null,
            "_view_module": "@jupyter-widgets/base",
            "_view_module_version": "1.2.0",
            "_view_name": "LayoutView",
            "align_content": null,
            "align_items": null,
            "align_self": null,
            "border": null,
            "bottom": null,
            "display": null,
            "flex": null,
            "flex_flow": null,
            "grid_area": null,
            "grid_auto_columns": null,
            "grid_auto_flow": null,
            "grid_auto_rows": null,
            "grid_column": null,
            "grid_gap": null,
            "grid_row": null,
            "grid_template_areas": null,
            "grid_template_columns": null,
            "grid_template_rows": null,
            "height": null,
            "justify_content": null,
            "justify_items": null,
            "left": null,
            "margin": null,
            "max_height": null,
            "max_width": null,
            "min_height": null,
            "min_width": null,
            "object_fit": null,
            "object_position": null,
            "order": null,
            "overflow": null,
            "overflow_x": null,
            "overflow_y": null,
            "padding": null,
            "right": null,
            "top": null,
            "visibility": null,
            "width": null
          }
        },
        "e5378d1e8b6e4c4fbcb8351c482c8e60": {
          "model_module": "@jupyter-widgets/controls",
          "model_name": "DescriptionStyleModel",
          "model_module_version": "1.5.0",
          "state": {
            "_model_module": "@jupyter-widgets/controls",
            "_model_module_version": "1.5.0",
            "_model_name": "DescriptionStyleModel",
            "_view_count": null,
            "_view_module": "@jupyter-widgets/base",
            "_view_module_version": "1.2.0",
            "_view_name": "StyleView",
            "description_width": ""
          }
        }
      }
    }
  },
  "cells": [
    {
      "cell_type": "code",
      "execution_count": null,
      "metadata": {
        "colab": {
          "base_uri": "https://localhost:8080/"
        },
        "id": "UvQEoLs3Db9t",
        "outputId": "1fb06670-ab14-495f-f487-69734278ce32"
      },
      "outputs": [
        {
          "output_type": "stream",
          "name": "stdout",
          "text": [
            "2.6.0+cu124\n",
            "0.21.0+cu124\n",
            "Using cpu device\n"
          ]
        }
      ],
      "source": [
        "import torch\n",
        "from torch import nn\n",
        "\n",
        "import torchvision\n",
        "from torchvision import datasets\n",
        "from torchvision.transforms import ToTensor\n",
        "\n",
        "\n",
        "import matplotlib.pyplot as plt\n",
        "print(torch.__version__)\n",
        "print(torchvision.__version__)\n",
        "device = 'cuda' if torch.cuda.is_available() else 'cpu'\n",
        "print(f'Using {device} device')"
      ]
    },
    {
      "cell_type": "code",
      "source": [
        "from torchvision import datasets\n",
        "\n",
        "train_data = datasets.FashionMNIST(\n",
        "    root='data',\n",
        "    train=True,\n",
        "    download=True,\n",
        "    transform=torchvision.transforms.ToTensor(),\n",
        "    target_transform=None\n",
        ")\n",
        "\n",
        "test_data = datasets.FashionMNIST(\n",
        "    root='data',\n",
        "    train=False,\n",
        "    download=True,\n",
        "    transform=torchvision.transforms.ToTensor(),\n",
        "    target_transform=None\n",
        ")"
      ],
      "metadata": {
        "id": "lSphHKLLL_qE"
      },
      "execution_count": null,
      "outputs": []
    },
    {
      "cell_type": "code",
      "source": [
        "len(train_data), len(test_data)"
      ],
      "metadata": {
        "colab": {
          "base_uri": "https://localhost:8080/"
        },
        "id": "zzGgtIgdNmDm",
        "outputId": "39861554-72cc-4d8c-e267-80bbadd7e2d9"
      },
      "execution_count": null,
      "outputs": [
        {
          "output_type": "execute_result",
          "data": {
            "text/plain": [
              "(60000, 10000)"
            ]
          },
          "metadata": {},
          "execution_count": 119
        }
      ]
    },
    {
      "cell_type": "code",
      "source": [
        "image, label = train_data[0]\n",
        "image, label"
      ],
      "metadata": {
        "colab": {
          "base_uri": "https://localhost:8080/"
        },
        "id": "rfIBiGj-NmAF",
        "outputId": "7241c62f-c32d-4f9f-d18f-f749877becb4"
      },
      "execution_count": null,
      "outputs": [
        {
          "output_type": "execute_result",
          "data": {
            "text/plain": [
              "(tensor([[[0.0000, 0.0000, 0.0000, 0.0000, 0.0000, 0.0000, 0.0000, 0.0000,\n",
              "           0.0000, 0.0000, 0.0000, 0.0000, 0.0000, 0.0000, 0.0000, 0.0000,\n",
              "           0.0000, 0.0000, 0.0000, 0.0000, 0.0000, 0.0000, 0.0000, 0.0000,\n",
              "           0.0000, 0.0000, 0.0000, 0.0000],\n",
              "          [0.0000, 0.0000, 0.0000, 0.0000, 0.0000, 0.0000, 0.0000, 0.0000,\n",
              "           0.0000, 0.0000, 0.0000, 0.0000, 0.0000, 0.0000, 0.0000, 0.0000,\n",
              "           0.0000, 0.0000, 0.0000, 0.0000, 0.0000, 0.0000, 0.0000, 0.0000,\n",
              "           0.0000, 0.0000, 0.0000, 0.0000],\n",
              "          [0.0000, 0.0000, 0.0000, 0.0000, 0.0000, 0.0000, 0.0000, 0.0000,\n",
              "           0.0000, 0.0000, 0.0000, 0.0000, 0.0000, 0.0000, 0.0000, 0.0000,\n",
              "           0.0000, 0.0000, 0.0000, 0.0000, 0.0000, 0.0000, 0.0000, 0.0000,\n",
              "           0.0000, 0.0000, 0.0000, 0.0000],\n",
              "          [0.0000, 0.0000, 0.0000, 0.0000, 0.0000, 0.0000, 0.0000, 0.0000,\n",
              "           0.0000, 0.0000, 0.0000, 0.0000, 0.0039, 0.0000, 0.0000, 0.0510,\n",
              "           0.2863, 0.0000, 0.0000, 0.0039, 0.0157, 0.0000, 0.0000, 0.0000,\n",
              "           0.0000, 0.0039, 0.0039, 0.0000],\n",
              "          [0.0000, 0.0000, 0.0000, 0.0000, 0.0000, 0.0000, 0.0000, 0.0000,\n",
              "           0.0000, 0.0000, 0.0000, 0.0000, 0.0118, 0.0000, 0.1412, 0.5333,\n",
              "           0.4980, 0.2431, 0.2118, 0.0000, 0.0000, 0.0000, 0.0039, 0.0118,\n",
              "           0.0157, 0.0000, 0.0000, 0.0118],\n",
              "          [0.0000, 0.0000, 0.0000, 0.0000, 0.0000, 0.0000, 0.0000, 0.0000,\n",
              "           0.0000, 0.0000, 0.0000, 0.0000, 0.0235, 0.0000, 0.4000, 0.8000,\n",
              "           0.6902, 0.5255, 0.5647, 0.4824, 0.0902, 0.0000, 0.0000, 0.0000,\n",
              "           0.0000, 0.0471, 0.0392, 0.0000],\n",
              "          [0.0000, 0.0000, 0.0000, 0.0000, 0.0000, 0.0000, 0.0000, 0.0000,\n",
              "           0.0000, 0.0000, 0.0000, 0.0000, 0.0000, 0.0000, 0.6078, 0.9255,\n",
              "           0.8118, 0.6980, 0.4196, 0.6118, 0.6314, 0.4275, 0.2510, 0.0902,\n",
              "           0.3020, 0.5098, 0.2824, 0.0588],\n",
              "          [0.0000, 0.0000, 0.0000, 0.0000, 0.0000, 0.0000, 0.0000, 0.0000,\n",
              "           0.0000, 0.0000, 0.0000, 0.0039, 0.0000, 0.2706, 0.8118, 0.8745,\n",
              "           0.8549, 0.8471, 0.8471, 0.6392, 0.4980, 0.4745, 0.4784, 0.5725,\n",
              "           0.5529, 0.3451, 0.6745, 0.2588],\n",
              "          [0.0000, 0.0000, 0.0000, 0.0000, 0.0000, 0.0000, 0.0000, 0.0000,\n",
              "           0.0000, 0.0039, 0.0039, 0.0039, 0.0000, 0.7843, 0.9098, 0.9098,\n",
              "           0.9137, 0.8980, 0.8745, 0.8745, 0.8431, 0.8353, 0.6431, 0.4980,\n",
              "           0.4824, 0.7686, 0.8980, 0.0000],\n",
              "          [0.0000, 0.0000, 0.0000, 0.0000, 0.0000, 0.0000, 0.0000, 0.0000,\n",
              "           0.0000, 0.0000, 0.0000, 0.0000, 0.0000, 0.7176, 0.8824, 0.8471,\n",
              "           0.8745, 0.8941, 0.9216, 0.8902, 0.8784, 0.8706, 0.8784, 0.8667,\n",
              "           0.8745, 0.9608, 0.6784, 0.0000],\n",
              "          [0.0000, 0.0000, 0.0000, 0.0000, 0.0000, 0.0000, 0.0000, 0.0000,\n",
              "           0.0000, 0.0000, 0.0000, 0.0000, 0.0000, 0.7569, 0.8941, 0.8549,\n",
              "           0.8353, 0.7765, 0.7059, 0.8314, 0.8235, 0.8275, 0.8353, 0.8745,\n",
              "           0.8627, 0.9529, 0.7922, 0.0000],\n",
              "          [0.0000, 0.0000, 0.0000, 0.0000, 0.0000, 0.0000, 0.0000, 0.0000,\n",
              "           0.0000, 0.0039, 0.0118, 0.0000, 0.0471, 0.8588, 0.8627, 0.8314,\n",
              "           0.8549, 0.7529, 0.6627, 0.8902, 0.8157, 0.8549, 0.8784, 0.8314,\n",
              "           0.8863, 0.7725, 0.8196, 0.2039],\n",
              "          [0.0000, 0.0000, 0.0000, 0.0000, 0.0000, 0.0000, 0.0000, 0.0000,\n",
              "           0.0000, 0.0000, 0.0235, 0.0000, 0.3882, 0.9569, 0.8706, 0.8627,\n",
              "           0.8549, 0.7961, 0.7765, 0.8667, 0.8431, 0.8353, 0.8706, 0.8627,\n",
              "           0.9608, 0.4667, 0.6549, 0.2196],\n",
              "          [0.0000, 0.0000, 0.0000, 0.0000, 0.0000, 0.0000, 0.0000, 0.0000,\n",
              "           0.0000, 0.0157, 0.0000, 0.0000, 0.2157, 0.9255, 0.8941, 0.9020,\n",
              "           0.8941, 0.9412, 0.9098, 0.8353, 0.8549, 0.8745, 0.9176, 0.8510,\n",
              "           0.8510, 0.8196, 0.3608, 0.0000],\n",
              "          [0.0000, 0.0000, 0.0039, 0.0157, 0.0235, 0.0275, 0.0078, 0.0000,\n",
              "           0.0000, 0.0000, 0.0000, 0.0000, 0.9294, 0.8863, 0.8510, 0.8745,\n",
              "           0.8706, 0.8588, 0.8706, 0.8667, 0.8471, 0.8745, 0.8980, 0.8431,\n",
              "           0.8549, 1.0000, 0.3020, 0.0000],\n",
              "          [0.0000, 0.0118, 0.0000, 0.0000, 0.0000, 0.0000, 0.0000, 0.0000,\n",
              "           0.0000, 0.2431, 0.5686, 0.8000, 0.8941, 0.8118, 0.8353, 0.8667,\n",
              "           0.8549, 0.8157, 0.8275, 0.8549, 0.8784, 0.8745, 0.8588, 0.8431,\n",
              "           0.8784, 0.9569, 0.6235, 0.0000],\n",
              "          [0.0000, 0.0000, 0.0000, 0.0000, 0.0706, 0.1725, 0.3216, 0.4196,\n",
              "           0.7412, 0.8941, 0.8627, 0.8706, 0.8510, 0.8863, 0.7843, 0.8039,\n",
              "           0.8275, 0.9020, 0.8784, 0.9176, 0.6902, 0.7373, 0.9804, 0.9725,\n",
              "           0.9137, 0.9333, 0.8431, 0.0000],\n",
              "          [0.0000, 0.2235, 0.7333, 0.8157, 0.8784, 0.8667, 0.8784, 0.8157,\n",
              "           0.8000, 0.8392, 0.8157, 0.8196, 0.7843, 0.6235, 0.9608, 0.7569,\n",
              "           0.8078, 0.8745, 1.0000, 1.0000, 0.8667, 0.9176, 0.8667, 0.8275,\n",
              "           0.8627, 0.9098, 0.9647, 0.0000],\n",
              "          [0.0118, 0.7922, 0.8941, 0.8784, 0.8667, 0.8275, 0.8275, 0.8392,\n",
              "           0.8039, 0.8039, 0.8039, 0.8627, 0.9412, 0.3137, 0.5882, 1.0000,\n",
              "           0.8980, 0.8667, 0.7373, 0.6039, 0.7490, 0.8235, 0.8000, 0.8196,\n",
              "           0.8706, 0.8941, 0.8824, 0.0000],\n",
              "          [0.3843, 0.9137, 0.7765, 0.8235, 0.8706, 0.8980, 0.8980, 0.9176,\n",
              "           0.9765, 0.8627, 0.7608, 0.8431, 0.8510, 0.9451, 0.2549, 0.2863,\n",
              "           0.4157, 0.4588, 0.6588, 0.8588, 0.8667, 0.8431, 0.8510, 0.8745,\n",
              "           0.8745, 0.8784, 0.8980, 0.1137],\n",
              "          [0.2941, 0.8000, 0.8314, 0.8000, 0.7569, 0.8039, 0.8275, 0.8824,\n",
              "           0.8471, 0.7255, 0.7725, 0.8078, 0.7765, 0.8353, 0.9412, 0.7647,\n",
              "           0.8902, 0.9608, 0.9373, 0.8745, 0.8549, 0.8314, 0.8196, 0.8706,\n",
              "           0.8627, 0.8667, 0.9020, 0.2627],\n",
              "          [0.1882, 0.7961, 0.7176, 0.7608, 0.8353, 0.7725, 0.7255, 0.7451,\n",
              "           0.7608, 0.7529, 0.7922, 0.8392, 0.8588, 0.8667, 0.8627, 0.9255,\n",
              "           0.8824, 0.8471, 0.7804, 0.8078, 0.7294, 0.7098, 0.6941, 0.6745,\n",
              "           0.7098, 0.8039, 0.8078, 0.4510],\n",
              "          [0.0000, 0.4784, 0.8588, 0.7569, 0.7020, 0.6706, 0.7176, 0.7686,\n",
              "           0.8000, 0.8235, 0.8353, 0.8118, 0.8275, 0.8235, 0.7843, 0.7686,\n",
              "           0.7608, 0.7490, 0.7647, 0.7490, 0.7765, 0.7529, 0.6902, 0.6118,\n",
              "           0.6549, 0.6941, 0.8235, 0.3608],\n",
              "          [0.0000, 0.0000, 0.2902, 0.7412, 0.8314, 0.7490, 0.6863, 0.6745,\n",
              "           0.6863, 0.7098, 0.7255, 0.7373, 0.7412, 0.7373, 0.7569, 0.7765,\n",
              "           0.8000, 0.8196, 0.8235, 0.8235, 0.8275, 0.7373, 0.7373, 0.7608,\n",
              "           0.7529, 0.8471, 0.6667, 0.0000],\n",
              "          [0.0078, 0.0000, 0.0000, 0.0000, 0.2588, 0.7843, 0.8706, 0.9294,\n",
              "           0.9373, 0.9490, 0.9647, 0.9529, 0.9569, 0.8667, 0.8627, 0.7569,\n",
              "           0.7490, 0.7020, 0.7137, 0.7137, 0.7098, 0.6902, 0.6510, 0.6588,\n",
              "           0.3882, 0.2275, 0.0000, 0.0000],\n",
              "          [0.0000, 0.0000, 0.0000, 0.0000, 0.0000, 0.0000, 0.0000, 0.1569,\n",
              "           0.2392, 0.1725, 0.2824, 0.1608, 0.1373, 0.0000, 0.0000, 0.0000,\n",
              "           0.0000, 0.0000, 0.0000, 0.0000, 0.0000, 0.0000, 0.0000, 0.0000,\n",
              "           0.0000, 0.0000, 0.0000, 0.0000],\n",
              "          [0.0000, 0.0000, 0.0000, 0.0000, 0.0000, 0.0000, 0.0000, 0.0000,\n",
              "           0.0000, 0.0000, 0.0000, 0.0000, 0.0000, 0.0000, 0.0000, 0.0000,\n",
              "           0.0000, 0.0000, 0.0000, 0.0000, 0.0000, 0.0000, 0.0000, 0.0000,\n",
              "           0.0000, 0.0000, 0.0000, 0.0000],\n",
              "          [0.0000, 0.0000, 0.0000, 0.0000, 0.0000, 0.0000, 0.0000, 0.0000,\n",
              "           0.0000, 0.0000, 0.0000, 0.0000, 0.0000, 0.0000, 0.0000, 0.0000,\n",
              "           0.0000, 0.0000, 0.0000, 0.0000, 0.0000, 0.0000, 0.0000, 0.0000,\n",
              "           0.0000, 0.0000, 0.0000, 0.0000]]]),\n",
              " 9)"
            ]
          },
          "metadata": {},
          "execution_count": 120
        }
      ]
    },
    {
      "cell_type": "code",
      "source": [
        "class_names = train_data.classes\n",
        "class_names"
      ],
      "metadata": {
        "colab": {
          "base_uri": "https://localhost:8080/"
        },
        "id": "F9sAcjpbNl9u",
        "outputId": "5febbd67-1031-4051-fde0-67f0be204d9c"
      },
      "execution_count": null,
      "outputs": [
        {
          "output_type": "execute_result",
          "data": {
            "text/plain": [
              "['T-shirt/top',\n",
              " 'Trouser',\n",
              " 'Pullover',\n",
              " 'Dress',\n",
              " 'Coat',\n",
              " 'Sandal',\n",
              " 'Shirt',\n",
              " 'Sneaker',\n",
              " 'Bag',\n",
              " 'Ankle boot']"
            ]
          },
          "metadata": {},
          "execution_count": 121
        }
      ]
    },
    {
      "cell_type": "code",
      "source": [
        "class_to_idx = train_data.class_to_idx\n",
        "class_to_idx"
      ],
      "metadata": {
        "colab": {
          "base_uri": "https://localhost:8080/"
        },
        "id": "eyeU1CktNl7X",
        "outputId": "d01440fd-18aa-4253-ba1f-42fa6e635784"
      },
      "execution_count": null,
      "outputs": [
        {
          "output_type": "execute_result",
          "data": {
            "text/plain": [
              "{'T-shirt/top': 0,\n",
              " 'Trouser': 1,\n",
              " 'Pullover': 2,\n",
              " 'Dress': 3,\n",
              " 'Coat': 4,\n",
              " 'Sandal': 5,\n",
              " 'Shirt': 6,\n",
              " 'Sneaker': 7,\n",
              " 'Bag': 8,\n",
              " 'Ankle boot': 9}"
            ]
          },
          "metadata": {},
          "execution_count": 122
        }
      ]
    },
    {
      "cell_type": "code",
      "source": [
        "train_data.targets"
      ],
      "metadata": {
        "colab": {
          "base_uri": "https://localhost:8080/"
        },
        "id": "6vtuDFi4NluY",
        "outputId": "61b03aea-cff2-486d-b2bf-a560bd24b8bc"
      },
      "execution_count": null,
      "outputs": [
        {
          "output_type": "execute_result",
          "data": {
            "text/plain": [
              "tensor([9, 0, 0,  ..., 3, 0, 5])"
            ]
          },
          "metadata": {},
          "execution_count": 123
        }
      ]
    },
    {
      "cell_type": "code",
      "source": [
        "image.shape, label"
      ],
      "metadata": {
        "colab": {
          "base_uri": "https://localhost:8080/"
        },
        "id": "SpsOuCD5PNJJ",
        "outputId": "acaaeb16-7d33-4319-9288-5af58ac3cd08"
      },
      "execution_count": null,
      "outputs": [
        {
          "output_type": "execute_result",
          "data": {
            "text/plain": [
              "(torch.Size([1, 28, 28]), 9)"
            ]
          },
          "metadata": {},
          "execution_count": 124
        }
      ]
    },
    {
      "cell_type": "code",
      "source": [
        "print (f\"image shape: {image.shape}\")\n",
        "print (f\"image label: {class_names[label]}\")"
      ],
      "metadata": {
        "colab": {
          "base_uri": "https://localhost:8080/"
        },
        "id": "y8MUcHk7QGyA",
        "outputId": "c34ad2e3-3a39-4206-95de-35bb812ba2ee"
      },
      "execution_count": null,
      "outputs": [
        {
          "output_type": "stream",
          "name": "stdout",
          "text": [
            "image shape: torch.Size([1, 28, 28])\n",
            "image label: Ankle boot\n"
          ]
        }
      ]
    },
    {
      "cell_type": "code",
      "source": [
        "import matplotlib.pyplot as plt\n",
        "\n",
        "image, label = train_data[0]\n",
        "print (f\"image shape: {image.shape}\")\n",
        "plt.imshow(image.squeeze(), cmap=\"grey\")\n",
        "plt.title(class_names[label])\n",
        "plt.show()"
      ],
      "metadata": {
        "colab": {
          "base_uri": "https://localhost:8080/",
          "height": 469
        },
        "id": "G5Geys3sQpa5",
        "outputId": "63d90355-8492-466b-b930-d59dcc063425"
      },
      "execution_count": null,
      "outputs": [
        {
          "output_type": "stream",
          "name": "stdout",
          "text": [
            "image shape: torch.Size([1, 28, 28])\n"
          ]
        },
        {
          "output_type": "display_data",
          "data": {
            "text/plain": [
              "<Figure size 640x480 with 1 Axes>"
            ],
            "image/png": "[encoded data removed]"
          },
          "metadata": {}
        }
      ]
    },
    {
      "cell_type": "code",
      "source": [
        "#torch.manual_seed(42)\n",
        "fig = plt.figure(figsize=(9, 9))\n",
        "rows, cols = 4, 4\n",
        "for i in range(1, rows * cols + 1):\n",
        "    random_idx = torch.randint(0, len(train_data), size=[1]).item()\n",
        "    pimg, label = train_data[random_idx]\n",
        "    fig.add_subplot(rows, cols, i)\n",
        "    plt.imshow(pimg.squeeze(), cmap=\"grey\")\n",
        "    plt.title(class_names[label])\n",
        "    plt.axis(False)"
      ],
      "metadata": {
        "colab": {
          "base_uri": "https://localhost:8080/",
          "height": 714
        },
        "id": "0i4mfyU0SMFF",
        "outputId": "75bcb027-7029-4888-c0a2-21bd534d2d96"
      },
      "execution_count": null,
      "outputs": [
        {
          "output_type": "display_data",
          "data": {
            "text/plain": [
              "<Figure size 900x900 with 16 Axes>"
            ],
            "image/png": "[encoded data removed]"
          },
          "metadata": {}
        }
      ]
    },
    {
      "cell_type": "code",
      "source": [
        "train_data, test_data"
      ],
      "metadata": {
        "colab": {
          "base_uri": "https://localhost:8080/"
        },
        "id": "WzId9-JxTPxf",
        "outputId": "995a56e3-52d5-48ff-c061-3347e9d16f77"
      },
      "execution_count": null,
      "outputs": [
        {
          "output_type": "execute_result",
          "data": {
            "text/plain": [
              "(Dataset FashionMNIST\n",
              "     Number of datapoints: 60000\n",
              "     Root location: data\n",
              "     Split: Train\n",
              "     StandardTransform\n",
              " Transform: ToTensor(),\n",
              " Dataset FashionMNIST\n",
              "     Number of datapoints: 10000\n",
              "     Root location: data\n",
              "     Split: Test\n",
              "     StandardTransform\n",
              " Transform: ToTensor())"
            ]
          },
          "metadata": {},
          "execution_count": 128
        }
      ]
    },
    {
      "cell_type": "code",
      "source": [
        "from torch.utils.data import DataLoader\n",
        "\n",
        "BATCH_SIZE = 32\n",
        "train_dataloader = DataLoader(train_data, batch_size=BATCH_SIZE, shuffle=True)\n",
        "test_dataloader = DataLoader(test_data, batch_size=BATCH_SIZE, shuffle=False)\n",
        "\n",
        "train_dataloader, test_dataloader"
      ],
      "metadata": {
        "colab": {
          "base_uri": "https://localhost:8080/"
        },
        "id": "n43_KPGdTPtB",
        "outputId": "6561611b-1118-4854-c13d-0afdfbc2744b"
      },
      "execution_count": null,
      "outputs": [
        {
          "output_type": "execute_result",
          "data": {
            "text/plain": [
              "(<torch.utils.data.dataloader.DataLoader at 0x7a29cb55eb90>,\n",
              " <torch.utils.data.dataloader.DataLoader at 0x7a29c98fb350>)"
            ]
          },
          "metadata": {},
          "execution_count": 129
        }
      ]
    },
    {
      "cell_type": "code",
      "source": [
        "print(f\"train_dataloader: {train_dataloader}\")\n",
        "print(f\"test_dataloader: {test_dataloader}\")"
      ],
      "metadata": {
        "colab": {
          "base_uri": "https://localhost:8080/"
        },
        "id": "rB2QATryTPaJ",
        "outputId": "063ed2d7-3880-49ed-a76c-635004d2f549"
      },
      "execution_count": null,
      "outputs": [
        {
          "output_type": "stream",
          "name": "stdout",
          "text": [
            "train_dataloader: <torch.utils.data.dataloader.DataLoader object at 0x7a29cb55eb90>\n",
            "test_dataloader: <torch.utils.data.dataloader.DataLoader object at 0x7a29c98fb350>\n"
          ]
        }
      ]
    },
    {
      "cell_type": "code",
      "source": [
        "print(f\"len(train_dataloader): {len(train_dataloader)} batches of {BATCH_SIZE}...\")\n",
        "print(f\"len(test_dataloader): {len(test_dataloader)} batches of {BATCH_SIZE}...\")"
      ],
      "metadata": {
        "colab": {
          "base_uri": "https://localhost:8080/"
        },
        "id": "-Dwws8tfWGoH",
        "outputId": "bb36bad2-e3c1-42f1-a7cf-5d8f93931af9"
      },
      "execution_count": null,
      "outputs": [
        {
          "output_type": "stream",
          "name": "stdout",
          "text": [
            "len(train_dataloader): 1875 batches of 32...\n",
            "len(test_dataloader): 313 batches of 32...\n"
          ]
        }
      ]
    },
    {
      "cell_type": "code",
      "source": [
        "train_features_batch, train_labels_batch = next(iter(train_dataloader))\n",
        "train_features_batch.shape, train_labels_batch.shape"
      ],
      "metadata": {
        "colab": {
          "base_uri": "https://localhost:8080/"
        },
        "id": "0GIF2UaXWx7_",
        "outputId": "a74334d2-e842-4fa4-c9e0-f1782b41ce15"
      },
      "execution_count": null,
      "outputs": [
        {
          "output_type": "execute_result",
          "data": {
            "text/plain": [
              "(torch.Size([32, 1, 28, 28]), torch.Size([32]))"
            ]
          },
          "metadata": {},
          "execution_count": 132
        }
      ]
    },
    {
      "cell_type": "code",
      "source": [
        "#torch.manual_seed(42)\n",
        "random_idx = torch.randint(0, len(train_features_batch), size=[1]).item()\n",
        "img, label = train_features_batch[random_idx], train_labels_batch[random_idx]\n",
        "plt.imshow(img.squeeze(), cmap=\"grey\")\n",
        "plt.title(class_names[label])\n",
        "plt.axis(False)\n",
        "print (f\"image shape: {img.shape}\")\n",
        "print(f\"image label: {label}, label size: {label.shape}\")"
      ],
      "metadata": {
        "colab": {
          "base_uri": "https://localhost:8080/",
          "height": 463
        },
        "id": "8JQyiJz5WGko",
        "outputId": "e6b36aef-6a8a-4e84-c148-88130471f8ee"
      },
      "execution_count": null,
      "outputs": [
        {
          "output_type": "stream",
          "name": "stdout",
          "text": [
            "image shape: torch.Size([1, 28, 28])\n",
            "image label: 4, label size: torch.Size([])\n"
          ]
        },
        {
          "output_type": "display_data",
          "data": {
            "text/plain": [
              "<Figure size 640x480 with 1 Axes>"
            ],
            "image/png": "[encoded data removed]"
          },
          "metadata": {}
        }
      ]
    },
    {
      "cell_type": "code",
      "source": [
        "flatten_model = nn.Flatten()\n",
        "x = train_features_batch[0]\n",
        "output = flatten_model(x)\n",
        "\n",
        "print(f\"shape before flatten: {x.shape} -> [color_channels, heights.weight]\")\n",
        "print(f\"shape after flatten: {output.shape} -> [color_channels, heights.weight]\")"
      ],
      "metadata": {
        "colab": {
          "base_uri": "https://localhost:8080/"
        },
        "id": "-6vIVuEHYWIu",
        "outputId": "3738c6a4-2e6b-47b6-b113-e292d1293d38"
      },
      "execution_count": null,
      "outputs": [
        {
          "output_type": "stream",
          "name": "stdout",
          "text": [
            "shape before flatten: torch.Size([1, 28, 28]) -> [color_channels, heights.weight]\n",
            "shape after flatten: torch.Size([1, 784]) -> [color_channels, heights.weight]\n"
          ]
        }
      ]
    },
    {
      "cell_type": "code",
      "source": [
        "output.squeeze()"
      ],
      "metadata": {
        "colab": {
          "base_uri": "https://localhost:8080/"
        },
        "id": "p2dgS6ihWGig",
        "outputId": "0110a472-264c-42df-bfe7-8acceecbf028"
      },
      "execution_count": null,
      "outputs": [
        {
          "output_type": "execute_result",
          "data": {
            "text/plain": [
              "tensor([0.0000, 0.0000, 0.0000, 0.0039, 0.0000, 0.0000, 0.0000, 0.0000, 0.1059,\n",
              "        0.5529, 0.3804, 0.2078, 0.2353, 0.2588, 0.2431, 0.2627, 0.1725, 0.3020,\n",
              "        0.3882, 0.0471, 0.0000, 0.0000, 0.0000, 0.0000, 0.0000, 0.0000, 0.0000,\n",
              "        0.0000, 0.0000, 0.0000, 0.0000, 0.0039, 0.0000, 0.0000, 0.2431, 0.5098,\n",
              "        0.5608, 0.6745, 0.6824, 0.5176, 0.5020, 0.5961, 0.5647, 0.5176, 0.4745,\n",
              "        0.6078, 0.5961, 0.5098, 0.4314, 0.2627, 0.0118, 0.0000, 0.0000, 0.0000,\n",
              "        0.0000, 0.0000, 0.0000, 0.0000, 0.0000, 0.0039, 0.0000, 0.2941, 0.5961,\n",
              "        0.5373, 0.5176, 0.4941, 0.5647, 0.6471, 0.5725, 0.5098, 0.4941, 0.5216,\n",
              "        0.5961, 0.5098, 0.4588, 0.4784, 0.5216, 0.5373, 0.3137, 0.0000, 0.0000,\n",
              "        0.0000, 0.0000, 0.0000, 0.0000, 0.0000, 0.0000, 0.0000, 0.0000, 0.5373,\n",
              "        0.5882, 0.5294, 0.4784, 0.4941, 0.5098, 0.4941, 0.5647, 0.6039, 0.5961,\n",
              "        0.5529, 0.4863, 0.4314, 0.4353, 0.4510, 0.4588, 0.5098, 0.5451, 0.0000,\n",
              "        0.0000, 0.0000, 0.0000, 0.0000, 0.0000, 0.0000, 0.0000, 0.0000, 0.0706,\n",
              "        0.6039, 0.5529, 0.5451, 0.4941, 0.4667, 0.5098, 0.4863, 0.4941, 0.4941,\n",
              "        0.4863, 0.4745, 0.4588, 0.4353, 0.4510, 0.4314, 0.4863, 0.5176, 0.5608,\n",
              "        0.1216, 0.0000, 0.0000, 0.0000, 0.0000, 0.0000, 0.0000, 0.0000, 0.0000,\n",
              "        0.3020, 0.6157, 0.5804, 0.5961, 0.5373, 0.5176, 0.5176, 0.5176, 0.4784,\n",
              "        0.4941, 0.5020, 0.4941, 0.4863, 0.5176, 0.4941, 0.4588, 0.5216, 0.5608,\n",
              "        0.5294, 0.3137, 0.0000, 0.0000, 0.0000, 0.0000, 0.0000, 0.0000, 0.0000,\n",
              "        0.0000, 0.5608, 0.5294, 0.6235, 0.7765, 0.5882, 0.5647, 0.5294, 0.5529,\n",
              "        0.5608, 0.5451, 0.5882, 0.5529, 0.5647, 0.5882, 0.5725, 0.5098, 0.6039,\n",
              "        0.6039, 0.4745, 0.4588, 0.0000, 0.0000, 0.0000, 0.0000, 0.0000, 0.0000,\n",
              "        0.0000, 0.2510, 0.5647, 0.4784, 0.5882, 0.6667, 0.4000, 0.4941, 0.4588,\n",
              "        0.4431, 0.4353, 0.4588, 0.4667, 0.4353, 0.4353, 0.4000, 0.4157, 0.4235,\n",
              "        0.6314, 0.5451, 0.4588, 0.5647, 0.1922, 0.0000, 0.0000, 0.0000, 0.0000,\n",
              "        0.0000, 0.0000, 0.4000, 0.7765, 0.5647, 0.6471, 0.9412, 0.4157, 0.5098,\n",
              "        0.4353, 0.4431, 0.4431, 0.4431, 0.4431, 0.4510, 0.4588, 0.4510, 0.4431,\n",
              "        0.3922, 0.7882, 0.6745, 0.5647, 0.6510, 0.2706, 0.0000, 0.0000, 0.0000,\n",
              "        0.0000, 0.0000, 0.0000, 0.0000, 0.0471, 0.2275, 0.4588, 0.9608, 0.4941,\n",
              "        0.4353, 0.4588, 0.4588, 0.4588, 0.4667, 0.4745, 0.4667, 0.4745, 0.4667,\n",
              "        0.4235, 0.4353, 1.0000, 0.5961, 0.1725, 0.0196, 0.0000, 0.0000, 0.0000,\n",
              "        0.0000, 0.0000, 0.0000, 0.0000, 0.0000, 0.0000, 0.0039, 0.0000, 0.0275,\n",
              "        0.5020, 0.4863, 0.4588, 0.4667, 0.4588, 0.4667, 0.4745, 0.4745, 0.4745,\n",
              "        0.4667, 0.4510, 0.4235, 0.1137, 0.0000, 0.0000, 0.0039, 0.0000, 0.0000,\n",
              "        0.0000, 0.0000, 0.0000, 0.0000, 0.0000, 0.0000, 0.0000, 0.0118, 0.0000,\n",
              "        0.0000, 0.5176, 0.4863, 0.4353, 0.4510, 0.4510, 0.4588, 0.4588, 0.4588,\n",
              "        0.4510, 0.4588, 0.4588, 0.4588, 0.0000, 0.0000, 0.0039, 0.0118, 0.0039,\n",
              "        0.0000, 0.0000, 0.0000, 0.0000, 0.0000, 0.0000, 0.0000, 0.0000, 0.0039,\n",
              "        0.0000, 0.0000, 0.5176, 0.5098, 0.4431, 0.4431, 0.4510, 0.4588, 0.4510,\n",
              "        0.4510, 0.4588, 0.4431, 0.4510, 0.4863, 0.0039, 0.0000, 0.0039, 0.0000,\n",
              "        0.0000, 0.0000, 0.0000, 0.0000, 0.0000, 0.0000, 0.0000, 0.0000, 0.0000,\n",
              "        0.0039, 0.0000, 0.0000, 0.5098, 0.5020, 0.4510, 0.4510, 0.4588, 0.4588,\n",
              "        0.4510, 0.4510, 0.4588, 0.4510, 0.4431, 0.5020, 0.0431, 0.0000, 0.0118,\n",
              "        0.0000, 0.0000, 0.0000, 0.0000, 0.0000, 0.0000, 0.0000, 0.0000, 0.0000,\n",
              "        0.0000, 0.0039, 0.0000, 0.0000, 0.5294, 0.4941, 0.4588, 0.4510, 0.4588,\n",
              "        0.4588, 0.4588, 0.4588, 0.4588, 0.4667, 0.4353, 0.5373, 0.0784, 0.0000,\n",
              "        0.0118, 0.0000, 0.0000, 0.0000, 0.0000, 0.0000, 0.0000, 0.0000, 0.0000,\n",
              "        0.0000, 0.0000, 0.0039, 0.0000, 0.0471, 0.5608, 0.4863, 0.4667, 0.4667,\n",
              "        0.4745, 0.4667, 0.4667, 0.4667, 0.4667, 0.4667, 0.4353, 0.5373, 0.1216,\n",
              "        0.0000, 0.0118, 0.0000, 0.0000, 0.0000, 0.0000, 0.0000, 0.0000, 0.0000,\n",
              "        0.0000, 0.0000, 0.0000, 0.0039, 0.0000, 0.0980, 0.5608, 0.4784, 0.4667,\n",
              "        0.4745, 0.4667, 0.4667, 0.4745, 0.4745, 0.4745, 0.4745, 0.4314, 0.5294,\n",
              "        0.1725, 0.0000, 0.0118, 0.0039, 0.0000, 0.0000, 0.0000, 0.0000, 0.0000,\n",
              "        0.0000, 0.0000, 0.0000, 0.0000, 0.0039, 0.0000, 0.1569, 0.5804, 0.4784,\n",
              "        0.4667, 0.4745, 0.4745, 0.4745, 0.4745, 0.4745, 0.4745, 0.4667, 0.4353,\n",
              "        0.5451, 0.2275, 0.0000, 0.0000, 0.0039, 0.0000, 0.0000, 0.0000, 0.0000,\n",
              "        0.0000, 0.0000, 0.0000, 0.0000, 0.0000, 0.0000, 0.0000, 0.2000, 0.5804,\n",
              "        0.4863, 0.4667, 0.4745, 0.4745, 0.4745, 0.4745, 0.4745, 0.4745, 0.4745,\n",
              "        0.4431, 0.5294, 0.3451, 0.0000, 0.0000, 0.0000, 0.0000, 0.0000, 0.0000,\n",
              "        0.0000, 0.0000, 0.0000, 0.0000, 0.0000, 0.0000, 0.0000, 0.0000, 0.3137,\n",
              "        0.5647, 0.4863, 0.4863, 0.4863, 0.4863, 0.4863, 0.4941, 0.4941, 0.4941,\n",
              "        0.4784, 0.4588, 0.4941, 0.4510, 0.0000, 0.0000, 0.0039, 0.0000, 0.0000,\n",
              "        0.0000, 0.0000, 0.0000, 0.0000, 0.0000, 0.0000, 0.0000, 0.0000, 0.0000,\n",
              "        0.4000, 0.5647, 0.4863, 0.4941, 0.5020, 0.4941, 0.5020, 0.5176, 0.5176,\n",
              "        0.5098, 0.4784, 0.4745, 0.4784, 0.5216, 0.0000, 0.0000, 0.0039, 0.0000,\n",
              "        0.0000, 0.0000, 0.0000, 0.0000, 0.0000, 0.0000, 0.0000, 0.0039, 0.0000,\n",
              "        0.0000, 0.5020, 0.5216, 0.4941, 0.5098, 0.5020, 0.5020, 0.5098, 0.5216,\n",
              "        0.5216, 0.5176, 0.4941, 0.4784, 0.4784, 0.5882, 0.0471, 0.0000, 0.0039,\n",
              "        0.0000, 0.0000, 0.0000, 0.0000, 0.0000, 0.0000, 0.0000, 0.0000, 0.0039,\n",
              "        0.0000, 0.0000, 0.5804, 0.5216, 0.5020, 0.5176, 0.5098, 0.5176, 0.5098,\n",
              "        0.5176, 0.5176, 0.5216, 0.4941, 0.4863, 0.4745, 0.5882, 0.1216, 0.0000,\n",
              "        0.0118, 0.0000, 0.0000, 0.0000, 0.0000, 0.0000, 0.0000, 0.0000, 0.0000,\n",
              "        0.0039, 0.0000, 0.0039, 0.6235, 0.5216, 0.5176, 0.5176, 0.5098, 0.5216,\n",
              "        0.5294, 0.5216, 0.5176, 0.5098, 0.5020, 0.4941, 0.4784, 0.5961, 0.1843,\n",
              "        0.0000, 0.0196, 0.0000, 0.0000, 0.0000, 0.0000, 0.0000, 0.0000, 0.0000,\n",
              "        0.0000, 0.0118, 0.0000, 0.0863, 0.5608, 0.5216, 0.5216, 0.5216, 0.5098,\n",
              "        0.5098, 0.5216, 0.5216, 0.5020, 0.4941, 0.5098, 0.5176, 0.5020, 0.5451,\n",
              "        0.2431, 0.0000, 0.0196, 0.0000, 0.0000, 0.0000, 0.0000, 0.0000, 0.0000,\n",
              "        0.0000, 0.0000, 0.0196, 0.0000, 0.2157, 0.6039, 0.5176, 0.5216, 0.5216,\n",
              "        0.5020, 0.5020, 0.5176, 0.5098, 0.5020, 0.5020, 0.5098, 0.5098, 0.5176,\n",
              "        0.5608, 0.2941, 0.0000, 0.0118, 0.0000, 0.0000, 0.0000, 0.0000, 0.0000,\n",
              "        0.0000, 0.0000, 0.0000, 0.0196, 0.0000, 0.1569, 0.7686, 0.5804, 0.6157,\n",
              "        0.6039, 0.5804, 0.5529, 0.5294, 0.5216, 0.5451, 0.5608, 0.5882, 0.6235,\n",
              "        0.5608, 0.5804, 0.3804, 0.0000, 0.0196, 0.0000, 0.0000, 0.0000, 0.0000,\n",
              "        0.0000, 0.0000, 0.0000, 0.0000, 0.0000, 0.0039, 0.0000, 0.0353, 0.1922,\n",
              "        0.2353, 0.2784, 0.3059, 0.3137, 0.3294, 0.3451, 0.3490, 0.3569, 0.3216,\n",
              "        0.2275, 0.2196, 0.1647, 0.0000, 0.0000, 0.0039, 0.0000, 0.0000, 0.0000,\n",
              "        0.0000])"
            ]
          },
          "metadata": {},
          "execution_count": 135
        }
      ]
    },
    {
      "cell_type": "code",
      "source": [
        "from torch import nn\n",
        "class FashionMNISTModelV0(nn.Module):\n",
        "  def __init__(self,\n",
        "             input_shape: int,\n",
        "             hidden_units: int,\n",
        "             output_shape: int):\n",
        "    super().__init__()\n",
        "    self.layer_stack = nn.Sequential(\n",
        "        nn.Flatten(),\n",
        "        nn.Linear(in_features=input_shape,\n",
        "                 out_features=hidden_units),\n",
        "        nn.Linear(in_features=hidden_units,\n",
        "                 out_features=output_shape)\n",
        "    )\n",
        "\n",
        "  def forward(self,x):\n",
        "    return self.layer_stack(x)"
      ],
      "metadata": {
        "id": "3ovQqyS0WGgE"
      },
      "execution_count": null,
      "outputs": []
    },
    {
      "cell_type": "code",
      "source": [
        "torch.manual_seed(42)\n",
        "\n",
        "model_0 = FashionMNISTModelV0(\n",
        "    input_shape=28,\n",
        "    hidden_units=10,\n",
        "    output_shape=len(class_names)\n",
        ").to(\"cpu\")\n",
        "\n",
        "model_0\n"
      ],
      "metadata": {
        "colab": {
          "base_uri": "https://localhost:8080/"
        },
        "id": "30UqNnLVbuQ-",
        "outputId": "611f21d4-31d1-4539-d7e6-ccfd45830f73"
      },
      "execution_count": null,
      "outputs": [
        {
          "output_type": "execute_result",
          "data": {
            "text/plain": [
              "FashionMNISTModelV0(\n",
              "  (layer_stack): Sequential(\n",
              "    (0): Flatten(start_dim=1, end_dim=-1)\n",
              "    (1): Linear(in_features=28, out_features=10, bias=True)\n",
              "    (2): Linear(in_features=10, out_features=10, bias=True)\n",
              "  )\n",
              ")"
            ]
          },
          "metadata": {},
          "execution_count": 137
        }
      ]
    },
    {
      "cell_type": "code",
      "metadata": {
        "colab": {
          "base_uri": "https://localhost:8080/"
        },
        "id": "47418cea",
        "outputId": "f05e9dc6-bc4c-4871-c6b6-f01068c4bac1"
      },
      "source": [
        "torch.manual_seed(42)\n",
        "model_0 = FashionMNISTModelV0(\n",
        "    input_shape=28*28, # this is the output of the flatten layer\n",
        "    hidden_units=10,\n",
        "    output_shape=len(class_names)\n",
        ").to(\"cpu\")\n",
        "\n",
        "model_0"
      ],
      "execution_count": null,
      "outputs": [
        {
          "output_type": "execute_result",
          "data": {
            "text/plain": [
              "FashionMNISTModelV0(\n",
              "  (layer_stack): Sequential(\n",
              "    (0): Flatten(start_dim=1, end_dim=-1)\n",
              "    (1): Linear(in_features=784, out_features=10, bias=True)\n",
              "    (2): Linear(in_features=10, out_features=10, bias=True)\n",
              "  )\n",
              ")"
            ]
          },
          "metadata": {},
          "execution_count": 138
        }
      ]
    },
    {
      "cell_type": "code",
      "metadata": {
        "colab": {
          "base_uri": "https://localhost:8080/"
        },
        "id": "a03f0229",
        "outputId": "5ba5c97f-c427-4507-f596-24e37a76e6ba"
      },
      "source": [
        "dummy_x = torch.rand([1, 1, 28, 28])\n",
        "model_0(dummy_x)"
      ],
      "execution_count": null,
      "outputs": [
        {
          "output_type": "execute_result",
          "data": {
            "text/plain": [
              "tensor([[-0.0315,  0.3171,  0.0531, -0.2525,  0.5959,  0.2112,  0.3233,  0.2694,\n",
              "         -0.1004,  0.0157]], grad_fn=<AddmmBackward0>)"
            ]
          },
          "metadata": {},
          "execution_count": 139
        }
      ]
    },
    {
      "cell_type": "code",
      "source": [
        "import requests\n",
        "from pathlib import Path\n",
        "\n",
        "if Path(\"helper_functions.py\").is_file():\n",
        "  print (\"helper_functions.py already exits, skipping download...\")\n",
        "else:\n",
        "  print(\"Downloading helper_functions.py\")\n",
        "  request = requests.get(\"https://raw.githubusercontent.com/mrdbourke/pytorch-deep-learning/main/helper_functions.py\")\n",
        "  with open(\"helper_functions.py\", \"wb\") as f:\n",
        "    f.write(request.content)"
      ],
      "metadata": {
        "colab": {
          "base_uri": "https://localhost:8080/"
        },
        "id": "GqK1BBqGe0qz",
        "outputId": "b0b2bf8b-a598-4d07-a0d4-17f485395a54"
      },
      "execution_count": null,
      "outputs": [
        {
          "output_type": "stream",
          "name": "stdout",
          "text": [
            "helper_functions.py already exits, skipping download...\n"
          ]
        }
      ]
    },
    {
      "cell_type": "code",
      "source": [
        "from helper_functions import accuracy_fn\n",
        "\n",
        "loss_fn = nn.CrossEntropyLoss()\n",
        "optimizer = torch.optim.SGD(params=model_0.parameters(), lr=0.1)"
      ],
      "metadata": {
        "id": "K9_1Qgg_fYu4"
      },
      "execution_count": null,
      "outputs": []
    },
    {
      "cell_type": "code",
      "source": [
        "test_loss, test_acc = 0, 0\n",
        "for x_test, y_test in test_dataloader:\n",
        "    test_pred = model_0(x_test)\n",
        "    test_loss += loss_fn(test_pred, y_test).item()\n",
        "\n",
        "    test_acc += accuracy_fn(y_true=y_test, y_pred=test_pred.argmax(dim=1))"
      ],
      "metadata": {
        "id": "KWRKZ6uofYjc"
      },
      "execution_count": null,
      "outputs": []
    },
    {
      "cell_type": "code",
      "source": [
        "from timeit import default_timer as timer\n",
        "def print_train_time (start: float,\n",
        "                      end: float,\n",
        "                      device: torch.device = None):\n",
        "  total_time = end - start\n",
        "  print(f\"Train time on {device}: {total_time:.3f} seconds\")\n",
        "  return total_time"
      ],
      "metadata": {
        "id": "LPNmYQh3fYZI"
      },
      "execution_count": null,
      "outputs": []
    },
    {
      "cell_type": "code",
      "source": [
        "start_time = timer()\n",
        "end_time = timer()\n",
        "print_train_time(start=start_time, end=end_time, device=None)"
      ],
      "metadata": {
        "colab": {
          "base_uri": "https://localhost:8080/"
        },
        "id": "v_QUPkmti2Zy",
        "outputId": "cc9d737b-6ae0-4b39-b041-ef2eb80fe0d4"
      },
      "execution_count": null,
      "outputs": [
        {
          "output_type": "stream",
          "name": "stdout",
          "text": [
            "Train time on None: 0.000 seconds\n"
          ]
        },
        {
          "output_type": "execute_result",
          "data": {
            "text/plain": [
              "3.2201999601966236e-05"
            ]
          },
          "metadata": {},
          "execution_count": 144
        }
      ]
    },
    {
      "cell_type": "code",
      "source": [
        "from tqdm.auto import tqdm\n",
        "from timeit import default_timer as timer\n",
        "import torch\n",
        "\n",
        "torch.manual_seed(42)\n",
        "\n",
        "train_time_start_on_cpu = timer()\n",
        "\n",
        "epochs = 3\n",
        "\n",
        "for epoch in tqdm(range(epochs)):\n",
        "  print(f\"Epoch: {epoch}\\n-------\")\n",
        "  train_loss = 0\n",
        "\n",
        "  for batch, (x, y) in enumerate(train_dataloader):  # changed X → x\n",
        "    model_0.train()\n",
        "\n",
        "    y_pred = model_0(x)  # changed x to lowercase x to match line above\n",
        "\n",
        "    loss = loss_fn(y_pred, y)\n",
        "    train_loss += loss.item()  # .item() to accumulate scalar, not tensor\n",
        "\n",
        "    optimizer.zero_grad()\n",
        "    loss.backward()\n",
        "    optimizer.step()\n",
        "\n",
        "    if batch % 400 == 0:\n",
        "      print(f\"Looked at {batch * len(x)}/{len(train_dataloader.dataset)} samples\")\n",
        "\n",
        "train_loss /= len(train_dataloader)\n",
        "\n",
        "test_loss, test_acc = 0, 0\n",
        "model_0.eval()\n",
        "with torch.inference_mode():\n",
        "  for x_test, y_test in test_dataloader:\n",
        "    test_pred = model_0(x_test)\n",
        "    test_loss += loss_fn(test_pred, y_test).item()  # add .item()\n",
        "\n",
        "    test_acc += accuracy_fn(y_true=y_test, y_pred=test_pred.argmax(dim=1))\n",
        "\n",
        "test_loss /= len(test_dataloader)\n",
        "test_acc /= len(test_dataloader)\n",
        "\n",
        "print(f\"Train loss: {train_loss:.4f} | Test loss: {test_loss:.4f}, Test acc: {test_acc:.4f}\")\n",
        "\n",
        "train_time_end_on_cpu = timer()\n",
        "total_train_time_model_0 = print_train_time(start=train_time_start_on_cpu, end=train_time_end_on_cpu, device=str(next(model_0.parameters()).device))\n"
      ],
      "metadata": {
        "colab": {
          "base_uri": "https://localhost:8080/",
          "height": 448,
          "referenced_widgets": [
            "e2ba183dc8f0484e99ed0c893f30ab0f",
            "b0ec005613bf4cce906fc157e89c5bae",
            "6f7e950cf0f84fdfaa573a603ab59fc2",
            "9544772aeb0f4226b7734e46c55043b8",
            "236698cfb8f44dd6913abc95b4e898d1",
            "33a72b5d703d4299a320684ea8c8caf5",
            "ff9fe14b9f7c4cd79510850d963c9211",
            "3992434755334c1eb6de8a8d89882910",
            "488779edb29543268aa87d98c297a6d5",
            "ce1d4a2424e04a8db66d4266c5f2c58d",
            "05c536be3d894037823ae10574c24751"
          ]
        },
        "id": "nLPf3QBXjBrv",
        "outputId": "e502ee1c-2c8b-4ed0-9d74-746756367533"
      },
      "execution_count": null,
      "outputs": [
        {
          "output_type": "display_data",
          "data": {
            "text/plain": [
              "  0%|          | 0/3 [00:00<?, ?it/s]"
            ],
            "application/vnd.jupyter.widget-view+json": {
              "version_major": 2,
              "version_minor": 0,
              "model_id": "e2ba183dc8f0484e99ed0c893f30ab0f"
            }
          },
          "metadata": {}
        },
        {
          "output_type": "stream",
          "name": "stdout",
          "text": [
            "Epoch: 0\n",
            "-------\n",
            "Looked at 0/60000 samples\n",
            "Looked at 12800/60000 samples\n",
            "Looked at 25600/60000 samples\n",
            "Looked at 38400/60000 samples\n",
            "Looked at 51200/60000 samples\n",
            "Epoch: 1\n",
            "-------\n",
            "Looked at 0/60000 samples\n",
            "Looked at 12800/60000 samples\n",
            "Looked at 25600/60000 samples\n",
            "Looked at 38400/60000 samples\n",
            "Looked at 51200/60000 samples\n",
            "Epoch: 2\n",
            "-------\n",
            "Looked at 0/60000 samples\n",
            "Looked at 12800/60000 samples\n",
            "Looked at 25600/60000 samples\n",
            "Looked at 38400/60000 samples\n",
            "Looked at 51200/60000 samples\n",
            "Train loss: 0.4532 | Test loss: 0.5109, Test acc: 82.3782\n",
            "Train time on cpu: 38.744 seconds\n"
          ]
        }
      ]
    },
    {
      "cell_type": "code",
      "source": [
        "torch.manual_seed(42)\n",
        "def eval_model(model: torch.nn.Module,\n",
        "               data_loader: torch.utils.data.DataLoader,\n",
        "               loss_fn: torch.nn.Module,\n",
        "               accuracy_fn):\n",
        "  \"\"\"Returns a dictionary containing the results of model predicting on data_loader.\"\"\"\n",
        "  loss, acc = 0, 0\n",
        "  model.eval()\n",
        "  with torch.inference_mode():\n",
        "    for X, y in tqdm(data_loader):\n",
        "      # Make predictions\n",
        "      y_pred = model(X)\n",
        "\n",
        "      # Accumulate the loss and acc values per batch\n",
        "      loss += loss_fn(y_pred, y)\n",
        "      acc += accuracy_fn(y_true=y,\n",
        "                         y_pred=y_pred.argmax(dim=1))\n",
        "\n",
        "    # Scale loss and acc to find the average\n",
        "    loss /= len(data_loader)\n",
        "    acc /= len(data_loader)\n",
        "\n",
        "  return {\"model_name\": model.__class__.__name__, # only works when model was created with a class\n",
        "          \"model_loss\": loss.item(),\n",
        "          \"model_acc\": acc}\n",
        "\n",
        "# Calculate model 0 results on test dataset\n",
        "model_0_results = eval_model(model=model_0,\n",
        "                             data_loader=test_dataloader,\n",
        "                             loss_fn=loss_fn,\n",
        "                             accuracy_fn=accuracy_fn)\n",
        "model_0_results"
      ],
      "metadata": {
        "colab": {
          "base_uri": "https://localhost:8080/",
          "height": 101,
          "referenced_widgets": [
            "6ecf384d895c4bbe88530d6138bd61c5",
            "3abfef5259094877a9e326447f85a488",
            "ba8297bb0296462dad59159723b8983b",
            "a49ede123c904ab38864c4a6e1795a34",
            "8390d620a75446079535e91879427819",
            "b559055444394327ae770ed13b52749e",
            "ab1f2bb85f6947abb533d6faf68dbc2c",
            "20cd8d1f673b4ae6b6e86e3214ae7750",
            "5628b3dfcbd84d01a671848eaa7e02f7",
            "a85a563c97f9446cae87805d78361ff2",
            "b35fd35e21224242bd2257a5dabffaec"
          ]
        },
        "id": "BlxGGMGAod4I",
        "outputId": "f2ea842f-f622-4d41-d847-df295193e242"
      },
      "execution_count": null,
      "outputs": [
        {
          "output_type": "display_data",
          "data": {
            "text/plain": [
              "  0%|          | 0/313 [00:00<?, ?it/s]"
            ],
            "application/vnd.jupyter.widget-view+json": {
              "version_major": 2,
              "version_minor": 0,
              "model_id": "6ecf384d895c4bbe88530d6138bd61c5"
            }
          },
          "metadata": {}
        },
        {
          "output_type": "execute_result",
          "data": {
            "text/plain": [
              "{'model_name': 'FashionMNISTModelV0',\n",
              " 'model_loss': 0.5108762979507446,\n",
              " 'model_acc': 82.37819488817891}"
            ]
          },
          "metadata": {},
          "execution_count": 146
        }
      ]
    },
    {
      "cell_type": "code",
      "source": [
        "!nvidia-smi"
      ],
      "metadata": {
        "colab": {
          "base_uri": "https://localhost:8080/"
        },
        "id": "f6kHqNSlxCrD",
        "outputId": "0cca7ef7-f2ae-4bf1-f441-c68ed13f78d3"
      },
      "execution_count": null,
      "outputs": [
        {
          "output_type": "stream",
          "name": "stdout",
          "text": [
            "/bin/bash: line 1: nvidia-smi: command not found\n"
          ]
        }
      ]
    },
    {
      "cell_type": "code",
      "source": [
        "torch.cuda.is_available()"
      ],
      "metadata": {
        "colab": {
          "base_uri": "https://localhost:8080/"
        },
        "id": "piuHOatJxCon",
        "outputId": "8558d8fe-e84a-495a-dd1e-79d5993049b4"
      },
      "execution_count": null,
      "outputs": [
        {
          "output_type": "execute_result",
          "data": {
            "text/plain": [
              "False"
            ]
          },
          "metadata": {},
          "execution_count": 148
        }
      ]
    },
    {
      "cell_type": "code",
      "source": [
        "import torch\n",
        "device = \"cuda\" if torch.cuda.is_available() else \"cpu\"\n",
        "device"
      ],
      "metadata": {
        "colab": {
          "base_uri": "https://localhost:8080/",
          "height": 36
        },
        "id": "9AeEjYIrxCmJ",
        "outputId": "87ad763f-81bb-4065-f862-fea05735e597"
      },
      "execution_count": null,
      "outputs": [
        {
          "output_type": "execute_result",
          "data": {
            "text/plain": [
              "'cpu'"
            ],
            "application/vnd.google.colaboratory.intrinsic+json": {
              "type": "string"
            }
          },
          "metadata": {},
          "execution_count": 149
        }
      ]
    },
    {
      "cell_type": "code",
      "source": [
        "class FashionMNISTModelV1(nn.Module):\n",
        "    def __init__(self, input_shape, hidden_units, output_shape):\n",
        "        super().__init__()\n",
        "        self.layer_stack = nn.Sequential(\n",
        "            nn.Flatten(),\n",
        "            nn.Linear(in_features=input_shape, out_features=hidden_units),\n",
        "            nn.ReLU(),\n",
        "            nn.Linear(in_features=hidden_units, out_features=output_shape)\n",
        "        )\n",
        "\n",
        "    def forward(self, x):\n",
        "        return self.layer_stack(x)"
      ],
      "metadata": {
        "id": "SCaA7LfKxCjh"
      },
      "execution_count": null,
      "outputs": []
    },
    {
      "cell_type": "code",
      "source": [
        "torch.manual_seed(42)\n",
        "model_1 = FashionMNISTModelV1( input_shape=784,\n",
        "                               hidden_units=10,\n",
        "                               output_shape=len(class_names)\n",
        ").to(device)\n",
        "\n",
        "next(model_1.parameters()).device"
      ],
      "metadata": {
        "colab": {
          "base_uri": "https://localhost:8080/"
        },
        "id": "1U7tb3AXxChI",
        "outputId": "273b3600-d69c-4e47-bfd8-f57c53f8bb94"
      },
      "execution_count": null,
      "outputs": [
        {
          "output_type": "execute_result",
          "data": {
            "text/plain": [
              "device(type='cpu')"
            ]
          },
          "metadata": {},
          "execution_count": 151
        }
      ]
    },
    {
      "cell_type": "code",
      "source": [
        "from helper_functions import accuracy_fn\n",
        "loss_fn = nn.CrossEntropyLoss()\n",
        "optimizer = torch.optim.SGD(params=model_1.parameters(), lr=0.1)"
      ],
      "metadata": {
        "id": "hoLZLAiixCev"
      },
      "execution_count": null,
      "outputs": []
    },
    {
      "cell_type": "code",
      "source": [
        "def train_step(model: torch.nn.Module,\n",
        "               data_loader: torch.utils.data.DataLoader,\n",
        "               loss_fn: torch.nn.Module,\n",
        "               optimizer: torch.optim.Optimizer,\n",
        "               accuracy_fn,\n",
        "               device: torch.device = device):\n",
        "    \"\"\"Performs a training step on a single batch of data.\"\"\"\n",
        "    train_loss, train_acc = 0, 0\n",
        "    model.train()\n",
        "    for batch, (x, y) in enumerate(data_loader):\n",
        "        x, y = x.to(device), y.to(device)\n",
        "        # 1. Forward pass\n",
        "        y_pred = model(x)\n",
        "\n",
        "        # 2. Calculate loss\n",
        "        loss = loss_fn(y_pred, y)\n",
        "        train_loss += loss\n",
        "        train_acc += accuracy_fn(y_true=y,\n",
        "                                 y_pred=y_pred.argmax(dim=1))\n",
        "\n",
        "        # 3. Optimizer zero grad\n",
        "        optimizer.zero_grad()\n",
        "\n",
        "        # 4. Loss backward\n",
        "        loss.backward()\n",
        "\n",
        "        # 5. Optimizer step\n",
        "        optimizer.step()\n",
        "\n",
        "    # Calculate loss and acc per epoch\n",
        "    train_loss /= len(data_loader)\n",
        "    train_acc /= len(data_loader)\n",
        "    print(f\"Train loss: {train_loss:.5f} | Train accuracy: {train_acc:.2f}%\")"
      ],
      "metadata": {
        "id": "R9aEiJ2nxCcJ"
      },
      "execution_count": null,
      "outputs": []
    },
    {
      "cell_type": "code",
      "source": [
        "def test_step(model: torch.nn.Module,\n",
        "              data_loader: torch.utils.data.DataLoader,\n",
        "              loss_fn: torch.nn.Module,\n",
        "              accuracy_fn,\n",
        "              device: torch.device = device):\n",
        "    \"\"\"Performs a testing loop step on model going over data_loader.\"\"\"\n",
        "    test_loss, test_acc = 0, 0\n",
        "    model.eval()\n",
        "    with torch.inference_mode():\n",
        "        for x, y in data_loader:\n",
        "            # Send data to device\n",
        "            x, y = x.to(device), y.to(device)\n",
        "\n",
        "            # 1. Forward pass\n",
        "            test_pred = model(x)\n",
        "\n",
        "            # 2. Calculate loss and accuracy\n",
        "            test_loss += loss_fn(test_pred, y)\n",
        "            test_acc += accuracy_fn(y_true=y,\n",
        "                                    y_pred=test_pred.argmax(dim=1)) # go from logits -> prediction labels\n",
        "\n",
        "        # Adjust metrics and print out\n",
        "        test_loss /= len(data_loader)\n",
        "        test_acc /= len(data_loader)\n",
        "        print(f\"Test loss: {test_loss:.5f} | Test accuracy: {test_acc:.2f}%\\n\")"
      ],
      "metadata": {
        "id": "GphatvZ2xCZ0"
      },
      "execution_count": null,
      "outputs": []
    },
    {
      "cell_type": "code",
      "source": [
        "import torch\n",
        "from timeit import default_timer as timer\n",
        "from tqdm.auto import tqdm  # for the progress bar\n",
        "\n",
        "# Set random seed\n",
        "torch.manual_seed(42)\n",
        "\n",
        "# Start timer\n",
        "train_time_start_on_gpu = timer()\n",
        "\n",
        "# Set number of epochs\n",
        "epochs = 3\n",
        "\n",
        "# Training and testing loop\n",
        "for epoch in tqdm(range(epochs)):\n",
        "    print(f\"Epoch: {epoch}\\n---------\")\n",
        "    train_step(\n",
        "        model=model_1,\n",
        "        data_loader=train_dataloader,\n",
        "        loss_fn=loss_fn,\n",
        "        optimizer=optimizer,\n",
        "        accuracy_fn=accuracy_fn,\n",
        "        device=device\n",
        "    )\n",
        "\n",
        "    test_step(\n",
        "        model=model_1,\n",
        "        data_loader=test_dataloader,\n",
        "        loss_fn=loss_fn,\n",
        "        accuracy_fn=accuracy_fn,\n",
        "        device=device\n",
        "    )\n",
        "\n",
        "# End timer\n",
        "train_time_end_on_gpu = timer()\n",
        "\n",
        "# Print total training time\n",
        "total_train_time_model_1 = print_train_time(\n",
        "    start=train_time_start_on_gpu,\n",
        "    end=train_time_end_on_gpu,\n",
        "    device=device\n",
        ")\n"
      ],
      "metadata": {
        "colab": {
          "base_uri": "https://localhost:8080/",
          "height": 327,
          "referenced_widgets": [
            "2a58436e13d94b3db08cd7809181d706",
            "790eb7bf91034c55a76092018225831c",
            "f8f985af9a4542be9baf5eb635fe1729",
            "f4fc84812d5642e49d6354ceb0171e5d",
            "4ade2a0d5e354034b0d61f503f2811a0",
            "646db80d79534afda7cb35f69f332196",
            "7a08f71290d24c30ac386279e4f73403",
            "1e87693c019c44e989e9ea1957db7add",
            "0d177a7002c549f0bad90678f3100cba",
            "07e768f334394ca98ca59e313459cabd",
            "b03ba352490f48209bdda418be503b7a"
          ]
        },
        "id": "Cw9s0LgNxCXW",
        "outputId": "157bc098-d246-46e6-f781-b692cc7e9db4"
      },
      "execution_count": null,
      "outputs": [
        {
          "output_type": "display_data",
          "data": {
            "text/plain": [
              "  0%|          | 0/3 [00:00<?, ?it/s]"
            ],
            "application/vnd.jupyter.widget-view+json": {
              "version_major": 2,
              "version_minor": 0,
              "model_id": "2a58436e13d94b3db08cd7809181d706"
            }
          },
          "metadata": {}
        },
        {
          "output_type": "stream",
          "name": "stdout",
          "text": [
            "Epoch: 0\n",
            "---------\n",
            "Train loss: 0.64607 | Train accuracy: 77.17%\n",
            "Test loss: 0.53855 | Test accuracy: 80.76%\n",
            "\n",
            "Epoch: 1\n",
            "---------\n",
            "Train loss: 0.48094 | Train accuracy: 82.94%\n",
            "Test loss: 0.49390 | Test accuracy: 82.46%\n",
            "\n",
            "Epoch: 2\n",
            "---------\n",
            "Train loss: 0.44689 | Train accuracy: 84.16%\n",
            "Test loss: 0.45746 | Test accuracy: 83.99%\n",
            "\n",
            "Train time on cpu: 37.661 seconds\n"
          ]
        }
      ]
    },
    {
      "cell_type": "code",
      "source": [
        "def eval_model(model, data_loader, loss_fn, accuracy_fn, device):\n",
        "    \"\"\"Returns a dictionary containing the results of model evaluation on test data.\"\"\"\n",
        "    model.eval()\n",
        "    loss, acc = 0, 0\n",
        "\n",
        "    with torch.inference_mode():\n",
        "        for X, y in data_loader:\n",
        "            X, y = X.to(device), y.to(device)\n",
        "\n",
        "            y_pred = model(X)\n",
        "\n",
        "            loss += loss_fn(y_pred, y).item()\n",
        "            acc += accuracy_fn(y_true=y, y_pred=y_pred.argmax(dim=1))  # .argmax gets class predictions\n",
        "\n",
        "    loss /= len(data_loader)\n",
        "    acc /= len(data_loader)\n",
        "\n",
        "    return {\"model_name\": model.__class__.__name__,\n",
        "            \"model_loss\": loss,\n",
        "            \"model_acc\": acc}\n"
      ],
      "metadata": {
        "id": "hle_kbRWxCST"
      },
      "execution_count": null,
      "outputs": []
    },
    {
      "cell_type": "code",
      "source": [
        "model_1_results = eval_model(model=model_1,\n",
        "                       data_loader=test_dataloader,\n",
        "                      loss_fn=loss_fn,\n",
        "                      accuracy_fn=accuracy_fn,\n",
        "                      device=device)\n",
        "model_1_results"
      ],
      "metadata": {
        "colab": {
          "base_uri": "https://localhost:8080/"
        },
        "id": "fRSMfP2hxCM3",
        "outputId": "95c92fd5-23e3-4aa5-8f2a-1e02e69184d0"
      },
      "execution_count": null,
      "outputs": [
        {
          "output_type": "execute_result",
          "data": {
            "text/plain": [
              "{'model_name': 'FashionMNISTModelV1',\n",
              " 'model_loss': 0.4574634914104931,\n",
              " 'model_acc': 83.98562300319489}"
            ]
          },
          "metadata": {},
          "execution_count": 157
        }
      ]
    },
    {
      "cell_type": "code",
      "source": [
        "model_0_results"
      ],
      "metadata": {
        "colab": {
          "base_uri": "https://localhost:8080/"
        },
        "id": "DDKk3PTfxCKR",
        "outputId": "e357ece8-0abd-408b-f5ee-636e679e9180"
      },
      "execution_count": null,
      "outputs": [
        {
          "output_type": "execute_result",
          "data": {
            "text/plain": [
              "{'model_name': 'FashionMNISTModelV0',\n",
              " 'model_loss': 0.5108762979507446,\n",
              " 'model_acc': 82.37819488817891}"
            ]
          },
          "metadata": {},
          "execution_count": 158
        }
      ]
    },
    {
      "cell_type": "code",
      "source": [
        "class FashionMNISTV2(nn.Module):\n",
        "  \"\"\"Model architecture that replicates the tinnyvgg model from cnn explainer web\"\"\"\n",
        "  def __init__(self, input_shape: int, hidden_units: int, output_shape: int):\n",
        "    super().__init__()\n",
        "    self.conv_block_1 = nn.Sequential(\n",
        "    nn.conv2d(in_channels=input_shape,\n",
        "              out_channels=hidden_units,\n",
        "              kernel_size=3,\n",
        "              stride=1,\n",
        "              padding=1),\n",
        "    nn.ReLU(),\n",
        "    nn.Conv2d(in_channels=hidden_units,\n",
        "              put_channels=hidden_units,\n",
        "              kernel_size=3,\n",
        "              strike=1,\n",
        "              padding=1),\n",
        "    nn.ReLU(),\n",
        "    nn.MaxPool2d(kernel_size=2))\n",
        "    self.conv_block_2 = nn.Sequential(\n",
        "        nn.Conv2d(in_channels=hidden_units,\n",
        "                  out_channels=hidden_units,\n",
        "                  kernel_size=3,\n",
        "                  stride=1,\n",
        "                  padding=1),\n",
        "        nn.ReLU(),\n",
        "        nn.Conv2d(in_channels=hidden_units,\n",
        "                  out_channels=hidden_units,\n",
        "                  kernel_size=3,\n",
        "                  stride=1,\n",
        "                  padding=1),\n",
        "        nn.ReLU(),\n",
        "        nn.MaxPool2d(kernel_size=2)\n",
        "\n",
        "      )\n",
        "    self.classifier = nn.Sequential(\n",
        "        nn.Flatten(),\n",
        "        nn.Linear(in_features=hidden_units*7*7,\n",
        "                  out_features=output_shape))\n",
        "  def forward(self, x):\n",
        "        x = self.conv_block_1(x)\n",
        "        print(x.shape)\n",
        "        x = self.conv_block_2(x)\n",
        "        print(x.shape)\n",
        "        x = self.classifier(x)\n",
        "        print(x.shape)\n",
        "        return x"
      ],
      "metadata": {
        "id": "RqW_t9T2xCHm"
      },
      "execution_count": null,
      "outputs": []
    },
    {
      "cell_type": "code",
      "source": [
        "import torch.nn as nn\n",
        "\n",
        "class FashionMNISTV2(nn.Module):\n",
        "    def __init__(self, input_shape: int, hidden_units: int, output_shape: int):\n",
        "        super().__init__()\n",
        "        self.conv_block_1 = nn.Sequential(\n",
        "            nn.Conv2d(in_channels=input_shape,\n",
        "                      out_channels=hidden_units,\n",
        "                      kernel_size=3,\n",
        "                      stride=1,\n",
        "                      padding=1),\n",
        "            nn.ReLU(),\n",
        "            nn.MaxPool2d(kernel_size=2)\n",
        "        )\n",
        "        self.conv_block_2 = nn.Sequential(\n",
        "            nn.Conv2d(in_channels=hidden_units,\n",
        "                      out_channels=hidden_units,\n",
        "                      kernel_size=3,\n",
        "                      stride=1,\n",
        "                      padding=1),\n",
        "            nn.ReLU(),\n",
        "            nn.MaxPool2d(kernel_size=2)\n",
        "        )\n",
        "        self.classifier = nn.Sequential(\n",
        "            nn.Flatten(),\n",
        "            nn.Linear(hidden_units * 7 * 7, output_shape)\n",
        "        )\n",
        "\n",
        "    def forward(self, x):\n",
        "        x = self.conv_block_1(x)\n",
        "        x = self.conv_block_2(x)\n",
        "        x = self.classifier(x)\n",
        "        return x\n"
      ],
      "metadata": {
        "id": "96HVyEmkxCFd"
      },
      "execution_count": null,
      "outputs": []
    },
    {
      "cell_type": "code",
      "source": [
        "model_2 = FashionMNISTV2(\n",
        "    input_shape=1,\n",
        "    hidden_units=10,\n",
        "    output_shape=len(class_names)\n",
        ").to(device)\n"
      ],
      "metadata": {
        "id": "7Rh1Qt3MzLp1"
      },
      "execution_count": null,
      "outputs": []
    },
    {
      "cell_type": "code",
      "source": [
        "torch.manual_seed(42)\n",
        "images = torch.randn(size=(32, 3, 64, 64))\n",
        "test_image = images[0]\n",
        "print(f\"image batch shaper: {images.shape}\")\n",
        "print(f\"image shape: {test_image.shape}\")\n",
        "print(f\"test image:\\n {test_image}\")"
      ],
      "metadata": {
        "colab": {
          "base_uri": "https://localhost:8080/"
        },
        "id": "4IQc7rMixCDl",
        "outputId": "509ccaf2-eb87-4c19-81a9-448983f98191"
      },
      "execution_count": null,
      "outputs": [
        {
          "output_type": "stream",
          "name": "stdout",
          "text": [
            "image batch shaper: torch.Size([32, 3, 64, 64])\n",
            "image shape: torch.Size([3, 64, 64])\n",
            "test image:\n",
            " tensor([[[ 1.9269,  1.4873,  0.9007,  ...,  1.8446, -1.1845,  1.3835],\n",
            "         [ 1.4451,  0.8564,  2.2181,  ...,  0.3399,  0.7200,  0.4114],\n",
            "         [ 1.9312,  1.0119, -1.4364,  ..., -0.5558,  0.7043,  0.7099],\n",
            "         ...,\n",
            "         [-0.5610, -0.4830,  0.4770,  ..., -0.2713, -0.9537, -0.6737],\n",
            "         [ 0.3076, -0.1277,  0.0366,  ..., -2.0060,  0.2824, -0.8111],\n",
            "         [-1.5486,  0.0485, -0.7712,  ..., -0.1403,  0.9416, -0.0118]],\n",
            "\n",
            "        [[-0.5197,  1.8524,  1.8365,  ...,  0.8935, -1.5114, -0.8515],\n",
            "         [ 2.0818,  1.0677, -1.4277,  ...,  1.6612, -2.6223, -0.4319],\n",
            "         [-0.1010, -0.4388, -1.9775,  ...,  0.2106,  0.2536, -0.7318],\n",
            "         ...,\n",
            "         [ 0.2779,  0.7342, -0.3736,  ..., -0.4601,  0.1815,  0.1850],\n",
            "         [ 0.7205, -0.2833,  0.0937,  ..., -0.1002, -2.3609,  2.2465],\n",
            "         [-1.3242, -0.1973,  0.2920,  ...,  0.5409,  0.6940,  1.8563]],\n",
            "\n",
            "        [[-0.7978,  1.0261,  1.1465,  ...,  1.2134,  0.9354, -0.0780],\n",
            "         [-1.4647, -1.9571,  0.1017,  ..., -1.9986, -0.7409,  0.7011],\n",
            "         [-1.3938,  0.8466, -1.7191,  ..., -1.1867,  0.1320,  0.3407],\n",
            "         ...,\n",
            "         [ 0.8206, -0.3745,  1.2499,  ..., -0.0676,  0.0385,  0.6335],\n",
            "         [-0.5589, -0.3393,  0.2347,  ...,  2.1181,  2.4569,  1.3083],\n",
            "         [-0.4092,  1.5199,  0.2401,  ..., -0.2558,  0.7870,  0.9924]]])\n"
          ]
        }
      ]
    },
    {
      "cell_type": "code",
      "source": [
        "torch.manual_seed(42)\n",
        "conv_layer = nn.Conv2d(in_channels=3,\n",
        "                       out_channels=10,\n",
        "                       kernel_size=(3,3),\n",
        "                       stride=1,\n",
        "                       padding=0)\n",
        "conv_output = conv_layer(test_image.unsqueeze(dim=0))\n",
        "print(f\"conv output shape: {conv_output.shape}\")\n",
        "conv_output"
      ],
      "metadata": {
        "colab": {
          "base_uri": "https://localhost:8080/"
        },
        "id": "kLIh9ewxxB_g",
        "outputId": "b2752404-a4d8-4808-8b07-ed29f149e79e"
      },
      "execution_count": null,
      "outputs": [
        {
          "output_type": "stream",
          "name": "stdout",
          "text": [
            "conv output shape: torch.Size([1, 10, 62, 62])\n"
          ]
        },
        {
          "output_type": "execute_result",
          "data": {
            "text/plain": [
              "tensor([[[[ 1.5396,  0.0516,  0.6454,  ..., -0.3673,  0.8711,  0.4256],\n",
              "          [ 0.3662,  1.0114, -0.5997,  ...,  0.8983,  0.2809, -0.2741],\n",
              "          [ 1.2664, -1.4054,  0.3727,  ..., -0.3409,  1.2191, -0.0463],\n",
              "          ...,\n",
              "          [-0.1541,  0.5132, -0.3624,  ..., -0.2360, -0.4609, -0.0035],\n",
              "          [ 0.2981, -0.2432,  1.5012,  ..., -0.6289, -0.7283, -0.5767],\n",
              "          [-0.0386, -0.0781, -0.0388,  ...,  0.2842,  0.4228, -0.1802]],\n",
              "\n",
              "         [[-0.2840, -0.0319, -0.4455,  ..., -0.7956,  1.5599, -1.2449],\n",
              "          [ 0.2753, -0.1262, -0.6541,  ..., -0.2211,  0.1999, -0.8856],\n",
              "          [-0.5404, -1.5489,  0.0249,  ..., -0.5932, -1.0913, -0.3849],\n",
              "          ...,\n",
              "          [ 0.3870, -0.4064, -0.8236,  ...,  0.1734, -0.4330, -0.4951],\n",
              "          [-0.1984, -0.6386,  1.0263,  ..., -0.9401, -0.0585, -0.7833],\n",
              "          [-0.6306, -0.2052, -0.3694,  ..., -1.3248,  0.2456, -0.7134]],\n",
              "\n",
              "         [[ 0.4414,  0.5100,  0.4846,  ..., -0.8484,  0.2638,  1.1258],\n",
              "          [ 0.8117,  0.3191, -0.0157,  ...,  1.2686,  0.2319,  0.5003],\n",
              "          [ 0.3212,  0.0485, -0.2581,  ...,  0.2258,  0.2587, -0.8804],\n",
              "          ...,\n",
              "          [-0.1144, -0.1869,  0.0160,  ..., -0.8346,  0.0974,  0.8421],\n",
              "          [ 0.2941,  0.4417,  0.5866,  ..., -0.1224,  0.4814, -0.4799],\n",
              "          [ 0.6059, -0.0415, -0.2028,  ...,  0.1170,  0.2521, -0.4372]],\n",
              "\n",
              "         ...,\n",
              "\n",
              "         [[-0.2560, -0.0477,  0.6380,  ...,  0.6436,  0.7553, -0.7055],\n",
              "          [ 1.5595, -0.2209, -0.9486,  ..., -0.4876,  0.7754,  0.0750],\n",
              "          [-0.0797,  0.2471,  1.1300,  ...,  0.1505,  0.2354,  0.9576],\n",
              "          ...,\n",
              "          [ 1.1065,  0.6839,  1.2183,  ...,  0.3015, -0.1910, -0.1902],\n",
              "          [-0.3486, -0.7173, -0.3582,  ...,  0.4917,  0.7219,  0.1513],\n",
              "          [ 0.0119,  0.1017,  0.7839,  ..., -0.3752, -0.8127, -0.1257]],\n",
              "\n",
              "         [[ 0.3841,  1.1322,  0.1620,  ...,  0.7010,  0.0109,  0.6058],\n",
              "          [ 0.1664,  0.1873,  1.5924,  ...,  0.3733,  0.9096, -0.5399],\n",
              "          [ 0.4094, -0.0861, -0.7935,  ..., -0.1285, -0.9932, -0.3013],\n",
              "          ...,\n",
              "          [ 0.2688, -0.5630, -1.1902,  ...,  0.4493,  0.5404, -0.0103],\n",
              "          [ 0.0535,  0.4411,  0.5313,  ...,  0.0148, -1.0056,  0.3759],\n",
              "          [ 0.3031, -0.1590, -0.1316,  ..., -0.5384, -0.4271, -0.4876]],\n",
              "\n",
              "         [[-1.1865, -0.7280, -1.2331,  ..., -0.9013, -0.0542, -1.5949],\n",
              "          [-0.6345, -0.5920,  0.5326,  ..., -1.0395, -0.7963, -0.0647],\n",
              "          [-0.1132,  0.5166,  0.2569,  ...,  0.5595, -1.6881,  0.9485],\n",
              "          ...,\n",
              "          [-0.0254, -0.2669,  0.1927,  ..., -0.2917,  0.1088, -0.4807],\n",
              "          [-0.2609, -0.2328,  0.1404,  ..., -0.1325, -0.8436, -0.7524],\n",
              "          [-1.1399, -0.1751, -0.8705,  ...,  0.1589,  0.3377,  0.3493]]]],\n",
              "       grad_fn=<ConvolutionBackward0>)"
            ]
          },
          "metadata": {},
          "execution_count": 163
        }
      ]
    },
    {
      "cell_type": "code",
      "source": [
        "print(f\"test image original shape: {test_image.shape}\")\n",
        "print(f\"test image unsqueezed shape: {test_image.unsqueeze(dim=0).shape}\")\n",
        "\n",
        "max_pool_layer = nn.MaxPool2d(kernel_size=2)\n",
        "test_image_through_conv = conv_layer(test_image.unsqueeze(dim=0))\n",
        "print(f\"shape after going through conv layer: {test_image_through_conv.shape}\")\n",
        "test_image_output = max_pool_layer(test_image_through_conv)\n",
        "print(f\"shape after going through max pool layer: {test_image_output.shape}\")"
      ],
      "metadata": {
        "colab": {
          "base_uri": "https://localhost:8080/"
        },
        "id": "_w77goBlxB8i",
        "outputId": "8903d3e2-3d5f-48f0-f14e-4894761c994a"
      },
      "execution_count": null,
      "outputs": [
        {
          "output_type": "stream",
          "name": "stdout",
          "text": [
            "test image original shape: torch.Size([3, 64, 64])\n",
            "test image unsqueezed shape: torch.Size([1, 3, 64, 64])\n",
            "shape after going through conv layer: torch.Size([1, 10, 62, 62])\n",
            "shape after going through max pool layer: torch.Size([1, 10, 31, 31])\n"
          ]
        }
      ]
    },
    {
      "cell_type": "code",
      "source": [
        "torch.manual_seed(42)\n",
        "random_tensor = torch.randn(size=(1, 1, 2, 2))\n",
        "print(f\"random tensor: {random_tensor}\")\n",
        "print(f\"random tensor shape: {random_tensor.shape}\")\n",
        "max_pool_layer = nn.MaxPool2d(kernel_size=2)\n",
        "max_pool_tesor=max_pool_layer(random_tensor)\n",
        "print(f\"random tensor: {random_tensor}\")\n",
        "print(f\"random tensor shape: {random_tensor.shape}\")\n"
      ],
      "metadata": {
        "colab": {
          "base_uri": "https://localhost:8080/"
        },
        "id": "4Ic0YeW3xB4m",
        "outputId": "eb8a72d6-a300-4992-992c-0b67a40e0216"
      },
      "execution_count": null,
      "outputs": [
        {
          "output_type": "stream",
          "name": "stdout",
          "text": [
            "random tensor: tensor([[[[0.3367, 0.1288],\n",
            "          [0.2345, 0.2303]]]])\n",
            "random tensor shape: torch.Size([1, 1, 2, 2])\n",
            "random tensor: tensor([[[[0.3367, 0.1288],\n",
            "          [0.2345, 0.2303]]]])\n",
            "random tensor shape: torch.Size([1, 1, 2, 2])\n"
          ]
        }
      ]
    },
    {
      "cell_type": "code",
      "source": [
        "plt.imshow(image.squeeze(), cmap=\"grey\")"
      ],
      "metadata": {
        "colab": {
          "base_uri": "https://localhost:8080/",
          "height": 447
        },
        "id": "z6TQ-xPDxB08",
        "outputId": "06f4f2ac-f37e-495d-b0ca-fe455c6002db"
      },
      "execution_count": null,
      "outputs": [
        {
          "output_type": "execute_result",
          "data": {
            "text/plain": [
              "<matplotlib.image.AxesImage at 0x7a29d01683d0>"
            ]
          },
          "metadata": {},
          "execution_count": 166
        },
        {
          "output_type": "display_data",
          "data": {
            "text/plain": [
              "<Figure size 640x480 with 1 Axes>"
            ],
            "image/png": "[encoded data removed]"
          },
          "metadata": {}
        }
      ]
    },
    {
      "cell_type": "code",
      "source": [
        "rand_image_tensor = torch.rand(size=(1, 1, 28,28))\n",
        "rand_image_tensor.shape"
      ],
      "metadata": {
        "colab": {
          "base_uri": "https://localhost:8080/"
        },
        "id": "UaOn-nE9pbIc",
        "outputId": "dbe31f13-cb56-4d12-dc89-fc6409a15712"
      },
      "execution_count": null,
      "outputs": [
        {
          "output_type": "execute_result",
          "data": {
            "text/plain": [
              "torch.Size([1, 1, 28, 28])"
            ]
          },
          "metadata": {},
          "execution_count": 167
        }
      ]
    },
    {
      "cell_type": "code",
      "source": [
        "model_2(rand_image_tensor.to(device))"
      ],
      "metadata": {
        "colab": {
          "base_uri": "https://localhost:8080/"
        },
        "id": "HX5DQ3XDp76a",
        "outputId": "ebe12b46-c5bf-43c3-96bb-6b604cf22be0"
      },
      "execution_count": null,
      "outputs": [
        {
          "output_type": "execute_result",
          "data": {
            "text/plain": [
              "tensor([[-0.0040,  0.0434, -0.0949,  0.1359,  0.0569, -0.0788, -0.0330,  0.0797,\n",
              "          0.1268,  0.0513]], grad_fn=<AddmmBackward0>)"
            ]
          },
          "metadata": {},
          "execution_count": 168
        }
      ]
    },
    {
      "cell_type": "code",
      "source": [
        "from helper_functions import accuracy_fn\n",
        "\n",
        "loss_fn = nn.CrossEntropyLoss()\n",
        "optimizer = torch.optim.SGD(params=model_2.parameters(), lr=0.1)\n",
        "\n",
        "model_2.state_dict()"
      ],
      "metadata": {
        "colab": {
          "base_uri": "https://localhost:8080/"
        },
        "id": "fPGu6mx4s7CQ",
        "outputId": "5ca93e25-a6a7-4250-ccc5-e73a099c925a"
      },
      "execution_count": null,
      "outputs": [
        {
          "output_type": "execute_result",
          "data": {
            "text/plain": [
              "OrderedDict([('conv_block_1.0.weight',\n",
              "              tensor([[[[-0.1536, -0.0391, -0.1354],\n",
              "                        [ 0.2211, -0.2631, -0.1537],\n",
              "                        [-0.0941, -0.2004,  0.0315]]],\n",
              "              \n",
              "              \n",
              "                      [[[-0.3292,  0.3010, -0.2832],\n",
              "                        [ 0.2573,  0.0555, -0.1082],\n",
              "                        [ 0.2060,  0.0520,  0.2693]]],\n",
              "              \n",
              "              \n",
              "                      [[[ 0.0364, -0.1051,  0.0896],\n",
              "                        [-0.0904,  0.1403,  0.2976],\n",
              "                        [ 0.1927, -0.1457,  0.1924]]],\n",
              "              \n",
              "              \n",
              "                      [[[ 0.0596,  0.1693, -0.2032],\n",
              "                        [-0.3300, -0.1288, -0.2557],\n",
              "                        [ 0.2735,  0.0960,  0.1381]]],\n",
              "              \n",
              "              \n",
              "                      [[[ 0.1054, -0.0058,  0.2609],\n",
              "                        [-0.2368,  0.0210, -0.2275],\n",
              "                        [ 0.1028, -0.1148,  0.1021]]],\n",
              "              \n",
              "              \n",
              "                      [[[-0.0694,  0.2765, -0.1976],\n",
              "                        [-0.1988, -0.1988,  0.2998],\n",
              "                        [ 0.1111,  0.3208, -0.2751]]],\n",
              "              \n",
              "              \n",
              "                      [[[-0.3306, -0.2608, -0.2242],\n",
              "                        [ 0.1350,  0.1194,  0.2770],\n",
              "                        [-0.1721, -0.2272,  0.1769]]],\n",
              "              \n",
              "              \n",
              "                      [[[-0.1347,  0.2023, -0.0791],\n",
              "                        [ 0.1907, -0.2590, -0.1682],\n",
              "                        [ 0.1016,  0.0705, -0.0850]]],\n",
              "              \n",
              "              \n",
              "                      [[[ 0.1987,  0.2266, -0.2417],\n",
              "                        [-0.1780,  0.3052, -0.1125],\n",
              "                        [-0.1182, -0.3225, -0.1909]]],\n",
              "              \n",
              "              \n",
              "                      [[[ 0.0833, -0.0440, -0.2420],\n",
              "                        [ 0.0078, -0.2277, -0.2828],\n",
              "                        [-0.1836, -0.2917, -0.2122]]]])),\n",
              "             ('conv_block_1.0.bias',\n",
              "              tensor([ 0.3332,  0.0630,  0.1027, -0.3109, -0.2189, -0.1110,  0.0521, -0.2933,\n",
              "                      -0.1436, -0.1996])),\n",
              "             ('conv_block_2.0.weight',\n",
              "              tensor([[[[ 0.0003, -0.0392, -0.0073],\n",
              "                        [-0.0714, -0.0724, -0.0615],\n",
              "                        [-0.0361, -0.0832,  0.0884]],\n",
              "              \n",
              "                       [[-0.0209,  0.0907,  0.0328],\n",
              "                        [-0.0893,  0.0729, -0.0290],\n",
              "                        [-0.0404, -0.0875, -0.1048]],\n",
              "              \n",
              "                       [[ 0.0302, -0.0230,  0.0410],\n",
              "                        [-0.0865,  0.0783, -0.0774],\n",
              "                        [-0.0182,  0.0220,  0.0544]],\n",
              "              \n",
              "                       [[ 0.0851,  0.0960, -0.0836],\n",
              "                        [ 0.0265, -0.0453, -0.0116],\n",
              "                        [-0.0789,  0.0960, -0.0774]],\n",
              "              \n",
              "                       [[ 0.0563,  0.0370,  0.0343],\n",
              "                        [-0.0570,  0.0958,  0.0232],\n",
              "                        [ 0.0136, -0.0929,  0.0442]],\n",
              "              \n",
              "                       [[-0.0158, -0.0483,  0.0905],\n",
              "                        [ 0.0235, -0.0583, -0.0534],\n",
              "                        [-0.0050,  0.0589, -0.0269]],\n",
              "              \n",
              "                       [[-0.0601, -0.0361, -0.0787],\n",
              "                        [ 0.0376,  0.0816, -0.0992],\n",
              "                        [ 0.0245,  0.0545,  0.0191]],\n",
              "              \n",
              "                       [[-0.0375,  0.0550,  0.0554],\n",
              "                        [ 0.0394, -0.0185, -0.0279],\n",
              "                        [ 0.0113, -0.0186, -0.0314]],\n",
              "              \n",
              "                       [[ 0.0674,  0.0906, -0.0104],\n",
              "                        [-0.0236,  0.0015, -0.0063],\n",
              "                        [ 0.0253,  0.0295, -0.0957]],\n",
              "              \n",
              "                       [[-0.0389,  0.0888,  0.0411],\n",
              "                        [-0.0052, -0.0636, -0.0645],\n",
              "                        [-0.0944, -0.0344,  0.0356]]],\n",
              "              \n",
              "              \n",
              "                      [[[ 0.0672,  0.0487, -0.0932],\n",
              "                        [-0.0634, -0.0166,  0.1020],\n",
              "                        [ 0.0152, -0.0273,  0.0436]],\n",
              "              \n",
              "                       [[-0.0401, -0.0682,  0.0769],\n",
              "                        [-0.0479, -0.0211, -0.1049],\n",
              "                        [ 0.0705,  0.0799,  0.0384]],\n",
              "              \n",
              "                       [[-0.0735, -0.1040, -0.0856],\n",
              "                        [ 0.0786,  0.0506,  0.0887],\n",
              "                        [ 0.0552,  0.0267, -0.0010]],\n",
              "              \n",
              "                       [[-0.0802, -0.0903, -0.0986],\n",
              "                        [ 0.0432, -0.0518, -0.0212],\n",
              "                        [-0.0607, -0.0192, -0.0742]],\n",
              "              \n",
              "                       [[-0.0689,  0.0350, -0.0313],\n",
              "                        [ 0.0651, -0.0338, -0.0773],\n",
              "                        [-0.0186, -0.0511, -0.0322]],\n",
              "              \n",
              "                       [[-0.1003,  0.0590, -0.0734],\n",
              "                        [ 0.0530,  0.0478,  0.0753],\n",
              "                        [-0.0809,  0.0758, -0.0498]],\n",
              "              \n",
              "                       [[ 0.0391,  0.0990, -0.0149],\n",
              "                        [-0.0008, -0.0243, -0.0880],\n",
              "                        [ 0.0506, -0.1046,  0.0654]],\n",
              "              \n",
              "                       [[ 0.0789,  0.0997, -0.0249],\n",
              "                        [-0.0866,  0.0237,  0.0582],\n",
              "                        [-0.1049, -0.0239, -0.0632]],\n",
              "              \n",
              "                       [[-0.0092, -0.0519, -0.0431],\n",
              "                        [-0.0335, -0.1002,  0.0865],\n",
              "                        [ 0.0884, -0.0165, -0.0120]],\n",
              "              \n",
              "                       [[-0.0430, -0.0952, -0.1026],\n",
              "                        [ 0.0392, -0.0579, -0.0678],\n",
              "                        [-0.0082, -0.0351, -0.0341]]],\n",
              "              \n",
              "              \n",
              "                      [[[ 0.0034, -0.0224, -0.0363],\n",
              "                        [-0.0505, -0.0858,  0.0884],\n",
              "                        [-0.0422,  0.0279, -0.0366]],\n",
              "              \n",
              "                       [[ 0.0086,  0.0983,  0.0486],\n",
              "                        [-0.0913,  0.0418,  0.1001],\n",
              "                        [ 0.0277,  0.0707,  0.1039]],\n",
              "              \n",
              "                       [[-0.0162,  0.0219, -0.0733],\n",
              "                        [-0.0217,  0.0781,  0.0540],\n",
              "                        [-0.0667, -0.0845, -0.0720]],\n",
              "              \n",
              "                       [[-0.1040, -0.0813, -0.0261],\n",
              "                        [ 0.0711,  0.0176, -0.0802],\n",
              "                        [-0.0846,  0.0524, -0.0784]],\n",
              "              \n",
              "                       [[-0.0130,  0.0506, -0.0488],\n",
              "                        [-0.0115, -0.0092, -0.0249],\n",
              "                        [-0.0534, -0.0940, -0.0852]],\n",
              "              \n",
              "                       [[-0.0564,  0.1018, -0.0509],\n",
              "                        [-0.0708,  0.0256,  0.0291],\n",
              "                        [ 0.0578,  0.0801,  0.0587]],\n",
              "              \n",
              "                       [[-0.1045,  0.0093,  0.0639],\n",
              "                        [-0.0097, -0.0621,  0.1005],\n",
              "                        [-0.0394, -0.0600, -0.0950]],\n",
              "              \n",
              "                       [[ 0.0047,  0.0467,  0.0233],\n",
              "                        [ 0.0208, -0.0799, -0.0984],\n",
              "                        [ 0.0019,  0.0961,  0.0608]],\n",
              "              \n",
              "                       [[-0.0614, -0.0137, -0.0777],\n",
              "                        [-0.0509,  0.0191,  0.0574],\n",
              "                        [ 0.0873, -0.0968,  0.0705]],\n",
              "              \n",
              "                       [[-0.0743,  0.0395,  0.0892],\n",
              "                        [ 0.0015,  0.0959, -0.0898],\n",
              "                        [-0.0403,  0.0615, -0.0230]]],\n",
              "              \n",
              "              \n",
              "                      [[[-0.0216, -0.0439,  0.0727],\n",
              "                        [ 0.0517,  0.0338, -0.0592],\n",
              "                        [-0.0856,  0.0114,  0.0312]],\n",
              "              \n",
              "                       [[-0.0487, -0.0295,  0.0712],\n",
              "                        [ 0.0084,  0.0048, -0.0259],\n",
              "                        [-0.0955, -0.0991, -0.0504]],\n",
              "              \n",
              "                       [[-0.0536,  0.0328, -0.0307],\n",
              "                        [-0.0412,  0.1005,  0.0367],\n",
              "                        [ 0.0751, -0.0510, -0.0431]],\n",
              "              \n",
              "                       [[ 0.0387, -0.0702, -0.0689],\n",
              "                        [-0.0051, -0.0386, -0.0790],\n",
              "                        [ 0.0625,  0.0848,  0.0171]],\n",
              "              \n",
              "                       [[-0.0184, -0.0976, -0.0384],\n",
              "                        [ 0.0268,  0.0497, -0.0133],\n",
              "                        [-0.0417,  0.0587, -0.0839]],\n",
              "              \n",
              "                       [[ 0.0666, -0.0409,  0.0016],\n",
              "                        [-0.0208,  0.0128, -0.0319],\n",
              "                        [ 0.0766, -0.0027,  0.0823]],\n",
              "              \n",
              "                       [[ 0.1013, -0.0514, -0.0769],\n",
              "                        [ 0.0846,  0.0826, -0.0805],\n",
              "                        [-0.0081, -0.1039, -0.0863]],\n",
              "              \n",
              "                       [[ 0.0204,  0.0280,  0.0223],\n",
              "                        [-0.0287,  0.0972,  0.0151],\n",
              "                        [-0.0622, -0.0060,  0.0253]],\n",
              "              \n",
              "                       [[ 0.0369, -0.0745,  0.0395],\n",
              "                        [-0.0539, -0.0876, -0.0576],\n",
              "                        [ 0.1017,  0.0901,  0.0944]],\n",
              "              \n",
              "                       [[ 0.0619,  0.0796, -0.0141],\n",
              "                        [-0.0580,  0.0527, -0.0546],\n",
              "                        [-0.0711, -0.0337,  0.0221]]],\n",
              "              \n",
              "              \n",
              "                      [[[ 0.0543, -0.0409, -0.0620],\n",
              "                        [ 0.0142, -0.0621, -0.0686],\n",
              "                        [ 0.0549, -0.0177,  0.0963]],\n",
              "              \n",
              "                       [[ 0.1025,  0.0315,  0.0363],\n",
              "                        [ 0.0243,  0.0017, -0.0077],\n",
              "                        [ 0.0014,  0.0394,  0.0980]],\n",
              "              \n",
              "                       [[-0.0273, -0.0446, -0.0255],\n",
              "                        [-0.0509,  0.0179,  0.0787],\n",
              "                        [ 0.0824,  0.0484, -0.0776]],\n",
              "              \n",
              "                       [[-0.0566, -0.0232, -0.0194],\n",
              "                        [ 0.0087, -0.0968,  0.0328],\n",
              "                        [-0.0804, -0.0667, -0.0876]],\n",
              "              \n",
              "                       [[ 0.0918, -0.0998,  0.0795],\n",
              "                        [-0.0035, -0.0123,  0.0659],\n",
              "                        [-0.0097,  0.0661,  0.0762]],\n",
              "              \n",
              "                       [[-0.0915,  0.0406,  0.0199],\n",
              "                        [ 0.0227,  0.0154,  0.0288],\n",
              "                        [-0.0507, -0.0135,  0.1002]],\n",
              "              \n",
              "                       [[ 0.0708, -0.0040, -0.0991],\n",
              "                        [ 0.0046, -0.0718,  0.0857],\n",
              "                        [-0.0640, -0.0076, -0.0234]],\n",
              "              \n",
              "                       [[ 0.0188,  0.0992,  0.0100],\n",
              "                        [ 0.0610,  0.0818,  0.0851],\n",
              "                        [-0.0364, -0.0236,  0.0508]],\n",
              "              \n",
              "                       [[-0.0288,  0.0494, -0.0230],\n",
              "                        [-0.0715,  0.0429,  0.0162],\n",
              "                        [ 0.0470,  0.1047,  0.0720]],\n",
              "              \n",
              "                       [[ 0.0999,  0.0056, -0.0907],\n",
              "                        [-0.0739, -0.0655, -0.0929],\n",
              "                        [-0.0528, -0.0970, -0.0973]]],\n",
              "              \n",
              "              \n",
              "                      [[[-0.0630, -0.1039, -0.0647],\n",
              "                        [ 0.0402,  0.0879, -0.0314],\n",
              "                        [-0.0307,  0.0563, -0.0520]],\n",
              "              \n",
              "                       [[-0.0498,  0.0649, -0.0918],\n",
              "                        [ 0.0129,  0.0931,  0.0181],\n",
              "                        [ 0.0287, -0.0614, -0.0015]],\n",
              "              \n",
              "                       [[ 0.0058,  0.0259,  0.0410],\n",
              "                        [ 0.0916, -0.0805,  0.0032],\n",
              "                        [-0.0527, -0.0834, -0.0084]],\n",
              "              \n",
              "                       [[-0.0928,  0.0736,  0.0122],\n",
              "                        [-0.0568,  0.0551, -0.0998],\n",
              "                        [-0.0408, -0.0205, -0.0896]],\n",
              "              \n",
              "                       [[-0.0670, -0.0172,  0.0800],\n",
              "                        [ 0.1018,  0.0671, -0.0629],\n",
              "                        [-0.0690,  0.0920,  0.0373]],\n",
              "              \n",
              "                       [[ 0.0028,  0.0143, -0.0847],\n",
              "                        [-0.0352,  0.1015, -0.0260],\n",
              "                        [-0.0053, -0.0875, -0.0590]],\n",
              "              \n",
              "                       [[-0.0022, -0.0655, -0.0131],\n",
              "                        [ 0.0429, -0.1031,  0.0313],\n",
              "                        [-0.0697, -0.0514,  0.0405]],\n",
              "              \n",
              "                       [[ 0.0838, -0.0288, -0.0433],\n",
              "                        [-0.0953, -0.0544, -0.0923],\n",
              "                        [-0.0241,  0.0215, -0.0988]],\n",
              "              \n",
              "                       [[ 0.0920,  0.0661, -0.1032],\n",
              "                        [-0.0503,  0.0344, -0.0217],\n",
              "                        [-0.0115, -0.0476,  0.0847]],\n",
              "              \n",
              "                       [[-0.0589,  0.0874,  0.0068],\n",
              "                        [ 0.0212,  0.0822, -0.0174],\n",
              "                        [-0.0600, -0.0170,  0.0855]]],\n",
              "              \n",
              "              \n",
              "                      [[[-0.0782,  0.0239, -0.1036],\n",
              "                        [ 0.0553,  0.0389,  0.0045],\n",
              "                        [ 0.0452,  0.0001,  0.0583]],\n",
              "              \n",
              "                       [[-0.0834, -0.0155,  0.0468],\n",
              "                        [ 0.1050,  0.0537, -0.0767],\n",
              "                        [ 0.0811, -0.0235, -0.0225]],\n",
              "              \n",
              "                       [[-0.0958, -0.0166,  0.0746],\n",
              "                        [ 0.0147, -0.0614,  0.0324],\n",
              "                        [-0.0338,  0.0962, -0.0915]],\n",
              "              \n",
              "                       [[-0.0333, -0.1018, -0.0415],\n",
              "                        [ 0.0332,  0.1015,  0.0177],\n",
              "                        [ 0.1033,  0.0206,  0.0609]],\n",
              "              \n",
              "                       [[ 0.0845,  0.0881, -0.0590],\n",
              "                        [ 0.0969,  0.0639, -0.0493],\n",
              "                        [-0.0503, -0.0884,  0.0265]],\n",
              "              \n",
              "                       [[-0.0854,  0.0445,  0.0333],\n",
              "                        [-0.0916,  0.0287, -0.0086],\n",
              "                        [ 0.0482,  0.0605, -0.1048]],\n",
              "              \n",
              "                       [[ 0.0967,  0.0884,  0.0419],\n",
              "                        [-0.0963, -0.0377, -0.0305],\n",
              "                        [-0.0271,  0.0594,  0.0383]],\n",
              "              \n",
              "                       [[ 0.0835, -0.0395,  0.0355],\n",
              "                        [ 0.0375, -0.0878, -0.1022],\n",
              "                        [-0.0547,  0.0722, -0.0992]],\n",
              "              \n",
              "                       [[-0.0918,  0.0591,  0.0569],\n",
              "                        [ 0.0867, -0.0796, -0.0771],\n",
              "                        [ 0.0541,  0.0917,  0.0631]],\n",
              "              \n",
              "                       [[ 0.0165,  0.0347,  0.1000],\n",
              "                        [-0.0680, -0.0479,  0.0737],\n",
              "                        [-0.0721, -0.0581,  0.0769]]],\n",
              "              \n",
              "              \n",
              "                      [[[ 0.0333,  0.0341, -0.0447],\n",
              "                        [-0.0015,  0.0965, -0.0633],\n",
              "                        [ 0.0008,  0.0501, -0.0728]],\n",
              "              \n",
              "                       [[ 0.1024, -0.0527, -0.0253],\n",
              "                        [-0.0285, -0.0687, -0.1034],\n",
              "                        [ 0.0594,  0.0280, -0.0987]],\n",
              "              \n",
              "                       [[-0.0678,  0.1042,  0.0403],\n",
              "                        [ 0.0423, -0.0631, -0.0462],\n",
              "                        [-0.0159, -0.0193, -0.0722]],\n",
              "              \n",
              "                       [[ 0.0087,  0.0105, -0.0133],\n",
              "                        [ 0.0146, -0.0418,  0.0274],\n",
              "                        [ 0.0398, -0.0555, -0.1045]],\n",
              "              \n",
              "                       [[ 0.0552,  0.0251, -0.0536],\n",
              "                        [ 0.1016, -0.0477,  0.0712],\n",
              "                        [ 0.0535, -0.0884,  0.0680]],\n",
              "              \n",
              "                       [[-0.0969, -0.0584, -0.0176],\n",
              "                        [-0.0711,  0.1030, -0.0211],\n",
              "                        [ 0.0419, -0.0941,  0.0607]],\n",
              "              \n",
              "                       [[-0.0328, -0.0802,  0.0154],\n",
              "                        [ 0.0511,  0.0912, -0.0644],\n",
              "                        [-0.0519,  0.0203,  0.0286]],\n",
              "              \n",
              "                       [[ 0.0405,  0.0579, -0.0239],\n",
              "                        [ 0.0586,  0.0777, -0.0275],\n",
              "                        [ 0.0750,  0.0515,  0.0930]],\n",
              "              \n",
              "                       [[-0.0599, -0.0521, -0.0305],\n",
              "                        [ 0.0053,  0.0633, -0.0602],\n",
              "                        [ 0.0528, -0.0378,  0.0637]],\n",
              "              \n",
              "                       [[-0.0050, -0.0923, -0.0580],\n",
              "                        [-0.0763,  0.0523, -0.0707],\n",
              "                        [-0.0088,  0.0227, -0.0578]]],\n",
              "              \n",
              "              \n",
              "                      [[[ 0.0304, -0.1029, -0.0754],\n",
              "                        [-0.0955, -0.0319, -0.0384],\n",
              "                        [ 0.0151, -0.0195,  0.0496]],\n",
              "              \n",
              "                       [[ 0.0966,  0.0378, -0.0415],\n",
              "                        [-0.0987,  0.0382, -0.0522],\n",
              "                        [ 0.0536,  0.0705,  0.0407]],\n",
              "              \n",
              "                       [[ 0.0989,  0.1001,  0.0223],\n",
              "                        [-0.0768,  0.0942, -0.0500],\n",
              "                        [-0.0498,  0.0882,  0.0817]],\n",
              "              \n",
              "                       [[ 0.0318,  0.0066, -0.0887],\n",
              "                        [-0.0109,  0.1011,  0.0268],\n",
              "                        [ 0.0090, -0.0219, -0.0368]],\n",
              "              \n",
              "                       [[ 0.0628,  0.0065,  0.0686],\n",
              "                        [-0.0187,  0.0461,  0.0435],\n",
              "                        [ 0.0168,  0.0662,  0.0661]],\n",
              "              \n",
              "                       [[ 0.0977,  0.0810, -0.0270],\n",
              "                        [-0.0892,  0.0193, -0.0009],\n",
              "                        [-0.0275, -0.0177,  0.0050]],\n",
              "              \n",
              "                       [[ 0.0769,  0.0329, -0.0374],\n",
              "                        [-0.0433, -0.0261, -0.0407],\n",
              "                        [ 0.0948,  0.0558,  0.0952]],\n",
              "              \n",
              "                       [[ 0.0003,  0.0213,  0.0366],\n",
              "                        [-0.0998,  0.0094, -0.0071],\n",
              "                        [-0.0591, -0.0818,  0.0933]],\n",
              "              \n",
              "                       [[ 0.0857,  0.0489,  0.1006],\n",
              "                        [-0.0428, -0.0182,  0.0399],\n",
              "                        [-0.0174, -0.0207, -0.0871]],\n",
              "              \n",
              "                       [[ 0.0283, -0.0637,  0.0038],\n",
              "                        [ 0.1028, -0.0324, -0.0332],\n",
              "                        [ 0.0636, -0.0388, -0.0091]]],\n",
              "              \n",
              "              \n",
              "                      [[[ 0.0984, -0.0432, -0.0754],\n",
              "                        [-0.0590, -0.0292, -0.0500],\n",
              "                        [-0.0547,  0.0426,  0.0179]],\n",
              "              \n",
              "                       [[-0.0337, -0.0819, -0.0332],\n",
              "                        [-0.0445, -0.0343, -0.0951],\n",
              "                        [ 0.0227, -0.0774, -0.0821]],\n",
              "              \n",
              "                       [[-0.0861,  0.0440, -0.0635],\n",
              "                        [-0.0435,  0.0826,  0.0560],\n",
              "                        [ 0.0604, -0.1001, -0.0756]],\n",
              "              \n",
              "                       [[-0.0398,  0.0871,  0.0108],\n",
              "                        [-0.0788,  0.0007, -0.0819],\n",
              "                        [-0.0231, -0.0290,  0.0912]],\n",
              "              \n",
              "                       [[ 0.0326, -0.0184,  0.0178],\n",
              "                        [-0.0304,  0.0414,  0.0417],\n",
              "                        [ 0.0283, -0.0411,  0.0899]],\n",
              "              \n",
              "                       [[-0.0152, -0.0410,  0.0660],\n",
              "                        [ 0.0859,  0.1049,  0.0312],\n",
              "                        [-0.0359,  0.0535,  0.0904]],\n",
              "              \n",
              "                       [[-0.1034, -0.0131, -0.0719],\n",
              "                        [ 0.0196,  0.0436, -0.0218],\n",
              "                        [-0.0088,  0.0474, -0.0177]],\n",
              "              \n",
              "                       [[-0.0885,  0.0843, -0.0531],\n",
              "                        [-0.0116,  0.0099, -0.0063],\n",
              "                        [-0.0992,  0.0484, -0.0479]],\n",
              "              \n",
              "                       [[-0.0547,  0.0252, -0.0550],\n",
              "                        [-0.0487, -0.0355, -0.0396],\n",
              "                        [-0.0440, -0.0284,  0.0274]],\n",
              "              \n",
              "                       [[-0.0853, -0.0638,  0.0015],\n",
              "                        [ 0.0147,  0.0582, -0.0740],\n",
              "                        [ 0.0336,  0.0599,  0.0585]]]])),\n",
              "             ('conv_block_2.0.bias',\n",
              "              tensor([-0.0982, -0.0402, -0.0906, -0.0667,  0.0587, -0.0157,  0.0448, -0.0619,\n",
              "                       0.0160, -0.0638])),\n",
              "             ('classifier.1.weight',\n",
              "              tensor([[ 0.0226, -0.0198, -0.0113,  ...,  0.0205,  0.0344, -0.0082],\n",
              "                      [ 0.0297,  0.0104,  0.0272,  ...,  0.0064, -0.0018, -0.0169],\n",
              "                      [ 0.0134, -0.0117, -0.0250,  ...,  0.0165,  0.0328, -0.0020],\n",
              "                      ...,\n",
              "                      [-0.0219, -0.0185, -0.0159,  ..., -0.0013,  0.0042, -0.0120],\n",
              "                      [ 0.0192,  0.0202, -0.0048,  ...,  0.0405, -0.0415, -0.0431],\n",
              "                      [-0.0423, -0.0073, -0.0001,  ..., -0.0203, -0.0205, -0.0062]])),\n",
              "             ('classifier.1.bias',\n",
              "              tensor([-4.6540e-05,  2.4223e-02, -3.3743e-02,  2.6216e-02,  3.5294e-02,\n",
              "                      -5.1500e-03, -4.0467e-03,  1.1140e-02, -4.1359e-02,  3.3241e-02]))])"
            ]
          },
          "metadata": {},
          "execution_count": 169
        }
      ]
    },
    {
      "cell_type": "code",
      "source": [
        "torch.manual_seed(42)\n",
        "torch.cuda.manual_seed(42)\n",
        "\n",
        "from timeit import default_timer as timer\n",
        "train_time_start_model_2 = timer()\n",
        "\n",
        "epochs = 3\n",
        "for epoch in tqdm(range(epochs)):\n",
        "    print(f\"Epoch: {epoch}\\n---------\")\n",
        "    train_step(\n",
        "        model=model_2,\n",
        "        data_loader=train_dataloader,\n",
        "        loss_fn=loss_fn,\n",
        "        optimizer=optimizer,\n",
        "        accuracy_fn=accuracy_fn,\n",
        "        device=device\n",
        "    )\n",
        "    test_step(\n",
        "        model=model_2,\n",
        "        data_loader=test_dataloader,\n",
        "        loss_fn=loss_fn,\n",
        "        accuracy_fn=accuracy_fn,\n",
        "        device=device\n",
        "    )\n",
        "\n",
        "# These lines should NOT be indented inside the loop\n",
        "train_time_end_model_2 = timer()\n",
        "total_train_time_model_2 = print_train_time(\n",
        "    start=train_time_start_model_2,\n",
        "    end=train_time_end_model_2,\n",
        "    device=device\n",
        ")\n"
      ],
      "metadata": {
        "colab": {
          "base_uri": "https://localhost:8080/",
          "height": 327,
          "referenced_widgets": [
            "f272b35c971b4de7a4faa843a4dccdc2",
            "a2f13a702de644b7b258ad398dbcd8b5",
            "fdca7709d0f045f78b28258347009380",
            "0af67b850fc24e99b8fbca7b56f6996b",
            "f16732b64ca84468b5f5a8584513891d",
            "9ed235a7630c42c7b2bffff72677f4cd",
            "62f4bab93a884cc484885aea3ebb923a",
            "3e4c5f2df6494def8c993229d65aca30",
            "4046eb218b0c4b06989d9aced52444df",
            "10b5b27c9968476f9eb637af5a74619a",
            "fd6afcfa72274ce4bbd6ac80480b8b07"
          ]
        },
        "id": "TNVyA3XItxD9",
        "outputId": "8c68f648-8b19-41a1-ae90-d4b498e08df5"
      },
      "execution_count": null,
      "outputs": [
        {
          "output_type": "display_data",
          "data": {
            "text/plain": [
              "  0%|          | 0/3 [00:00<?, ?it/s]"
            ],
            "application/vnd.jupyter.widget-view+json": {
              "version_major": 2,
              "version_minor": 0,
              "model_id": "f272b35c971b4de7a4faa843a4dccdc2"
            }
          },
          "metadata": {}
        },
        {
          "output_type": "stream",
          "name": "stdout",
          "text": [
            "Epoch: 0\n",
            "---------\n",
            "Train loss: 0.56090 | Train accuracy: 80.02%\n",
            "Test loss: 0.39554 | Test accuracy: 85.93%\n",
            "\n",
            "Epoch: 1\n",
            "---------\n",
            "Train loss: 0.36712 | Train accuracy: 86.92%\n",
            "Test loss: 0.36268 | Test accuracy: 87.11%\n",
            "\n",
            "Epoch: 2\n",
            "---------\n",
            "Train loss: 0.33418 | Train accuracy: 88.02%\n",
            "Test loss: 0.35946 | Test accuracy: 87.38%\n",
            "\n",
            "Train time on cpu: 95.268 seconds\n"
          ]
        }
      ]
    },
    {
      "cell_type": "code",
      "source": [
        "model_2_results = eval_model(model=model_2,\n",
        "                             data_loader=test_dataloader,\n",
        "                             loss_fn=loss_fn,\n",
        "                             accuracy_fn=accuracy_fn,\n",
        "                             device=device)\n",
        "model_2_results"
      ],
      "metadata": {
        "colab": {
          "base_uri": "https://localhost:8080/"
        },
        "id": "6QIbzwhUxV_y",
        "outputId": "ad2a2233-8655-46e0-a0c6-ee06fb0d2584"
      },
      "execution_count": null,
      "outputs": [
        {
          "output_type": "execute_result",
          "data": {
            "text/plain": [
              "{'model_name': 'FashionMNISTV2',\n",
              " 'model_loss': 0.35945739066258026,\n",
              " 'model_acc': 87.38019169329074}"
            ]
          },
          "metadata": {},
          "execution_count": 171
        }
      ]
    },
    {
      "cell_type": "code",
      "source": [
        "import pandas as pd\n",
        "compare_results = pd.DataFrame([model_0_results,\n",
        "                                model_1_results,\n",
        "                                model_2_results])\n",
        "compare_results"
      ],
      "metadata": {
        "colab": {
          "base_uri": "https://localhost:8080/",
          "height": 143
        },
        "id": "lp_BlMrVxkQ8",
        "outputId": "8adc0998-12fa-405c-c352-a081ccd0b320"
      },
      "execution_count": null,
      "outputs": [
        {
          "output_type": "execute_result",
          "data": {
            "text/plain": [
              "            model_name  model_loss  model_acc\n",
              "0  FashionMNISTModelV0    0.510876  82.378195\n",
              "1  FashionMNISTModelV1    0.457463  83.985623\n",
              "2       FashionMNISTV2    0.359457  87.380192"
            ],
            "text/html": [
              "\n",
              "  <div id=\"df-ab990845-aa61-4db3-8d83-d2e34735a43f\" class=\"colab-df-container\">\n",
              "    <div>\n",
              "<style scoped>\n",
              "    .dataframe tbody tr th:only-of-type {\n",
              "        vertical-align: middle;\n",
              "    }\n",
              "\n",
              "    .dataframe tbody tr th {\n",
              "        vertical-align: top;\n",
              "    }\n",
              "\n",
              "    .dataframe thead th {\n",
              "        text-align: right;\n",
              "    }\n",
              "</style>\n",
              "<table border=\"1\" class=\"dataframe\">\n",
              "  <thead>\n",
              "    <tr style=\"text-align: right;\">\n",
              "      <th></th>\n",
              "      <th>model_name</th>\n",
              "      <th>model_loss</th>\n",
              "      <th>model_acc</th>\n",
              "    </tr>\n",
              "  </thead>\n",
              "  <tbody>\n",
              "    <tr>\n",
              "      <th>0</th>\n",
              "      <td>FashionMNISTModelV0</td>\n",
              "      <td>0.510876</td>\n",
              "      <td>82.378195</td>\n",
              "    </tr>\n",
              "    <tr>\n",
              "      <th>1</th>\n",
              "      <td>FashionMNISTModelV1</td>\n",
              "      <td>0.457463</td>\n",
              "      <td>83.985623</td>\n",
              "    </tr>\n",
              "    <tr>\n",
              "      <th>2</th>\n",
              "      <td>FashionMNISTV2</td>\n",
              "      <td>0.359457</td>\n",
              "      <td>87.380192</td>\n",
              "    </tr>\n",
              "  </tbody>\n",
              "</table>\n",
              "</div>\n",
              "    <div class=\"colab-df-buttons\">\n",
              "\n",
              "  <div class=\"colab-df-container\">\n",
              "    <button class=\"colab-df-convert\" onclick=\"convertToInteractive('df-ab990845-aa61-4db3-8d83-d2e34735a43f')\"\n",
              "            title=\"Convert this dataframe to an interactive table.\"\n",
              "            style=\"display:none;\">\n",
              "\n",
              "  <svg xmlns=\"http://www.w3.org/2000/svg\" height=\"24px\" viewBox=\"0 -960 960 960\">\n",
              "    <path d=\"M120-120v-720h720v720H120Zm60-500h600v-160H180v160Zm220 220h160v-160H400v160Zm0 220h160v-160H400v160ZM180-400h160v-160H180v160Zm440 0h160v-160H620v160ZM180-180h160v-160H180v160Zm440 0h160v-160H620v160Z\"/>\n",
              "  </svg>\n",
              "    </button>\n",
              "\n",
              "  <style>\n",
              "    .colab-df-container {\n",
              "      display:flex;\n",
              "      gap: 12px;\n",
              "    }\n",
              "\n",
              "    .colab-df-convert {\n",
              "      background-color: #E8F0FE;\n",
              "      border: none;\n",
              "      border-radius: 50%;\n",
              "      cursor: pointer;\n",
              "      display: none;\n",
              "      fill: #1967D2;\n",
              "      height: 32px;\n",
              "      padding: 0 0 0 0;\n",
              "      width: 32px;\n",
              "    }\n",
              "\n",
              "    .colab-df-convert:hover {\n",
              "      background-color: #E2EBFA;\n",
              "      box-shadow: 0px 1px 2px rgba(60, 64, 67, 0.3), 0px 1px 3px 1px rgba(60, 64, 67, 0.15);\n",
              "      fill: #174EA6;\n",
              "    }\n",
              "\n",
              "    .colab-df-buttons div {\n",
              "      margin-bottom: 4px;\n",
              "    }\n",
              "\n",
              "    [theme=dark] .colab-df-convert {\n",
              "      background-color: #3B4455;\n",
              "      fill: #D2E3FC;\n",
              "    }\n",
              "\n",
              "    [theme=dark] .colab-df-convert:hover {\n",
              "      background-color: #434B5C;\n",
              "      box-shadow: 0px 1px 3px 1px rgba(0, 0, 0, 0.15);\n",
              "      filter: drop-shadow(0px 1px 2px rgba(0, 0, 0, 0.3));\n",
              "      fill: #FFFFFF;\n",
              "    }\n",
              "  </style>\n",
              "\n",
              "    <script>\n",
              "      const buttonEl =\n",
              "        document.querySelector('#df-ab990845-aa61-4db3-8d83-d2e34735a43f button.colab-df-convert');\n",
              "      buttonEl.style.display =\n",
              "        google.colab.kernel.accessAllowed ? 'block' : 'none';\n",
              "\n",
              "      async function convertToInteractive(key) {\n",
              "        const element = document.querySelector('#df-ab990845-aa61-4db3-8d83-d2e34735a43f');\n",
              "        const dataTable =\n",
              "          await google.colab.kernel.invokeFunction('convertToInteractive',\n",
              "                                                    [key], {});\n",
              "        if (!dataTable) return;\n",
              "\n",
              "        const docLinkHtml = 'Like what you see? Visit the ' +\n",
              "          '<a target=\"_blank\" href=https://colab.research.google.com/notebooks/data_table.ipynb>data table notebook</a>'\n",
              "          + ' to learn more about interactive tables.';\n",
              "        element.innerHTML = '';\n",
              "        dataTable['output_type'] = 'display_data';\n",
              "        await google.colab.output.renderOutput(dataTable, element);\n",
              "        const docLink = document.createElement('div');\n",
              "        docLink.innerHTML = docLinkHtml;\n",
              "        element.appendChild(docLink);\n",
              "      }\n",
              "    </script>\n",
              "  </div>\n",
              "\n",
              "\n",
              "    <div id=\"df-5d2887e7-aab2-4792-af9a-80d9d96c7bde\">\n",
              "      <button class=\"colab-df-quickchart\" onclick=\"quickchart('df-5d2887e7-aab2-4792-af9a-80d9d96c7bde')\"\n",
              "                title=\"Suggest charts\"\n",
              "                style=\"display:none;\">\n",
              "\n",
              "<svg xmlns=\"http://www.w3.org/2000/svg\" height=\"24px\"viewBox=\"0 0 24 24\"\n",
              "     width=\"24px\">\n",
              "    <g>\n",
              "        <path d=\"M19 3H5c-1.1 0-2 .9-2 2v14c0 1.1.9 2 2 2h14c1.1 0 2-.9 2-2V5c0-1.1-.9-2-2-2zM9 17H7v-7h2v7zm4 0h-2V7h2v10zm4 0h-2v-4h2v4z\"/>\n",
              "    </g>\n",
              "</svg>\n",
              "      </button>\n",
              "\n",
              "<style>\n",
              "  .colab-df-quickchart {\n",
              "      --bg-color: #E8F0FE;\n",
              "      --fill-color: #1967D2;\n",
              "      --hover-bg-color: #E2EBFA;\n",
              "      --hover-fill-color: #174EA6;\n",
              "      --disabled-fill-color: #AAA;\n",
              "      --disabled-bg-color: #DDD;\n",
              "  }\n",
              "\n",
              "  [theme=dark] .colab-df-quickchart {\n",
              "      --bg-color: #3B4455;\n",
              "      --fill-color: #D2E3FC;\n",
              "      --hover-bg-color: #434B5C;\n",
              "      --hover-fill-color: #FFFFFF;\n",
              "      --disabled-bg-color: #3B4455;\n",
              "      --disabled-fill-color: #666;\n",
              "  }\n",
              "\n",
              "  .colab-df-quickchart {\n",
              "    background-color: var(--bg-color);\n",
              "    border: none;\n",
              "    border-radius: 50%;\n",
              "    cursor: pointer;\n",
              "    display: none;\n",
              "    fill: var(--fill-color);\n",
              "    height: 32px;\n",
              "    padding: 0;\n",
              "    width: 32px;\n",
              "  }\n",
              "\n",
              "  .colab-df-quickchart:hover {\n",
              "    background-color: var(--hover-bg-color);\n",
              "    box-shadow: 0 1px 2px rgba(60, 64, 67, 0.3), 0 1px 3px 1px rgba(60, 64, 67, 0.15);\n",
              "    fill: var(--button-hover-fill-color);\n",
              "  }\n",
              "\n",
              "  .colab-df-quickchart-complete:disabled,\n",
              "  .colab-df-quickchart-complete:disabled:hover {\n",
              "    background-color: var(--disabled-bg-color);\n",
              "    fill: var(--disabled-fill-color);\n",
              "    box-shadow: none;\n",
              "  }\n",
              "\n",
              "  .colab-df-spinner {\n",
              "    border: 2px solid var(--fill-color);\n",
              "    border-color: transparent;\n",
              "    border-bottom-color: var(--fill-color);\n",
              "    animation:\n",
              "      spin 1s steps(1) infinite;\n",
              "  }\n",
              "\n",
              "  @keyframes spin {\n",
              "    0% {\n",
              "      border-color: transparent;\n",
              "      border-bottom-color: var(--fill-color);\n",
              "      border-left-color: var(--fill-color);\n",
              "    }\n",
              "    20% {\n",
              "      border-color: transparent;\n",
              "      border-left-color: var(--fill-color);\n",
              "      border-top-color: var(--fill-color);\n",
              "    }\n",
              "    30% {\n",
              "      border-color: transparent;\n",
              "      border-left-color: var(--fill-color);\n",
              "      border-top-color: var(--fill-color);\n",
              "      border-right-color: var(--fill-color);\n",
              "    }\n",
              "    40% {\n",
              "      border-color: transparent;\n",
              "      border-right-color: var(--fill-color);\n",
              "      border-top-color: var(--fill-color);\n",
              "    }\n",
              "    60% {\n",
              "      border-color: transparent;\n",
              "      border-right-color: var(--fill-color);\n",
              "    }\n",
              "    80% {\n",
              "      border-color: transparent;\n",
              "      border-right-color: var(--fill-color);\n",
              "      border-bottom-color: var(--fill-color);\n",
              "    }\n",
              "    90% {\n",
              "      border-color: transparent;\n",
              "      border-bottom-color: var(--fill-color);\n",
              "    }\n",
              "  }\n",
              "</style>\n",
              "\n",
              "      <script>\n",
              "        async function quickchart(key) {\n",
              "          const quickchartButtonEl =\n",
              "            document.querySelector('#' + key + ' button');\n",
              "          quickchartButtonEl.disabled = true;  // To prevent multiple clicks.\n",
              "          quickchartButtonEl.classList.add('colab-df-spinner');\n",
              "          try {\n",
              "            const charts = await google.colab.kernel.invokeFunction(\n",
              "                'suggestCharts', [key], {});\n",
              "          } catch (error) {\n",
              "            console.error('Error during call to suggestCharts:', error);\n",
              "          }\n",
              "          quickchartButtonEl.classList.remove('colab-df-spinner');\n",
              "          quickchartButtonEl.classList.add('colab-df-quickchart-complete');\n",
              "        }\n",
              "        (() => {\n",
              "          let quickchartButtonEl =\n",
              "            document.querySelector('#df-5d2887e7-aab2-4792-af9a-80d9d96c7bde button');\n",
              "          quickchartButtonEl.style.display =\n",
              "            google.colab.kernel.accessAllowed ? 'block' : 'none';\n",
              "        })();\n",
              "      </script>\n",
              "    </div>\n",
              "\n",
              "  <div id=\"id_87ea051c-2c29-41f9-a768-4406539f29b9\">\n",
              "    <style>\n",
              "      .colab-df-generate {\n",
              "        background-color: #E8F0FE;\n",
              "        border: none;\n",
              "        border-radius: 50%;\n",
              "        cursor: pointer;\n",
              "        display: none;\n",
              "        fill: #1967D2;\n",
              "        height: 32px;\n",
              "        padding: 0 0 0 0;\n",
              "        width: 32px;\n",
              "      }\n",
              "\n",
              "      .colab-df-generate:hover {\n",
              "        background-color: #E2EBFA;\n",
              "        box-shadow: 0px 1px 2px rgba(60, 64, 67, 0.3), 0px 1px 3px 1px rgba(60, 64, 67, 0.15);\n",
              "        fill: #174EA6;\n",
              "      }\n",
              "\n",
              "      [theme=dark] .colab-df-generate {\n",
              "        background-color: #3B4455;\n",
              "        fill: #D2E3FC;\n",
              "      }\n",
              "\n",
              "      [theme=dark] .colab-df-generate:hover {\n",
              "        background-color: #434B5C;\n",
              "        box-shadow: 0px 1px 3px 1px rgba(0, 0, 0, 0.15);\n",
              "        filter: drop-shadow(0px 1px 2px rgba(0, 0, 0, 0.3));\n",
              "        fill: #FFFFFF;\n",
              "      }\n",
              "    </style>\n",
              "    <button class=\"colab-df-generate\" onclick=\"generateWithVariable('compare_results')\"\n",
              "            title=\"Generate code using this dataframe.\"\n",
              "            style=\"display:none;\">\n",
              "\n",
              "  <svg xmlns=\"http://www.w3.org/2000/svg\" height=\"24px\"viewBox=\"0 0 24 24\"\n",
              "       width=\"24px\">\n",
              "    <path d=\"M7,19H8.4L18.45,9,17,7.55,7,17.6ZM5,21V16.75L18.45,3.32a2,2,0,0,1,2.83,0l1.4,1.43a1.91,1.91,0,0,1,.58,1.4,1.91,1.91,0,0,1-.58,1.4L9.25,21ZM18.45,9,17,7.55Zm-12,3A5.31,5.31,0,0,0,4.9,8.1,5.31,5.31,0,0,0,1,6.5,5.31,5.31,0,0,0,4.9,4.9,5.31,5.31,0,0,0,6.5,1,5.31,5.31,0,0,0,8.1,4.9,5.31,5.31,0,0,0,12,6.5,5.46,5.46,0,0,0,6.5,12Z\"/>\n",
              "  </svg>\n",
              "    </button>\n",
              "    <script>\n",
              "      (() => {\n",
              "      const buttonEl =\n",
              "        document.querySelector('#id_87ea051c-2c29-41f9-a768-4406539f29b9 button.colab-df-generate');\n",
              "      buttonEl.style.display =\n",
              "        google.colab.kernel.accessAllowed ? 'block' : 'none';\n",
              "\n",
              "      buttonEl.onclick = () => {\n",
              "        google.colab.notebook.generateWithVariable('compare_results');\n",
              "      }\n",
              "      })();\n",
              "    </script>\n",
              "  </div>\n",
              "\n",
              "    </div>\n",
              "  </div>\n"
            ],
            "application/vnd.google.colaboratory.intrinsic+json": {
              "type": "dataframe",
              "variable_name": "compare_results",
              "summary": "{\n  \"name\": \"compare_results\",\n  \"rows\": 3,\n  \"fields\": [\n    {\n      \"column\": \"model_name\",\n      \"properties\": {\n        \"dtype\": \"string\",\n        \"num_unique_values\": 3,\n        \"samples\": [\n          \"FashionMNISTModelV0\",\n          \"FashionMNISTModelV1\",\n          \"FashionMNISTV2\"\n        ],\n        \"semantic_type\": \"\",\n        \"description\": \"\"\n      }\n    },\n    {\n      \"column\": \"model_loss\",\n      \"properties\": {\n        \"dtype\": \"number\",\n        \"std\": 0.07679606019696811,\n        \"min\": 0.35945739066258026,\n        \"max\": 0.5108762979507446,\n        \"num_unique_values\": 3,\n        \"samples\": [\n          0.5108762979507446,\n          0.4574634914104931,\n          0.35945739066258026\n        ],\n        \"semantic_type\": \"\",\n        \"description\": \"\"\n      }\n    },\n    {\n      \"column\": \"model_acc\",\n      \"properties\": {\n        \"dtype\": \"number\",\n        \"std\": 2.553654041273401,\n        \"min\": 82.37819488817891,\n        \"max\": 87.38019169329074,\n        \"num_unique_values\": 3,\n        \"samples\": [\n          82.37819488817891,\n          83.98562300319489,\n          87.38019169329074\n        ],\n        \"semantic_type\": \"\",\n        \"description\": \"\"\n      }\n    }\n  ]\n}"
            }
          },
          "metadata": {},
          "execution_count": 172
        }
      ]
    },
    {
      "cell_type": "code",
      "source": [
        "compare_results[\"training_time\"] = [total_train_time_model_0,total_train_time_model_1,total_train_time_model_2]\n",
        "compare_results"
      ],
      "metadata": {
        "colab": {
          "base_uri": "https://localhost:8080/",
          "height": 143
        },
        "id": "simUNVB8z2R8",
        "outputId": "a6cf7d10-f58c-417d-e877-59749f10a236"
      },
      "execution_count": null,
      "outputs": [
        {
          "output_type": "execute_result",
          "data": {
            "text/plain": [
              "            model_name  model_loss  model_acc  training_time\n",
              "0  FashionMNISTModelV0    0.510876  82.378195      38.743620\n",
              "1  FashionMNISTModelV1    0.457463  83.985623      37.661180\n",
              "2       FashionMNISTV2    0.359457  87.380192      95.268046"
            ],
            "text/html": [
              "\n",
              "  <div id=\"df-335a060f-af65-4596-9d87-82ee3b867702\" class=\"colab-df-container\">\n",
              "    <div>\n",
              "<style scoped>\n",
              "    .dataframe tbody tr th:only-of-type {\n",
              "        vertical-align: middle;\n",
              "    }\n",
              "\n",
              "    .dataframe tbody tr th {\n",
              "        vertical-align: top;\n",
              "    }\n",
              "\n",
              "    .dataframe thead th {\n",
              "        text-align: right;\n",
              "    }\n",
              "</style>\n",
              "<table border=\"1\" class=\"dataframe\">\n",
              "  <thead>\n",
              "    <tr style=\"text-align: right;\">\n",
              "      <th></th>\n",
              "      <th>model_name</th>\n",
              "      <th>model_loss</th>\n",
              "      <th>model_acc</th>\n",
              "      <th>training_time</th>\n",
              "    </tr>\n",
              "  </thead>\n",
              "  <tbody>\n",
              "    <tr>\n",
              "      <th>0</th>\n",
              "      <td>FashionMNISTModelV0</td>\n",
              "      <td>0.510876</td>\n",
              "      <td>82.378195</td>\n",
              "      <td>38.743620</td>\n",
              "    </tr>\n",
              "    <tr>\n",
              "      <th>1</th>\n",
              "      <td>FashionMNISTModelV1</td>\n",
              "      <td>0.457463</td>\n",
              "      <td>83.985623</td>\n",
              "      <td>37.661180</td>\n",
              "    </tr>\n",
              "    <tr>\n",
              "      <th>2</th>\n",
              "      <td>FashionMNISTV2</td>\n",
              "      <td>0.359457</td>\n",
              "      <td>87.380192</td>\n",
              "      <td>95.268046</td>\n",
              "    </tr>\n",
              "  </tbody>\n",
              "</table>\n",
              "</div>\n",
              "    <div class=\"colab-df-buttons\">\n",
              "\n",
              "  <div class=\"colab-df-container\">\n",
              "    <button class=\"colab-df-convert\" onclick=\"convertToInteractive('df-335a060f-af65-4596-9d87-82ee3b867702')\"\n",
              "            title=\"Convert this dataframe to an interactive table.\"\n",
              "            style=\"display:none;\">\n",
              "\n",
              "  <svg xmlns=\"http://www.w3.org/2000/svg\" height=\"24px\" viewBox=\"0 -960 960 960\">\n",
              "    <path d=\"M120-120v-720h720v720H120Zm60-500h600v-160H180v160Zm220 220h160v-160H400v160Zm0 220h160v-160H400v160ZM180-400h160v-160H180v160Zm440 0h160v-160H620v160ZM180-180h160v-160H180v160Zm440 0h160v-160H620v160Z\"/>\n",
              "  </svg>\n",
              "    </button>\n",
              "\n",
              "  <style>\n",
              "    .colab-df-container {\n",
              "      display:flex;\n",
              "      gap: 12px;\n",
              "    }\n",
              "\n",
              "    .colab-df-convert {\n",
              "      background-color: #E8F0FE;\n",
              "      border: none;\n",
              "      border-radius: 50%;\n",
              "      cursor: pointer;\n",
              "      display: none;\n",
              "      fill: #1967D2;\n",
              "      height: 32px;\n",
              "      padding: 0 0 0 0;\n",
              "      width: 32px;\n",
              "    }\n",
              "\n",
              "    .colab-df-convert:hover {\n",
              "      background-color: #E2EBFA;\n",
              "      box-shadow: 0px 1px 2px rgba(60, 64, 67, 0.3), 0px 1px 3px 1px rgba(60, 64, 67, 0.15);\n",
              "      fill: #174EA6;\n",
              "    }\n",
              "\n",
              "    .colab-df-buttons div {\n",
              "      margin-bottom: 4px;\n",
              "    }\n",
              "\n",
              "    [theme=dark] .colab-df-convert {\n",
              "      background-color: #3B4455;\n",
              "      fill: #D2E3FC;\n",
              "    }\n",
              "\n",
              "    [theme=dark] .colab-df-convert:hover {\n",
              "      background-color: #434B5C;\n",
              "      box-shadow: 0px 1px 3px 1px rgba(0, 0, 0, 0.15);\n",
              "      filter: drop-shadow(0px 1px 2px rgba(0, 0, 0, 0.3));\n",
              "      fill: #FFFFFF;\n",
              "    }\n",
              "  </style>\n",
              "\n",
              "    <script>\n",
              "      const buttonEl =\n",
              "        document.querySelector('#df-335a060f-af65-4596-9d87-82ee3b867702 button.colab-df-convert');\n",
              "      buttonEl.style.display =\n",
              "        google.colab.kernel.accessAllowed ? 'block' : 'none';\n",
              "\n",
              "      async function convertToInteractive(key) {\n",
              "        const element = document.querySelector('#df-335a060f-af65-4596-9d87-82ee3b867702');\n",
              "        const dataTable =\n",
              "          await google.colab.kernel.invokeFunction('convertToInteractive',\n",
              "                                                    [key], {});\n",
              "        if (!dataTable) return;\n",
              "\n",
              "        const docLinkHtml = 'Like what you see? Visit the ' +\n",
              "          '<a target=\"_blank\" href=https://colab.research.google.com/notebooks/data_table.ipynb>data table notebook</a>'\n",
              "          + ' to learn more about interactive tables.';\n",
              "        element.innerHTML = '';\n",
              "        dataTable['output_type'] = 'display_data';\n",
              "        await google.colab.output.renderOutput(dataTable, element);\n",
              "        const docLink = document.createElement('div');\n",
              "        docLink.innerHTML = docLinkHtml;\n",
              "        element.appendChild(docLink);\n",
              "      }\n",
              "    </script>\n",
              "  </div>\n",
              "\n",
              "\n",
              "    <div id=\"df-0ceae174-ea3f-4cdb-a52a-0f2ea26fbe41\">\n",
              "      <button class=\"colab-df-quickchart\" onclick=\"quickchart('df-0ceae174-ea3f-4cdb-a52a-0f2ea26fbe41')\"\n",
              "                title=\"Suggest charts\"\n",
              "                style=\"display:none;\">\n",
              "\n",
              "<svg xmlns=\"http://www.w3.org/2000/svg\" height=\"24px\"viewBox=\"0 0 24 24\"\n",
              "     width=\"24px\">\n",
              "    <g>\n",
              "        <path d=\"M19 3H5c-1.1 0-2 .9-2 2v14c0 1.1.9 2 2 2h14c1.1 0 2-.9 2-2V5c0-1.1-.9-2-2-2zM9 17H7v-7h2v7zm4 0h-2V7h2v10zm4 0h-2v-4h2v4z\"/>\n",
              "    </g>\n",
              "</svg>\n",
              "      </button>\n",
              "\n",
              "<style>\n",
              "  .colab-df-quickchart {\n",
              "      --bg-color: #E8F0FE;\n",
              "      --fill-color: #1967D2;\n",
              "      --hover-bg-color: #E2EBFA;\n",
              "      --hover-fill-color: #174EA6;\n",
              "      --disabled-fill-color: #AAA;\n",
              "      --disabled-bg-color: #DDD;\n",
              "  }\n",
              "\n",
              "  [theme=dark] .colab-df-quickchart {\n",
              "      --bg-color: #3B4455;\n",
              "      --fill-color: #D2E3FC;\n",
              "      --hover-bg-color: #434B5C;\n",
              "      --hover-fill-color: #FFFFFF;\n",
              "      --disabled-bg-color: #3B4455;\n",
              "      --disabled-fill-color: #666;\n",
              "  }\n",
              "\n",
              "  .colab-df-quickchart {\n",
              "    background-color: var(--bg-color);\n",
              "    border: none;\n",
              "    border-radius: 50%;\n",
              "    cursor: pointer;\n",
              "    display: none;\n",
              "    fill: var(--fill-color);\n",
              "    height: 32px;\n",
              "    padding: 0;\n",
              "    width: 32px;\n",
              "  }\n",
              "\n",
              "  .colab-df-quickchart:hover {\n",
              "    background-color: var(--hover-bg-color);\n",
              "    box-shadow: 0 1px 2px rgba(60, 64, 67, 0.3), 0 1px 3px 1px rgba(60, 64, 67, 0.15);\n",
              "    fill: var(--button-hover-fill-color);\n",
              "  }\n",
              "\n",
              "  .colab-df-quickchart-complete:disabled,\n",
              "  .colab-df-quickchart-complete:disabled:hover {\n",
              "    background-color: var(--disabled-bg-color);\n",
              "    fill: var(--disabled-fill-color);\n",
              "    box-shadow: none;\n",
              "  }\n",
              "\n",
              "  .colab-df-spinner {\n",
              "    border: 2px solid var(--fill-color);\n",
              "    border-color: transparent;\n",
              "    border-bottom-color: var(--fill-color);\n",
              "    animation:\n",
              "      spin 1s steps(1) infinite;\n",
              "  }\n",
              "\n",
              "  @keyframes spin {\n",
              "    0% {\n",
              "      border-color: transparent;\n",
              "      border-bottom-color: var(--fill-color);\n",
              "      border-left-color: var(--fill-color);\n",
              "    }\n",
              "    20% {\n",
              "      border-color: transparent;\n",
              "      border-left-color: var(--fill-color);\n",
              "      border-top-color: var(--fill-color);\n",
              "    }\n",
              "    30% {\n",
              "      border-color: transparent;\n",
              "      border-left-color: var(--fill-color);\n",
              "      border-top-color: var(--fill-color);\n",
              "      border-right-color: var(--fill-color);\n",
              "    }\n",
              "    40% {\n",
              "      border-color: transparent;\n",
              "      border-right-color: var(--fill-color);\n",
              "      border-top-color: var(--fill-color);\n",
              "    }\n",
              "    60% {\n",
              "      border-color: transparent;\n",
              "      border-right-color: var(--fill-color);\n",
              "    }\n",
              "    80% {\n",
              "      border-color: transparent;\n",
              "      border-right-color: var(--fill-color);\n",
              "      border-bottom-color: var(--fill-color);\n",
              "    }\n",
              "    90% {\n",
              "      border-color: transparent;\n",
              "      border-bottom-color: var(--fill-color);\n",
              "    }\n",
              "  }\n",
              "</style>\n",
              "\n",
              "      <script>\n",
              "        async function quickchart(key) {\n",
              "          const quickchartButtonEl =\n",
              "            document.querySelector('#' + key + ' button');\n",
              "          quickchartButtonEl.disabled = true;  // To prevent multiple clicks.\n",
              "          quickchartButtonEl.classList.add('colab-df-spinner');\n",
              "          try {\n",
              "            const charts = await google.colab.kernel.invokeFunction(\n",
              "                'suggestCharts', [key], {});\n",
              "          } catch (error) {\n",
              "            console.error('Error during call to suggestCharts:', error);\n",
              "          }\n",
              "          quickchartButtonEl.classList.remove('colab-df-spinner');\n",
              "          quickchartButtonEl.classList.add('colab-df-quickchart-complete');\n",
              "        }\n",
              "        (() => {\n",
              "          let quickchartButtonEl =\n",
              "            document.querySelector('#df-0ceae174-ea3f-4cdb-a52a-0f2ea26fbe41 button');\n",
              "          quickchartButtonEl.style.display =\n",
              "            google.colab.kernel.accessAllowed ? 'block' : 'none';\n",
              "        })();\n",
              "      </script>\n",
              "    </div>\n",
              "\n",
              "  <div id=\"id_6186dad5-0062-4440-acb2-43caa07d2d84\">\n",
              "    <style>\n",
              "      .colab-df-generate {\n",
              "        background-color: #E8F0FE;\n",
              "        border: none;\n",
              "        border-radius: 50%;\n",
              "        cursor: pointer;\n",
              "        display: none;\n",
              "        fill: #1967D2;\n",
              "        height: 32px;\n",
              "        padding: 0 0 0 0;\n",
              "        width: 32px;\n",
              "      }\n",
              "\n",
              "      .colab-df-generate:hover {\n",
              "        background-color: #E2EBFA;\n",
              "        box-shadow: 0px 1px 2px rgba(60, 64, 67, 0.3), 0px 1px 3px 1px rgba(60, 64, 67, 0.15);\n",
              "        fill: #174EA6;\n",
              "      }\n",
              "\n",
              "      [theme=dark] .colab-df-generate {\n",
              "        background-color: #3B4455;\n",
              "        fill: #D2E3FC;\n",
              "      }\n",
              "\n",
              "      [theme=dark] .colab-df-generate:hover {\n",
              "        background-color: #434B5C;\n",
              "        box-shadow: 0px 1px 3px 1px rgba(0, 0, 0, 0.15);\n",
              "        filter: drop-shadow(0px 1px 2px rgba(0, 0, 0, 0.3));\n",
              "        fill: #FFFFFF;\n",
              "      }\n",
              "    </style>\n",
              "    <button class=\"colab-df-generate\" onclick=\"generateWithVariable('compare_results')\"\n",
              "            title=\"Generate code using this dataframe.\"\n",
              "            style=\"display:none;\">\n",
              "\n",
              "  <svg xmlns=\"http://www.w3.org/2000/svg\" height=\"24px\"viewBox=\"0 0 24 24\"\n",
              "       width=\"24px\">\n",
              "    <path d=\"M7,19H8.4L18.45,9,17,7.55,7,17.6ZM5,21V16.75L18.45,3.32a2,2,0,0,1,2.83,0l1.4,1.43a1.91,1.91,0,0,1,.58,1.4,1.91,1.91,0,0,1-.58,1.4L9.25,21ZM18.45,9,17,7.55Zm-12,3A5.31,5.31,0,0,0,4.9,8.1,5.31,5.31,0,0,0,1,6.5,5.31,5.31,0,0,0,4.9,4.9,5.31,5.31,0,0,0,6.5,1,5.31,5.31,0,0,0,8.1,4.9,5.31,5.31,0,0,0,12,6.5,5.46,5.46,0,0,0,6.5,12Z\"/>\n",
              "  </svg>\n",
              "    </button>\n",
              "    <script>\n",
              "      (() => {\n",
              "      const buttonEl =\n",
              "        document.querySelector('#id_6186dad5-0062-4440-acb2-43caa07d2d84 button.colab-df-generate');\n",
              "      buttonEl.style.display =\n",
              "        google.colab.kernel.accessAllowed ? 'block' : 'none';\n",
              "\n",
              "      buttonEl.onclick = () => {\n",
              "        google.colab.notebook.generateWithVariable('compare_results');\n",
              "      }\n",
              "      })();\n",
              "    </script>\n",
              "  </div>\n",
              "\n",
              "    </div>\n",
              "  </div>\n"
            ],
            "application/vnd.google.colaboratory.intrinsic+json": {
              "type": "dataframe",
              "variable_name": "compare_results",
              "summary": "{\n  \"name\": \"compare_results\",\n  \"rows\": 3,\n  \"fields\": [\n    {\n      \"column\": \"model_name\",\n      \"properties\": {\n        \"dtype\": \"string\",\n        \"num_unique_values\": 3,\n        \"samples\": [\n          \"FashionMNISTModelV0\",\n          \"FashionMNISTModelV1\",\n          \"FashionMNISTV2\"\n        ],\n        \"semantic_type\": \"\",\n        \"description\": \"\"\n      }\n    },\n    {\n      \"column\": \"model_loss\",\n      \"properties\": {\n        \"dtype\": \"number\",\n        \"std\": 0.07679606019696811,\n        \"min\": 0.35945739066258026,\n        \"max\": 0.5108762979507446,\n        \"num_unique_values\": 3,\n        \"samples\": [\n          0.5108762979507446,\n          0.4574634914104931,\n          0.35945739066258026\n        ],\n        \"semantic_type\": \"\",\n        \"description\": \"\"\n      }\n    },\n    {\n      \"column\": \"model_acc\",\n      \"properties\": {\n        \"dtype\": \"number\",\n        \"std\": 2.553654041273401,\n        \"min\": 82.37819488817891,\n        \"max\": 87.38019169329074,\n        \"num_unique_values\": 3,\n        \"samples\": [\n          82.37819488817891,\n          83.98562300319489,\n          87.38019169329074\n        ],\n        \"semantic_type\": \"\",\n        \"description\": \"\"\n      }\n    },\n    {\n      \"column\": \"training_time\",\n      \"properties\": {\n        \"dtype\": \"number\",\n        \"std\": 32.951310958604445,\n        \"min\": 37.66117968199978,\n        \"max\": 95.26804575200003,\n        \"num_unique_values\": 3,\n        \"samples\": [\n          38.743620348999684,\n          37.66117968199978,\n          95.26804575200003\n        ],\n        \"semantic_type\": \"\",\n        \"description\": \"\"\n      }\n    }\n  ]\n}"
            }
          },
          "metadata": {},
          "execution_count": 173
        }
      ]
    },
    {
      "cell_type": "code",
      "source": [
        "compare_results.set_index( \"model_name\") [\"model_acc\"].plot ( kind=\"barh\" )\n",
        "plt.xlabel(\"accuracy(%)\")\n",
        "plt.ylabel(\"model\");"
      ],
      "metadata": {
        "colab": {
          "base_uri": "https://localhost:8080/",
          "height": 436
        },
        "id": "h8dk8q4c0xlR",
        "outputId": "f70d2c48-9534-48a5-c47c-22c3c859dd59"
      },
      "execution_count": null,
      "outputs": [
        {
          "output_type": "display_data",
          "data": {
            "text/plain": [
              "<Figure size 640x480 with 1 Axes>"
            ],
            "image/png": "[encoded data removed]"
          },
          "metadata": {}
        }
      ]
    },
    {
      "cell_type": "code",
      "source": [
        "def make_predictions(model: torch.nn.Module,\n",
        "                     data: list,\n",
        "                     device: torch.device = device):\n",
        "    pred_probs = []  # initialize the list\n",
        "    model.eval()\n",
        "    with torch.inference_mode():\n",
        "        for sample in data:\n",
        "            sample = torch.unsqueeze(sample, dim=0).to(device)  # add batch dimension\n",
        "            pred_logit = model(sample)\n",
        "            pred_prob = torch.softmax(pred_logit.squeeze(), dim=0)\n",
        "            pred_probs.append(pred_prob.cpu())  # move to CPU before storing\n",
        "\n",
        "    return torch.stack(pred_probs)  # stack list of tensors into one tensor\n"
      ],
      "metadata": {
        "id": "Jgly8j6U3ADv"
      },
      "execution_count": null,
      "outputs": []
    },
    {
      "cell_type": "code",
      "source": [
        "import random\n",
        "#random.seed(42)\n",
        "test_samples = []\n",
        "test_label = []\n",
        "for sample, label in random.sample(list(test_data), k=9):\n",
        "    test_samples.append(sample)\n",
        "    test_label.append(label)\n",
        "\n",
        "test_samples[0].shape"
      ],
      "metadata": {
        "colab": {
          "base_uri": "https://localhost:8080/"
        },
        "id": "5sFsXO_540N2",
        "outputId": "15d4087b-6cd9-46d7-be32-0d988503637c"
      },
      "execution_count": null,
      "outputs": [
        {
          "output_type": "execute_result",
          "data": {
            "text/plain": [
              "torch.Size([1, 28, 28])"
            ]
          },
          "metadata": {},
          "execution_count": 176
        }
      ]
    },
    {
      "cell_type": "code",
      "source": [
        "plt.imshow(test_samples[0].squeeze(), cmap=\"gray\")\n",
        "plt.title(class_names[test_label[0]])"
      ],
      "metadata": {
        "colab": {
          "base_uri": "https://localhost:8080/",
          "height": 469
        },
        "id": "8lh_d7NH5dar",
        "outputId": "41400a11-b59c-4ac8-ebcc-e0290ba7d15a"
      },
      "execution_count": null,
      "outputs": [
        {
          "output_type": "execute_result",
          "data": {
            "text/plain": [
              "Text(0.5, 1.0, 'Pullover')"
            ]
          },
          "metadata": {},
          "execution_count": 177
        },
        {
          "output_type": "display_data",
          "data": {
            "text/plain": [
              "<Figure size 640x480 with 1 Axes>"
            ],
            "image/png": "[encoded data removed]"
          },
          "metadata": {}
        }
      ]
    },
    {
      "cell_type": "code",
      "source": [
        "pred_probs = make_predictions(model=model_2,data=test_samples)\n",
        "pred_probs[:2]"
      ],
      "metadata": {
        "colab": {
          "base_uri": "https://localhost:8080/"
        },
        "id": "OyPpR30b5q-p",
        "outputId": "6fad3b01-049b-4603-fc34-a9eee2033132"
      },
      "execution_count": null,
      "outputs": [
        {
          "output_type": "execute_result",
          "data": {
            "text/plain": [
              "tensor([[4.8722e-02, 2.4335e-04, 7.9980e-01, 1.2243e-02, 1.1336e-01, 1.1283e-05,\n",
              "         1.9036e-02, 8.4016e-05, 6.4443e-03, 4.9048e-05],\n",
              "        [8.3753e-04, 1.6646e-04, 9.2224e-02, 9.4887e-04, 8.8666e-01, 1.1367e-07,\n",
              "         1.5262e-02, 4.6639e-07, 3.9019e-03, 1.7382e-07]])"
            ]
          },
          "metadata": {},
          "execution_count": 178
        }
      ]
    },
    {
      "cell_type": "code",
      "source": [
        "pred_classes = pred_probs.argmax(dim=1)\n",
        "pred_classes"
      ],
      "metadata": {
        "colab": {
          "base_uri": "https://localhost:8080/"
        },
        "id": "4uWq89HM587c",
        "outputId": "ac2e3a76-ba53-4b98-b0d9-21d4181178cc"
      },
      "execution_count": null,
      "outputs": [
        {
          "output_type": "execute_result",
          "data": {
            "text/plain": [
              "tensor([2, 4, 6, 3, 2, 2, 0, 1, 1])"
            ]
          },
          "metadata": {},
          "execution_count": 179
        }
      ]
    },
    {
      "cell_type": "code",
      "source": [
        "plt.figure(figsize=(9, 9))\n",
        "nrows = 3\n",
        "ncols = 3\n",
        "for i, sample in enumerate(test_samples):\n",
        "    plt.subplot(nrows, ncols, i+1)\n",
        "    plt.imshow(sample.squeeze(), cmap=\"gray\")\n",
        "    pred_label = class_names[pred_classes[i]]\n",
        "    truth_label = class_names[test_label[i]]\n",
        "    title_text = f\"pred: {pred_label} | truth: {truth_label}\"\n",
        "    if pred_label == truth_label:\n",
        "      plt.title(title_text, fontsize=10, c=\"g\")\n",
        "    else:\n",
        "      plt.title(title_text, fontsize=10, c=\"r\")\n",
        "\n",
        "      plt.axis(False);"
      ],
      "metadata": {
        "colab": {
          "base_uri": "https://localhost:8080/",
          "height": 706
        },
        "id": "hWScKNmJ6Mdz",
        "outputId": "ef46ea92-6305-447a-bce0-2b1d22bc2fb4"
      },
      "execution_count": null,
      "outputs": [
        {
          "output_type": "display_data",
          "data": {
            "text/plain": [
              "<Figure size 900x900 with 9 Axes>"
            ],
            "image/png": "[encoded data removed]"
          },
          "metadata": {}
        }
      ]
    },
    {
      "cell_type": "code",
      "source": [
        "from tqdm.auto import tqdm\n",
        "y_preds_list = []\n",
        "model_2.eval()\n",
        "with torch.inference_mode():\n",
        "    for X, y in tqdm(test_dataloader, desc=\"Making prediction...\"):\n",
        "        X, y = X.to(device), y.to(device)\n",
        "        y_logits = model_2(X)\n",
        "        y_pred = torch.softmax(y_logits.squeeze(), dim=1).argmax(dim=1)\n",
        "        y_preds_list.append(y_pred.cpu())\n",
        "\n",
        "    y_pred_tensor = torch.cat(y_preds_list)\n",
        "    y_pred_tensor[:10]"
      ],
      "metadata": {
        "colab": {
          "base_uri": "https://localhost:8080/",
          "height": 49,
          "referenced_widgets": [
            "260ff88f63114ebdb471c02184d9107b",
            "8ae182cf8a674c74a8695d3f96c5d2a6",
            "673cbe205a9d4106964b40ef73fa7a7b",
            "a7e7fd8c13394c1381e6d2079a3ae29a",
            "51ad0f61169b487a8ea82a932d65cf29",
            "4a71b670b61f40e29b1619e3289a22a1",
            "0a1986bed2eb49e1bf5f2cf2e1adf0da",
            "3e599e3279f644cc99237cc2d116dc35",
            "7826f52f14cd448a948147ae1727d4f8",
            "ef1793e64b9f466a8e25883c9fa5d11e",
            "e5378d1e8b6e4c4fbcb8351c482c8e60"
          ]
        },
        "id": "mvyzgKv8-Cwp",
        "outputId": "5a0b893d-082c-433a-9b71-29cb191013da"
      },
      "execution_count": null,
      "outputs": [
        {
          "output_type": "display_data",
          "data": {
            "text/plain": [
              "Making prediction...:   0%|          | 0/313 [00:00<?, ?it/s]"
            ],
            "application/vnd.jupyter.widget-view+json": {
              "version_major": 2,
              "version_minor": 0,
              "model_id": "260ff88f63114ebdb471c02184d9107b"
            }
          },
          "metadata": {}
        }
      ]
    },
    {
      "cell_type": "code",
      "source": [
        "len(y_pred_tensor), len(test_data)"
      ],
      "metadata": {
        "colab": {
          "base_uri": "https://localhost:8080/"
        },
        "id": "BjD-j784-CkN",
        "outputId": "6cce344e-bfbc-463f-cad2-f592bb955cdc"
      },
      "execution_count": null,
      "outputs": [
        {
          "output_type": "execute_result",
          "data": {
            "text/plain": [
              "(10000, 10000)"
            ]
          },
          "metadata": {},
          "execution_count": 182
        }
      ]
    },
    {
      "cell_type": "code",
      "source": [
        "try:\n",
        "    import torchmetrics, mlxtend\n",
        "    print(f\"mlxtend version: {mlxtend.__version__}\")\n",
        "    assert int(mlxtend.__version__.split(\".\")[1]) >= 19\n",
        "except (ImportError, AssertionError):\n",
        "    !pip install -q torchmetrics -U mlxtend\n",
        "    import torchmetrics, mlxtend\n",
        "    print(f\"mlxtend version: {mlxtend.__version__}\")"
      ],
      "metadata": {
        "colab": {
          "base_uri": "https://localhost:8080/"
        },
        "id": "HKRW_U0bGs8q",
        "outputId": "480fcfa7-c961-4ad2-b342-16bc2693f88d"
      },
      "execution_count": null,
      "outputs": [
        {
          "output_type": "stream",
          "name": "stdout",
          "text": [
            "\u001b[2K   \u001b[90m━━━━━━━━━━━━━━━━━━━━━━━━━━━━━━━━━━━━━━━━\u001b[0m \u001b[32m981.9/981.9 kB\u001b[0m \u001b[31m45.7 MB/s\u001b[0m eta \u001b[36m0:00:00\u001b[0m\n",
            "\u001b[2K   \u001b[90m━━━━━━━━━━━━━━━━━━━━━━━━━━━━━━━━━━━━━━━━\u001b[0m \u001b[32m363.4/363.4 MB\u001b[0m \u001b[31m4.7 MB/s\u001b[0m eta \u001b[36m0:00:00\u001b[0m\n",
            "\u001b[2K   \u001b[90m━━━━━━━━━━━━━━━━━━━━━━━━━━━━━━━━━━━━━━━━\u001b[0m \u001b[32m13.8/13.8 MB\u001b[0m \u001b[31m100.5 MB/s\u001b[0m eta \u001b[36m0:00:00\u001b[0m\n",
            "\u001b[2K   \u001b[90m━━━━━━━━━━━━━━━━━━━━━━━━━━━━━━━━━━━━━━━━\u001b[0m \u001b[32m24.6/24.6 MB\u001b[0m \u001b[31m83.2 MB/s\u001b[0m eta \u001b[36m0:00:00\u001b[0m\n",
            "\u001b[2K   \u001b[90m━━━━━━━━━━━━━━━━━━━━━━━━━━━━━━━━━━━━━━━━\u001b[0m \u001b[32m883.7/883.7 kB\u001b[0m \u001b[31m45.2 MB/s\u001b[0m eta \u001b[36m0:00:00\u001b[0m\n",
            "\u001b[2K   \u001b[90m━━━━━━━━━━━━━━━━━━━━━━━━━━━━━━━━━━━━━━━━\u001b[0m \u001b[32m664.8/664.8 MB\u001b[0m \u001b[31m2.8 MB/s\u001b[0m eta \u001b[36m0:00:00\u001b[0m\n",
            "\u001b[2K   \u001b[90m━━━━━━━━━━━━━━━━━━━━━━━━━━━━━━━━━━━━━━━━\u001b[0m \u001b[32m211.5/211.5 MB\u001b[0m \u001b[31m6.5 MB/s\u001b[0m eta \u001b[36m0:00:00\u001b[0m\n",
            "\u001b[2K   \u001b[90m━━━━━━━━━━━━━━━━━━━━━━━━━━━━━━━━━━━━━━━━\u001b[0m \u001b[32m56.3/56.3 MB\u001b[0m \u001b[31m13.8 MB/s\u001b[0m eta \u001b[36m0:00:00\u001b[0m\n",
            "\u001b[2K   \u001b[90m━━━━━━━━━━━━━━━━━━━━━━━━━━━━━━━━━━━━━━━━\u001b[0m \u001b[32m127.9/127.9 MB\u001b[0m \u001b[31m8.0 MB/s\u001b[0m eta \u001b[36m0:00:00\u001b[0m\n",
            "\u001b[2K   \u001b[90m━━━━━━━━━━━━━━━━━━━━━━━━━━━━━━━━━━━━━━━━\u001b[0m \u001b[32m207.5/207.5 MB\u001b[0m \u001b[31m6.1 MB/s\u001b[0m eta \u001b[36m0:00:00\u001b[0m\n",
            "\u001b[2K   \u001b[90m━━━━━━━━━━━━━━━━━━━━━━━━━━━━━━━━━━━━━━━━\u001b[0m \u001b[32m21.1/21.1 MB\u001b[0m \u001b[31m65.5 MB/s\u001b[0m eta \u001b[36m0:00:00\u001b[0m\n",
            "\u001b[?25hmlxtend version: 0.23.4\n"
          ]
        }
      ]
    },
    {
      "cell_type": "code",
      "source": [
        "from torchmetrics.classification import ConfusionMatrix\n",
        "from mlxtend.plotting import plot_confusion_matrix\n",
        "import matplotlib.pyplot as plt\n",
        "import torch\n",
        "\n",
        "# Step 1: Define the confusion matrix metric\n",
        "confmat = ConfusionMatrix(num_classes=len(class_names), task=\"multiclass\")\n",
        "\n",
        "# Step 2: Get confusion matrix as a tensor\n",
        "confmat_tensor = confmat(preds=y_pred_tensor, target=test_data.targets)\n",
        "\n",
        "# Step 3: Convert to NumPy for plotting\n",
        "confmat_numpy = confmat_tensor.numpy()\n",
        "\n",
        "# Step 4: Plot using mlxtend\n",
        "fig, ax = plot_confusion_matrix(conf_mat=confmat_numpy, class_names=class_names, figsize=(8, 6))\n",
        "plt.show()"
      ],
      "metadata": {
        "colab": {
          "base_uri": "https://localhost:8080/",
          "height": 590
        },
        "id": "w6elS4ywIGHF",
        "outputId": "e22e1bbb-371e-4522-af07-313759406d7a"
      },
      "execution_count": null,
      "outputs": [
        {
          "output_type": "display_data",
          "data": {
            "text/plain": [
              "<Figure size 800x600 with 1 Axes>"
            ],
            "image/png": "[encoded data removed]"
          },
          "metadata": {}
        }
      ]
    },
    {
      "cell_type": "code",
      "source": [
        "from pathlib import Path\n",
        "MODEL_PATH = Path(\"models\")\n",
        "MODEL_PATH.mkdir(parents=True, exist_ok=True)\n",
        "\n",
        "MODEL_NAME = \"Pytorch_CV_workflow_model_2.pth\"\n",
        "MODEL_SAVE_PATH = MODEL_PATH / MODEL_NAME\n",
        "\n",
        "print (f\"Saving model to: {MODEL_SAVE_PATH}\")\n",
        "torch.save(obj=model_2.state_dict(), f=MODEL_SAVE_PATH)\n",
        "\n"
      ],
      "metadata": {
        "colab": {
          "base_uri": "https://localhost:8080/"
        },
        "id": "xBNRQo5UKPoN",
        "outputId": "0d85cf4d-444a-4f59-b1ae-c7d195293914"
      },
      "execution_count": null,
      "outputs": [
        {
          "output_type": "stream",
          "name": "stdout",
          "text": [
            "Saving model to: models/Pytorch_CV_workflow_model_2.pth\n"
          ]
        }
      ]
    },
    {
      "cell_type": "code",
      "source": [
        "torch.manual_seed(42)\n",
        "loaded_model_2 = FashionMNISTV2(input_shape=1,hidden_units=10,output_shape=len(class_names))\n",
        "loaded_model_2.load_state_dict(torch.load(f=MODEL_SAVE_PATH))\n",
        "\n",
        "loaded_model_2.to(device)"
      ],
      "metadata": {
        "colab": {
          "base_uri": "https://localhost:8080/"
        },
        "id": "lNzQGB7XLUer",
        "outputId": "2f547394-3029-435f-fea5-c43012d56a47"
      },
      "execution_count": null,
      "outputs": [
        {
          "output_type": "execute_result",
          "data": {
            "text/plain": [
              "FashionMNISTV2(\n",
              "  (conv_block_1): Sequential(\n",
              "    (0): Conv2d(1, 10, kernel_size=(3, 3), stride=(1, 1), padding=(1, 1))\n",
              "    (1): ReLU()\n",
              "    (2): MaxPool2d(kernel_size=2, stride=2, padding=0, dilation=1, ceil_mode=False)\n",
              "  )\n",
              "  (conv_block_2): Sequential(\n",
              "    (0): Conv2d(10, 10, kernel_size=(3, 3), stride=(1, 1), padding=(1, 1))\n",
              "    (1): ReLU()\n",
              "    (2): MaxPool2d(kernel_size=2, stride=2, padding=0, dilation=1, ceil_mode=False)\n",
              "  )\n",
              "  (classifier): Sequential(\n",
              "    (0): Flatten(start_dim=1, end_dim=-1)\n",
              "    (1): Linear(in_features=490, out_features=10, bias=True)\n",
              "  )\n",
              ")"
            ]
          },
          "metadata": {},
          "execution_count": 192
        }
      ]
    },
    {
      "cell_type": "code",
      "source": [
        "model_2_results"
      ],
      "metadata": {
        "colab": {
          "base_uri": "https://localhost:8080/"
        },
        "id": "2LyzPxC1L3QW",
        "outputId": "d7a9c7d3-326b-492e-a2dd-d8a5ea24a037"
      },
      "execution_count": null,
      "outputs": [
        {
          "output_type": "execute_result",
          "data": {
            "text/plain": [
              "{'model_name': 'FashionMNISTV2',\n",
              " 'model_loss': 0.35945739066258026,\n",
              " 'model_acc': 87.38019169329074}"
            ]
          },
          "metadata": {},
          "execution_count": 193
        }
      ]
    },
    {
      "cell_type": "code",
      "source": [
        "torch.manual_seed(42)\n",
        "loaded_model_2_results = eval_model(model=loaded_model_2,\n",
        "                                    data_loader=test_dataloader,\n",
        "                                    loss_fn=loss_fn,\n",
        "                                    accuracy_fn=accuracy_fn,\n",
        "                                    device=device)\n",
        "loaded_model_2_results"
      ],
      "metadata": {
        "colab": {
          "base_uri": "https://localhost:8080/"
        },
        "id": "BqKe3aSVMD2Z",
        "outputId": "5ef787af-813f-46e9-b909-d739a35bbe2d"
      },
      "execution_count": null,
      "outputs": [
        {
          "output_type": "execute_result",
          "data": {
            "text/plain": [
              "{'model_name': 'FashionMNISTV2',\n",
              " 'model_loss': 0.35945739066258026,\n",
              " 'model_acc': 87.38019169329074}"
            ]
          },
          "metadata": {},
          "execution_count": 194
        }
      ]
    },
    {
      "cell_type": "code",
      "source": [
        "torch.isclose(torch.tensor(model_2_results[\"model_loss\"]), torch.tensor(loaded_model_2_results[\"model_loss\"]), atol=1e-02)"
      ],
      "metadata": {
        "colab": {
          "base_uri": "https://localhost:8080/"
        },
        "id": "HCDDYJQ_MXtR",
        "outputId": "9825a8fd-0e00-4860-fea6-3193c9622fc5"
      },
      "execution_count": null,
      "outputs": [
        {
          "output_type": "execute_result",
          "data": {
            "text/plain": [
              "tensor(True)"
            ]
          },
          "metadata": {},
          "execution_count": 197
        }
      ]
    },
    {
      "cell_type": "code",
      "source": [],
      "metadata": {
        "id": "amG2hZHsMuCy"
      },
      "execution_count": null,
      "outputs": []
    }
  ]
}